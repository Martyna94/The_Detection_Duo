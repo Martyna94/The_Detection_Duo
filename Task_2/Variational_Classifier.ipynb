{
 "cells": [
  {
   "cell_type": "markdown",
   "metadata": {},
   "source": [
    "# Variational classifier\n",
    "<a id=\"0\"></a>\n",
    "1. [Variational classifier for parity function](#1)\n",
    "   1. [Classical data preparation ](#2)\n",
    "   2. [Ansatz](#3)\n",
    "   3. [Training](#4)\n",
    "      1.[Cost function](#5)\n",
    "      2.[Optimization](#6)\n",
    "   4. [Evaluating](#7)\n",
    "2. [Full code](#8)"
   ]
  },
  {
   "cell_type": "markdown",
   "metadata": {},
   "source": [
    "<a id=\"1\"></a>\n",
    "## Variational classifier"
   ]
  },
  {
   "cell_type": "markdown",
   "metadata": {
    "pycharm": {
     "name": "#%% md\n"
    }
   },
   "source": [
    "A variational classifier is a type of quantum machine learning model that combines classical machine learning techniques with quantum computing. It uses a parameterized quantum circuit, also known as a variational circuit, to process input data and perform classification tasks. The parameters of the quantum circuit are optimized during training to minimize a cost function, similar to how weights are optimized in classical neural networks.\n",
    "\n",
    "Variational circuit as a classifier we can divide into following step:\n",
    "\n",
    "**Step 1**: Encode the classical data into a quantum state (state preparation)\n",
    "\n",
    "**Step 2**: Apply a parameterized model (ansatz)\n",
    "\n",
    "**Step 3**: Measure the circuit to extract labels\n",
    "\n",
    "**Step 4**: Use optimization techniques (like gradient descent) to update model parameter (classical part)\n",
    "\n",
    "This process is visualized in the figure below.\n",
    "\n",
    "<img src=\"images/VariationalCircuit.png\" alt=\"scheme\" width=\"500\" />\n"
   ]
  },
  {
   "cell_type": "markdown",
   "metadata": {
    "pycharm": {
     "name": "#%% md\n"
    }
   },
   "source": [
    "<a id=\"2\"></a>\n",
    "## Classical data preparation"
   ]
  },
  {
   "cell_type": "markdown",
   "metadata": {},
   "source": [
    "### Eigenvalue for PauliZ Observable\n",
    "\n",
    "In quantum mechanics, a physical system can exist in various states, each associated with specific properties, such as energy levels. These states are represented by eigenvectors, and the energies corresponding to these states are given by eigenvalues. For the Pauli-Z observable:\n",
    "\n",
    "- The eigenstate corresponding to the eigenvalue \\( +1 \\) is $|0\\rangle$ (the qubit is in the state 0).\n",
    "- The eigenstate corresponding to the eigenvalue \\( -1 \\) is $|1\\rangle$ (the qubit is in the state 1).\n",
    "\n",
    "### Quantum Circuit Output and Label Shifting\n",
    "\n",
    "In the quantum circuit described, the output is obtained through `qml.expval(qml.PauliZ(0))`. This means the circuit measures the expectation value of the Pauli-Z operator on qubit 0, which yields results in the range ${-1, 1}$.\n",
    "\n",
    "By shifting the labels from ${0, 1}$ to ${-1, 1}$, we ensure consistency between the quantum circuit's output and the label space:\n",
    "- The measurement outcomes of the Pauli-Z observable naturally fall within the ${-1, 1}$.\n",
    "- Aligning the labels with this range simplifies the interpretation of the quantum circuit's output in the context of binary classification tasks.\n",
    "\n",
    "### Conclusion\n",
    "\n",
    "Shifting the labels to  ${-1, 1}$ ensures that the output of the quantum circuit, which ranges from $-1$ to $1$ due to the Pauli-Z measurement, directly corresponds to the label space used in classification. This alignment facilitates clear interpretation and seamless integration of quantum computing techniques with classical machine learning methods.\n"
   ]
  },
  {
   "cell_type": "code",
   "execution_count": 1,
   "metadata": {
    "pycharm": {
     "name": "#%%\n"
    }
   },
   "outputs": [
    {
     "name": "stdout",
     "output_type": "stream",
     "text": [
      "x = [0 0 0 1], y = 1\n",
      "x = [0 0 1 0], y = 1\n",
      "x = [0 1 0 0], y = 1\n",
      "x = [0 1 0 1], y = -1\n",
      "x = [0 1 1 0], y = -1\n",
      "x = [0 1 1 1], y = 1\n",
      "x = [1 0 0 0], y = 1\n",
      "x = [1 0 0 1], y = -1\n",
      "x = [1 0 1 1], y = 1\n",
      "x = [1 1 1 1], y = -1\n"
     ]
    }
   ],
   "source": [
    "from modules.utils import load_data_4_qubit\n",
    "X_train, Y_train, X_test,Y_test = load_data_4_qubit()"
   ]
  },
  {
   "cell_type": "markdown",
   "metadata": {},
   "source": [
    "<a id=\"3\"></a>\n",
    "## Parametrized circuit (ansatz)"
   ]
  },
  {
   "cell_type": "markdown",
   "metadata": {},
   "source": [
    "The quantum model (ansatz), which is part of a variational classifier, is shown in the figure below:\n",
    "\n",
    "<img src=\"images/Ansatz.jpg\" alt=\"scheme\" width=\"500\" />\n",
    "\n",
    "Ansatz we can defined a “layer” or “block”, which is an elementary circuit architecture that gets repeated to build the full parametrized circuit."
   ]
  },
  {
   "cell_type": "markdown",
   "metadata": {},
   "source": [
    "Any single-qubit unitary matrix can be expressed as:\n",
    "$$U(\\phi, \\theta, \\omega) = \\begin{pmatrix}\n",
    "e^{-i(\\phi + \\omega)/2} \\cos(\\theta/2) & -e^{i(\\phi - \\omega)/2} \\sin(\\theta/2) \\\\\n",
    "e^{-i(\\phi - \\omega)/2} \\sin(\\theta/2) & e^{i(\\phi + \\omega)/2} \\cos(\\theta/2)\n",
    "\\end{pmatrix}$$, where $\\phi, \\theta, \\omega$ are real numbers.\n",
    "$U(\\phi, \\theta, \\omega)$ can be expressed as\n",
    "$$U(\\phi, \\theta, \\omega) = RZ(\\omega) RY(\\theta) RZ(\\phi)$$\n",
    "This arbitrary single qubit rotation is called `qml.Rot()` in Pennylane.\n",
    "Consider the single qubit circuits shown in the figure below, that ranges in their abilities to explore the Bloch sphere.\n",
    "<img src=\"images/Arbitrary_unitary_expressibility.png\" alt=\"scheme\" width=\"500\" />\n",
    "\n",
    "Image from [Expressibility and entangling capability of parameterized quantum circuits for hybrid quantum-classical algorithms](https://arxiv.org/abs/1905.10876)"
   ]
  },
  {
   "cell_type": "markdown",
   "metadata": {},
   "source": [
    "Instead of writing out each gate ([qml.Rot](https://docs.pennylane.ai/en/stable/code/api/pennylane.Rot.html), [qml.CNOT]()) application individually, we used the built-in function `qml.broadcast`, which allows us to specify the operation once and apply it to all specified qubits in a single command.\n",
    "Function [qml.broadcast](https://docs.pennylane.ai/en/stable/code/api/pennylane.broadcast.html) applies a unitary multiple times to a specific pattern of wires. This function enables scalable implementation by facilitating uniform operations across a large qubit register without the need for manual repetirion, which would be cumbersome and error-prone in large-scale circuit."
   ]
  },
  {
   "cell_type": "code",
   "execution_count": 2,
   "metadata": {
    "collapsed": true
   },
   "outputs": [],
   "source": [
    "import pennylane as qml\n",
    "from pennylane import numpy as np\n",
    "\n",
    "dev = qml.device(\"default.qubit\")\n",
    "def layer(layer_weights, wires):\n",
    "    qml.broadcast(qml.Rot,wires=wires,pattern='single',parameters=layer_weights)\n",
    "    qml.broadcast(qml.CNOT, wires=wires, pattern='ring')"
   ]
  },
  {
   "cell_type": "markdown",
   "metadata": {
    "pycharm": {
     "name": "#%% md\n"
    }
   },
   "source": [
    "Let's check our circuit layer."
   ]
  },
  {
   "cell_type": "code",
   "execution_count": 3,
   "metadata": {
    "pycharm": {
     "name": "#%%\n"
    }
   },
   "outputs": [
    {
     "data": {
      "text/plain": [
       "(<Figure size 800x500 with 1 Axes>, <Axes: >)"
      ]
     },
     "execution_count": 3,
     "metadata": {},
     "output_type": "execute_result"
    },
    {
     "data": {
      "image/png": "[encoded data removed]",
      "text/plain": [
       "<Figure size 800x500 with 1 Axes>"
      ]
     },
     "metadata": {},
     "output_type": "display_data"
    }
   ],
   "source": [
    "layer_weights = 0.01 * np.random.randn(4,3, requires_grad=True)\n",
    "wires = [i for i in range(4)]\n",
    "qml.draw_mpl(layer,style='pennylane')(layer_weights,wires)"
   ]
  },
  {
   "cell_type": "markdown",
   "metadata": {},
   "source": [
    "Now we need to encode our classic data into circuit. This part is called state preparation. We use [BasisState](https://docs.pennylane.ai/en/stable/code/api/pennylane.BasisState.html).\n",
    "We parametrize wires depending on the length of X."
   ]
  },
  {
   "cell_type": "code",
   "execution_count": 9,
   "metadata": {
    "pycharm": {
     "name": "#%%\n"
    }
   },
   "outputs": [],
   "source": [
    "def state_preparation(x,wires):\n",
    "    BasisEmbedding(x, wires=wires)"
   ]
  },
  {
   "cell_type": "markdown",
   "metadata": {},
   "source": [
    "Now, we define the variational quantum circuit, where `state_preparation` initializes the quantum state based on input data, `weights` parameterize the quantum gates or operations in each layer, and the expectation value calculation provides a measure of the circuit's performance or output.\n",
    "For the Pauli-Z observable:\n",
    "- The eigenstate corresponding to the eigenvalue \\( +1 \\) is $|0\\rangle$ (the qubit is in the state 0).\n",
    "- The eigenstate corresponding to the eigenvalue \\( -1 \\) is $|1\\rangle$ (the qubit is in the state 1)."
   ]
  },
  {
   "cell_type": "code",
   "execution_count": 10,
   "metadata": {
    "pycharm": {
     "name": "#%%\n"
    }
   },
   "outputs": [],
   "source": [
    "@qml.qnode(dev)\n",
    "def circuit(weights, x):\n",
    "    wires = [i for i in range(len(x))]\n",
    "    # Step 1: Encode the classical data into a quantum state (state preparation)\n",
    "    state_preparation(x,wires)\n",
    "    #  Step 2: Apply a parameterized model (ansatz)\n",
    "    for layer_weights in weights:\n",
    "        layer(layer_weights, wires)\n",
    "    #Step 3: Measure the circuit to extract labels\n",
    "    return qml.expval(qml.PauliZ(0))\n"
   ]
  },
  {
   "cell_type": "code",
   "execution_count": 11,
   "metadata": {
    "pycharm": {
     "name": "#%%\n"
    }
   },
   "outputs": [
    {
     "data": {
      "text/plain": [
       "tensor(-0.99960961, requires_grad=True)"
      ]
     },
     "execution_count": 11,
     "metadata": {},
     "output_type": "execute_result"
    }
   ],
   "source": [
    "num_layers=2\n",
    "num_qubits=4\n",
    "weights_init = 0.01 * np.random.randn(num_layers, num_qubits, 3, requires_grad=True)\n",
    "circuit(weights_init,X_train[0])"
   ]
  },
  {
   "cell_type": "markdown",
   "metadata": {},
   "source": [
    "\n",
    "Incorporating a bias parameter ensures that our ansatz is more versatile and capable of handling a wider range of data distributions. This leads to better performance and more accurate predictions. The bias term allows the model to shift the decision boundary without relying solely on the weighted inputs, giving the classifier more flexibility in fitting the data."
   ]
  },
  {
   "cell_type": "code",
   "execution_count": 12,
   "metadata": {
    "pycharm": {
     "name": "#%%\n"
    }
   },
   "outputs": [],
   "source": [
    "def variational_classifier(weights, bias, x):\n",
    "    return circuit(weights, x) + bias"
   ]
  },
  {
   "cell_type": "markdown",
   "metadata": {},
   "source": [
    "<a id=\"4\"></a>\n",
    "## Training\n",
    "<a id=\"5\"></a>\n",
    "### Cost function\n",
    "\n",
    "The provided code defines two functions: `square_loss` and `cost`.\n",
    "**Loss function**\n",
    "The loss function is a key component of any machine learning model. It quantifies the error between the predicted values and the actual values (labels). The goal of training is to minimize this loss function. The `square_loss` function implements the **Mean Squared Error (MSE)** loss. MSE is commonly used in regression tasks to measure the average squared difference between the predicted values and the actual values. The formula for MSE is:\n",
    "$$\\text{MSE} = \\frac{1}{n} \\sum_{i=1}^{n} (y_i - \\hat{y}_i)^2$$\n",
    "\n",
    "where $y_i$ are the actual labels, $\\hat{y}_i$ are the predicted values, and $n$ is the number of samples.\n",
    "\n",
    "**Cost function**\n",
    "The cost function aggregates the loss over the entire dataset. In this context, it uses the variational quantum classifier to make predictions for each data point, computes the loss for each prediction, and then averages these losses to get the overall cost.\n"
   ]
  },
  {
   "cell_type": "code",
   "execution_count": 13,
   "metadata": {
    "pycharm": {
     "name": "#%%\n"
    }
   },
   "outputs": [],
   "source": [
    "def square_loss(labels, predictions):\n",
    "    # We use a call to qml.math.stack to allow subtracting the arrays directly\n",
    "    return np.mean((labels - qml.math.stack(predictions)) ** 2)\n",
    "\n",
    "def cost(weights, bias, X, Y):\n",
    "    predictions = [variational_classifier(weights, bias, x) for x in X]\n",
    "    return square_loss(Y, predictions)\n"
   ]
  },
  {
   "cell_type": "markdown",
   "metadata": {
    "pycharm": {
     "name": "#%% md\n"
    }
   },
   "source": [
    "The goal of these functions is to provide a quantitative measure of how well the variational quantum classifier is performing, which we can use to adjust the parameters (weights and biases) of the model to improve its metrics."
   ]
  },
  {
   "cell_type": "markdown",
   "metadata": {},
   "source": [
    "<a id=\"6\"></a>\n",
    "### Optimization\n",
    "The small initial weight values are chosen to ensure that the training process starts smoothly and avoids numerical issues that could arise from very large or very small initial weights. This practice is based on empirical findings that suggest models train more effectively when starting with small random weights.\n",
    "In our implementation, we can choose different optimizers. This is certainly useful when the training dataset is larger."
   ]
  },
  {
   "cell_type": "code",
   "execution_count": 2,
   "metadata": {
    "pycharm": {
     "name": "#%%\n"
    }
   },
   "outputs": [
    {
     "name": "stdout",
     "output_type": "stream",
     "text": [
      "x = [0 0 0 1], y = 1\n",
      "x = [0 0 1 0], y = 1\n",
      "x = [0 1 0 0], y = 1\n",
      "x = [0 1 0 1], y = -1\n",
      "x = [0 1 1 0], y = -1\n",
      "x = [0 1 1 1], y = 1\n",
      "x = [1 0 0 0], y = 1\n",
      "x = [1 0 0 1], y = -1\n",
      "x = [1 0 1 1], y = 1\n",
      "x = [1 1 1 1], y = -1\n",
      "Epoch: 0 | Cost: 2.5544335 | Acc train: 0.2000000 | Acc validation: 0.5000000\n",
      "Epoch: 1 | Cost: 0.6238259 | Acc train: 0.8000000 | Acc validation: 0.5000000\n",
      "Epoch: 2 | Cost: 0.0014369 | Acc train: 1.0000000 | Acc validation: 0.5000000\n",
      "Epoch: 3 | Cost: 0.7734843 | Acc train: 0.6000000 | Acc validation: 0.5000000\n",
      "Epoch: 4 | Cost: 0.9509335 | Acc train: 0.6000000 | Acc validation: 0.3333333\n",
      "Epoch: 5 | Cost: 0.7933134 | Acc train: 0.8000000 | Acc validation: 0.5000000\n",
      "Epoch: 6 | Cost: 0.0536897 | Acc train: 1.0000000 | Acc validation: 0.6666667\n",
      "Epoch: 7 | Cost: 1.0374944 | Acc train: 0.8000000 | Acc validation: 0.6666667\n",
      "Epoch: 8 | Cost: 0.0873381 | Acc train: 1.0000000 | Acc validation: 0.3333333\n",
      "Epoch: 9 | Cost: 0.6576230 | Acc train: 0.8000000 | Acc validation: 0.3333333\n",
      "Epoch: 10 | Cost: 1.1038548 | Acc train: 0.6000000 | Acc validation: 0.3333333\n",
      "Epoch: 11 | Cost: 0.1920723 | Acc train: 1.0000000 | Acc validation: 0.3333333\n",
      "Epoch: 12 | Cost: 0.0516771 | Acc train: 1.0000000 | Acc validation: 0.3333333\n",
      "Epoch: 13 | Cost: 0.6825384 | Acc train: 0.6000000 | Acc validation: 0.6666667\n",
      "Epoch: 14 | Cost: 0.4481443 | Acc train: 0.8000000 | Acc validation: 0.3333333\n",
      "Epoch: 15 | Cost: 0.3243577 | Acc train: 1.0000000 | Acc validation: 0.6666667\n",
      "Epoch: 16 | Cost: 0.1107115 | Acc train: 1.0000000 | Acc validation: 0.3333333\n",
      "Epoch: 17 | Cost: 1.0223491 | Acc train: 0.4000000 | Acc validation: 0.5000000\n",
      "Epoch: 18 | Cost: 0.4352516 | Acc train: 0.8000000 | Acc validation: 0.5000000\n",
      "Epoch: 19 | Cost: 0.6298809 | Acc train: 0.8000000 | Acc validation: 0.3333333\n",
      "Epoch: 20 | Cost: 0.1493134 | Acc train: 1.0000000 | Acc validation: 0.3333333\n",
      "Epoch: 21 | Cost: 0.8301792 | Acc train: 0.8000000 | Acc validation: 0.3333333\n",
      "Epoch: 22 | Cost: 0.9719239 | Acc train: 0.4000000 | Acc validation: 0.3333333\n",
      "Epoch: 23 | Cost: 0.7415265 | Acc train: 0.6000000 | Acc validation: 0.5000000\n",
      "Epoch: 24 | Cost: 0.9330116 | Acc train: 0.6000000 | Acc validation: 0.6666667\n",
      "Epoch: 25 | Cost: 0.4408708 | Acc train: 0.8000000 | Acc validation: 0.3333333\n",
      "Epoch: 26 | Cost: 0.6824692 | Acc train: 0.8000000 | Acc validation: 0.3333333\n",
      "Epoch: 27 | Cost: 0.8042715 | Acc train: 0.8000000 | Acc validation: 0.6666667\n",
      "Epoch: 28 | Cost: 0.8388410 | Acc train: 0.6000000 | Acc validation: 0.6666667\n",
      "Epoch: 29 | Cost: 0.6511621 | Acc train: 0.8000000 | Acc validation: 0.3333333\n",
      "Epoch: 30 | Cost: 1.0101751 | Acc train: 0.6000000 | Acc validation: 0.6666667\n",
      "Epoch: 31 | Cost: 0.8048105 | Acc train: 0.8000000 | Acc validation: 0.5000000\n",
      "Epoch: 32 | Cost: 0.0953536 | Acc train: 1.0000000 | Acc validation: 0.6666667\n",
      "Epoch: 33 | Cost: 0.5629686 | Acc train: 0.8000000 | Acc validation: 0.6666667\n",
      "Epoch: 34 | Cost: 0.7451571 | Acc train: 0.6000000 | Acc validation: 0.5000000\n",
      "Epoch: 35 | Cost: 0.0163980 | Acc train: 1.0000000 | Acc validation: 0.3333333\n",
      "Epoch: 36 | Cost: 0.5343149 | Acc train: 0.8000000 | Acc validation: 0.3333333\n",
      "Epoch: 37 | Cost: 0.0098217 | Acc train: 1.0000000 | Acc validation: 0.3333333\n",
      "Epoch: 38 | Cost: 0.8554885 | Acc train: 0.6000000 | Acc validation: 0.6666667\n",
      "Epoch: 39 | Cost: 0.6817114 | Acc train: 0.8000000 | Acc validation: 0.6666667\n",
      "Epoch: 40 | Cost: 0.2126096 | Acc train: 1.0000000 | Acc validation: 0.3333333\n",
      "Epoch: 41 | Cost: 0.4857483 | Acc train: 0.8000000 | Acc validation: 0.3333333\n",
      "Epoch: 42 | Cost: 1.3013798 | Acc train: 0.0000000 | Acc validation: 0.5000000\n",
      "Epoch: 43 | Cost: 1.0740006 | Acc train: 0.6000000 | Acc validation: 0.3333333\n",
      "Epoch: 44 | Cost: 0.6504391 | Acc train: 0.8000000 | Acc validation: 0.6666667\n",
      "Epoch: 45 | Cost: 0.8214757 | Acc train: 0.6000000 | Acc validation: 0.3333333\n",
      "Epoch: 46 | Cost: 0.5253471 | Acc train: 0.8000000 | Acc validation: 0.3333333\n",
      "Epoch: 47 | Cost: 0.5744869 | Acc train: 0.6000000 | Acc validation: 0.6666667\n",
      "Epoch: 48 | Cost: 0.7466325 | Acc train: 0.8000000 | Acc validation: 0.5000000\n",
      "Epoch: 49 | Cost: 0.6510494 | Acc train: 0.8000000 | Acc validation: 0.8333333\n",
      "Epoch: 50 | Cost: 0.4880957 | Acc train: 1.0000000 | Acc validation: 1.0000000\n",
      "Epoch: 51 | Cost: 0.2047143 | Acc train: 1.0000000 | Acc validation: 1.0000000\n",
      "Epoch: 52 | Cost: 0.0468294 | Acc train: 1.0000000 | Acc validation: 1.0000000\n",
      "Epoch: 53 | Cost: 0.0195727 | Acc train: 1.0000000 | Acc validation: 1.0000000\n",
      "Epoch: 54 | Cost: 0.0170392 | Acc train: 1.0000000 | Acc validation: 1.0000000\n",
      "Epoch: 55 | Cost: 0.0352182 | Acc train: 1.0000000 | Acc validation: 1.0000000\n",
      "Epoch: 56 | Cost: 0.0278462 | Acc train: 1.0000000 | Acc validation: 1.0000000\n",
      "Epoch: 57 | Cost: 0.0299340 | Acc train: 1.0000000 | Acc validation: 1.0000000\n",
      "Epoch: 58 | Cost: 0.0127882 | Acc train: 1.0000000 | Acc validation: 1.0000000\n",
      "Epoch: 59 | Cost: 0.0034148 | Acc train: 1.0000000 | Acc validation: 1.0000000\n",
      "Epoch: 60 | Cost: 0.0018238 | Acc train: 1.0000000 | Acc validation: 1.0000000\n",
      "Epoch: 61 | Cost: 0.0010579 | Acc train: 1.0000000 | Acc validation: 1.0000000\n",
      "Epoch: 62 | Cost: 0.0008622 | Acc train: 1.0000000 | Acc validation: 1.0000000\n",
      "Epoch: 63 | Cost: 0.0018967 | Acc train: 1.0000000 | Acc validation: 1.0000000\n",
      "Epoch: 64 | Cost: 0.0024556 | Acc train: 1.0000000 | Acc validation: 1.0000000\n",
      "Epoch: 65 | Cost: 0.0029301 | Acc train: 1.0000000 | Acc validation: 1.0000000\n",
      "Epoch: 66 | Cost: 0.0032028 | Acc train: 1.0000000 | Acc validation: 1.0000000\n",
      "Epoch: 67 | Cost: 0.0026079 | Acc train: 1.0000000 | Acc validation: 1.0000000\n",
      "Epoch: 68 | Cost: 0.0019706 | Acc train: 1.0000000 | Acc validation: 1.0000000\n",
      "Epoch: 69 | Cost: 0.0013371 | Acc train: 1.0000000 | Acc validation: 1.0000000\n",
      "Epoch: 70 | Cost: 0.0008675 | Acc train: 1.0000000 | Acc validation: 1.0000000\n",
      "Epoch: 71 | Cost: 0.0005072 | Acc train: 1.0000000 | Acc validation: 1.0000000\n",
      "Epoch: 72 | Cost: 0.0003198 | Acc train: 1.0000000 | Acc validation: 1.0000000\n",
      "Epoch: 73 | Cost: 0.0001309 | Acc train: 1.0000000 | Acc validation: 1.0000000\n",
      "Epoch: 74 | Cost: 0.0001733 | Acc train: 1.0000000 | Acc validation: 1.0000000\n",
      "Epoch: 75 | Cost: 0.0001152 | Acc train: 1.0000000 | Acc validation: 1.0000000\n",
      "Epoch: 76 | Cost: 0.0001201 | Acc train: 1.0000000 | Acc validation: 1.0000000\n",
      "Epoch: 77 | Cost: 0.0000617 | Acc train: 1.0000000 | Acc validation: 1.0000000\n",
      "Epoch: 78 | Cost: 0.0000969 | Acc train: 1.0000000 | Acc validation: 1.0000000\n",
      "Epoch: 79 | Cost: 0.0001185 | Acc train: 1.0000000 | Acc validation: 1.0000000\n",
      "Epoch: 80 | Cost: 0.0001566 | Acc train: 1.0000000 | Acc validation: 1.0000000\n",
      "Epoch: 81 | Cost: 0.0001010 | Acc train: 1.0000000 | Acc validation: 1.0000000\n",
      "Epoch: 82 | Cost: 0.0001372 | Acc train: 1.0000000 | Acc validation: 1.0000000\n",
      "Epoch: 83 | Cost: 0.0001444 | Acc train: 1.0000000 | Acc validation: 1.0000000\n",
      "Epoch: 84 | Cost: 0.0001136 | Acc train: 1.0000000 | Acc validation: 1.0000000\n",
      "Epoch: 85 | Cost: 0.0001086 | Acc train: 1.0000000 | Acc validation: 1.0000000\n",
      "Epoch: 86 | Cost: 0.0000028 | Acc train: 1.0000000 | Acc validation: 1.0000000\n",
      "Epoch: 87 | Cost: 0.0000800 | Acc train: 1.0000000 | Acc validation: 1.0000000\n",
      "Epoch: 88 | Cost: 0.0000797 | Acc train: 1.0000000 | Acc validation: 1.0000000\n",
      "Epoch: 89 | Cost: 0.0000503 | Acc train: 1.0000000 | Acc validation: 1.0000000\n",
      "Epoch: 90 | Cost: 0.0000661 | Acc train: 1.0000000 | Acc validation: 1.0000000\n",
      "Epoch: 91 | Cost: 0.0000528 | Acc train: 1.0000000 | Acc validation: 1.0000000\n",
      "Epoch: 92 | Cost: 0.0000281 | Acc train: 1.0000000 | Acc validation: 1.0000000\n",
      "Epoch: 93 | Cost: 0.0000269 | Acc train: 1.0000000 | Acc validation: 1.0000000\n",
      "Epoch: 94 | Cost: 0.0000231 | Acc train: 1.0000000 | Acc validation: 1.0000000\n",
      "Epoch: 95 | Cost: 0.0000001 | Acc train: 1.0000000 | Acc validation: 1.0000000\n",
      "Epoch: 96 | Cost: 0.0000274 | Acc train: 1.0000000 | Acc validation: 1.0000000\n",
      "Epoch: 97 | Cost: 0.0000231 | Acc train: 1.0000000 | Acc validation: 1.0000000\n",
      "Epoch: 98 | Cost: 0.0000000 | Acc train: 1.0000000 | Acc validation: 1.0000000\n",
      "Epoch: 99 | Cost: 0.0000176 | Acc train: 1.0000000 | Acc validation: 1.0000000\n"
     ]
    }
   ],
   "source": [
    "from modules.training import circuit_training\n",
    "import pennylane.numpy as np\n",
    "from modules.utils import load_data_4_qubit\n",
    "X_train, Y_train, X_test,Y_test = load_data_4_qubit()\n",
    "\n",
    "\n",
    "num_qubits = 4\n",
    "num_layers = 2\n",
    "learning_rate= 0.5\n",
    "batch_size = 5\n",
    "num_epochs = 100\n",
    "\n",
    "#Step 4: Use optimization techniques (like gradient descent) to update model parameter (classical part)\n",
    "weights, costs, train_accuracies, val_accuracies, biases = circuit_training(X_train,Y_train,X_test,Y_test, num_qubits, num_layers,learning_rate,batch_size,num_epochs,seed = 0)"
   ]
  },
  {
   "cell_type": "markdown",
   "metadata": {},
   "source": [
    "<a id=\"7\"></a>\n",
    "## Metrics\n",
    "1. **Accuracy**\n",
    "Accuracy is a measure of how often the classifier makes correct predictions. It is defined as the ratio of correctly predicted instances to the total instances. Mathematically, it is expressed as:\n",
    "$$\\text{Accuracy} = \\frac{\\text{Number of Correct Predictions}}{\\text{Total Number of Predictions}}\n",
    "$$\n",
    "2. **Precision**\n",
    "Precision is the ratio of correctly predicted positive observations to the total predicted positives. It is an important metric when the cost of false positives is high.\n",
    "$$\\text{Precision} = \\frac{\\text{TP}}{\\text{TP}+\\text{FP}}$$\n",
    ",where: $\\text{TP = True Positives}$,$\\text{FP = False Positives}$\n",
    "\n",
    "3. **Recall**\n",
    "Recall (also known as Sensitivity) is the ratio of correctly predicted positive observations to all observations in the actual class. It is important when the cost of false negatives is high.\n",
    "$$\\text{Recall} = \\frac{\\text{TP}}{\\text{TP}+\\text{FN}}$$\n",
    "4. **F1 Score**\n",
    "F1 Score is the harmonic mean of precision and recall. It is a balance between precision and recall and is useful when the distribution between positive and negative classes is uneven.\n",
    "$$\\text{F1 Score} = 2*\\frac{\\text{Precision}* \\text{Recall}}{\\text{Precision}+\\text{Recall}}$$\n",
    "\n",
    "5. **Area Under the Receiver Operating Characteristic Curve (ROC AUC)**\n",
    "AUC-ROC measures the ability of the classifier to distinguish between classes. The ROC curve is a plot of the true positive rate (recall) against the false positive rate (FPR) at various threshold settings.\n"
   ]
  },
  {
   "cell_type": "code",
   "execution_count": 3,
   "metadata": {
    "pycharm": {
     "name": "#%%\n"
    }
   },
   "outputs": [
    {
     "name": "stdout",
     "output_type": "stream",
     "text": [
      "Accuracy: 1.0 | Precision: 1.0 | Recall: 1.0 | F1 Score: 1.0 | AUC-ROC: 1.0\n"
     ]
    },
    {
     "data": {
      "image/png": "[encoded data removed]",
      "text/plain": [
       "<Figure size 640x480 with 2 Axes>"
      ]
     },
     "metadata": {},
     "output_type": "display_data"
    }
   ],
   "source": [
    "from modules.metrics import show_all_metrics\n",
    "import pennylane.numpy as np\n",
    "from modules.training import compute_predictions\n",
    "bias_init = np.array(0.0, requires_grad=True)\n",
    "\n",
    "test_predictions = compute_predictions(weights=weights, bias=bias_init, X = X_test, num_qubits=num_qubits, state_prep=None)\n",
    "show_all_metrics(Y_test,test_predictions)"
   ]
  },
  {
   "cell_type": "markdown",
   "metadata": {},
   "source": []
  },
  {
   "cell_type": "markdown",
   "metadata": {},
   "source": [
    "<a id=\"8\"></a>\n",
    "## Full code"
   ]
  },
  {
   "cell_type": "code",
   "execution_count": null,
   "metadata": {
    "pycharm": {
     "is_executing": true,
     "name": "#%%\n"
    }
   },
   "outputs": [],
   "source": [
    "import pennylane as qml\n",
    "from pennylane import numpy as np\n",
    "from pennylane.optimize import NesterovMomentumOptimizer\n",
    "from pennylane import BasisEmbedding,AmplitudeEmbedding,AngleEmbedding\n",
    "from modules.metrics import accuracy\n",
    "\n",
    "dev = qml.device(\"default.qubit\")\n",
    "def layer(layer_weights, wires):\n",
    "    qml.broadcast(qml.Rot,wires=wires,pattern='single',parameters=layer_weights)\n",
    "    qml.broadcast(qml.CNOT, wires=wires, pattern='ring')\n",
    "\n",
    "def state_preparation(x,wires):\n",
    "    BasisEmbedding(x, wires=wires)\n",
    "\n",
    "@qml.qnode(dev)\n",
    "def circuit(weights, x):\n",
    "    wires = [i for i in range(len(x))]\n",
    "\n",
    "    state_preparation(x,wires)\n",
    "\n",
    "    for layer_weights in weights:\n",
    "        layer(layer_weights, wires)\n",
    "\n",
    "    return qml.expval(qml.PauliZ(0))\n",
    "\n",
    "def variational_classifier(weights, bias, x):\n",
    "    return circuit(weights, x) + bias\n",
    "\n",
    "def square_loss(labels, predictions):\n",
    "    # We use a call to qml.math.stack to allow subtracting the arrays directly\n",
    "    return np.mean((labels - qml.math.stack(predictions)) ** 2)\n",
    "\n",
    "def cost(weights, bias, X, Y):\n",
    "    predictions = [variational_classifier(weights, bias, x) for x in X]\n",
    "    return square_loss(Y, predictions)\n",
    "\n",
    "from modules.utils import load_data_4_qubit\n",
    "X_train, Y_train, X_test,Y_test = load_data_4_qubit()\n",
    "\n",
    "np.random.seed(0)\n",
    "num_qubits = 4\n",
    "num_layers = 2\n",
    "weights_init = 0.01 * np.random.randn(num_layers, num_qubits, 3, requires_grad=True)\n",
    "bias_init = np.array(0.0, requires_grad=True)\n",
    "\n",
    "print(\"Weights:\", weights_init)\n",
    "print(\"Bias: \", bias_init)\n",
    "\n",
    "opt = NesterovMomentumOptimizer(0.5)\n",
    "batch_size = 5\n",
    "weights = weights_init\n",
    "bias = bias_init\n",
    "for it in range(100):\n",
    "\n",
    "    # Update the weights by one optimizer step, using only a limited batch of data\n",
    "    batch_index = np.random.randint(0, len(X_train), (batch_size,))\n",
    "    X_batch = X_train[batch_index]\n",
    "    Y_batch = Y_train[batch_index]\n",
    "    weights, bias = opt.step(cost, weights, bias, X=X_batch, Y=Y_batch)\n",
    "\n",
    "    # Compute accuracy\n",
    "    predictions = [np.sign(variational_classifier(weights, bias, x)) for x in X_batch]\n",
    "\n",
    "    current_cost = cost(weights, bias, X_batch, Y_batch)\n",
    "    acc = accuracy(Y_batch, predictions)\n",
    "\n",
    "    print(f\"Iter: {it+1:4d} | Cost: {current_cost:0.7f} | Accuracy: {acc:0.7f}\")"
   ]
  },
  {
   "cell_type": "markdown",
   "metadata": {
    "pycharm": {
     "name": "#%% md\n"
    }
   },
   "source": [
    "\n"
   ]
  }
 ],
 "metadata": {
  "kernelspec": {
   "display_name": "Python 3 (ipykernel)",
   "language": "python",
   "name": "python3"
  },
  "language_info": {
   "codemirror_mode": {
    "name": "ipython",
    "version": 3
   },
   "file_extension": ".py",
   "mimetype": "text/x-python",
   "name": "python",
   "nbconvert_exporter": "python",
   "pygments_lexer": "ipython3",
   "version": "3.10.12"
  }
 },
 "nbformat": 4,
 "nbformat_minor": 1
}