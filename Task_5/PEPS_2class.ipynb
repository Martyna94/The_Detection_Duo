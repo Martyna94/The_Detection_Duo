{
 "cells": [
  {
   "cell_type": "markdown",
   "source": [
    "### Upload a data\n",
    "\n",
    "`X_train` - train image dataset\n",
    "`Y_train` - train label dataset\n",
    "`X_test` - test image dataset\n",
    "`Y_test` - test label dataset"
   ],
   "metadata": {
    "collapsed": false,
    "pycharm": {
     "name": "#%% md\n"
    }
   }
  },
  {
   "cell_type": "code",
   "execution_count": 2,
   "outputs": [],
   "source": [
    "import tensorflow as tf\n",
    "import os\n",
    "from PIL import Image\n",
    "import random\n",
    "import matplotlib.pyplot as plt\n",
    "import pennylane as qml\n",
    "from pennylane import numpy as np\n",
    "from IPython.display import display"
   ],
   "metadata": {
    "collapsed": false,
    "pycharm": {
     "name": "#%%\n"
    }
   }
  },
  {
   "cell_type": "code",
   "execution_count": 3,
   "outputs": [
    {
     "data": {
      "text/plain": "[8758, 1783, 6325, 4028, 2953, 2819]"
     },
     "execution_count": 3,
     "metadata": {},
     "output_type": "execute_result"
    }
   ],
   "source": [
    "import json\n",
    "train_json = './Data_Sources/al5083/train/train.json'\n",
    "\n",
    "with open(train_json, 'r') as json_file:\n",
    "    train_data_json = json.load(json_file)\n",
    "\n",
    "label_count = [0, 0, 0, 0, 0, 0]\n",
    "for l in train_data_json:\n",
    "    label_count[train_data_json[l]] += 1\n",
    "\n",
    "label_count"
   ],
   "metadata": {
    "collapsed": false,
    "pycharm": {
     "name": "#%%\n"
    }
   }
  },
  {
   "cell_type": "code",
   "execution_count": 4,
   "outputs": [],
   "source": [
    "# Define names\n",
    "label_names = [\"good weld\", \"burn through\", \"contamination\", \"lack of fusion\", \"misalignment\", \"lack of penetration\"]\n",
    "\n",
    "# Define labels\n",
    "labels = [0, 1, 2, 3, 4, 5]\n",
    "\n",
    "# Number of classes\n",
    "num_classes = 6\n",
    "\n",
    "# Label is converted into a binary vector where only the position corresponding to the label is set to 1, and all other positions are set to 0.\n",
    "one_hot_encoding_test = [[1 if i == label else 0 for i in range(num_classes)] for label in labels]"
   ],
   "metadata": {
    "collapsed": false,
    "pycharm": {
     "name": "#%%\n"
    }
   }
  },
  {
   "cell_type": "code",
   "execution_count": 146,
   "outputs": [],
   "source": [
    "all_data = []\n",
    "image_size = (16, 16)\n",
    "label_count = [0, 0, 0, 0, 0, 0]"
   ],
   "metadata": {
    "collapsed": false,
    "pycharm": {
     "name": "#%%\n"
    }
   }
  },
  {
   "cell_type": "code",
   "execution_count": 168,
   "outputs": [],
   "source": [
    "import os\n",
    "def load_data(path):\n",
    "    for folder in os.listdir(path):\n",
    "        folder_path = os.path.join(path, folder)\n",
    "        if(os.path.isdir(folder_path)):\n",
    "            for img_name in os.listdir(folder_path):\n",
    "\n",
    "                img_path = os.path.join(folder_path, img_name)\n",
    "                key_name = folder + '/' + img_name\n",
    "                label = train_data_json[key_name]\n",
    "\n",
    "                if(label_count[label] > 400):\n",
    "                    continue\n",
    "\n",
    "                label_count[label] += 1\n",
    "                image = Image.open(img_path).resize(image_size)\n",
    "                #image = tf.convert_to_tensor(image)\n",
    "                image = np.array(image, dtype=np.int32)\n",
    "                all_data.append((image, label))\n",
    "\n",
    "                if(len(all_data)%100==0):\n",
    "                    print(f\"Total images loaded : {len(all_data)}, Label count : {label_count}\", end = '\\r')"
   ],
   "metadata": {
    "collapsed": false,
    "pycharm": {
     "name": "#%%\n"
    }
   }
  },
  {
   "cell_type": "code",
   "execution_count": 164,
   "outputs": [],
   "source": [
    "load_data('./Data_Sources/al5083/train')"
   ],
   "metadata": {
    "collapsed": false,
    "pycharm": {
     "name": "#%%\n"
    }
   }
  },
  {
   "cell_type": "code",
   "execution_count": 165,
   "outputs": [],
   "source": [
    "random.shuffle(all_data)"
   ],
   "metadata": {
    "collapsed": false,
    "pycharm": {
     "name": "#%%\n"
    }
   }
  },
  {
   "cell_type": "code",
   "execution_count": 166,
   "outputs": [],
   "source": [
    "X = []\n",
    "Y = []\n",
    "for data in all_data:\n",
    "    X.append(data[0])\n",
    "    Y.append(data[1])"
   ],
   "metadata": {
    "collapsed": false,
    "pycharm": {
     "name": "#%%\n"
    }
   }
  },
  {
   "cell_type": "code",
   "execution_count": 150,
   "outputs": [
    {
     "data": {
      "text/plain": "<Figure size 640x480 with 1 Axes>",
      "image/png": "[encoded data removed]"
     },
     "metadata": {},
     "output_type": "display_data"
    },
    {
     "name": "stdout",
     "output_type": "stream",
     "text": [
      "Label : contamination\n"
     ]
    }
   ],
   "source": [
    "import matplotlib.pyplot as plt\n",
    "rand_img = np.random.randint(low = 0, high = len(X))\n",
    "print(f\"Label : {label_names[Y[rand_img]]}\")\n",
    "plt.imshow(X[rand_img])\n",
    "plt.show()\n",
    "\n",
    "print(f\"Label : {label_names[Y[rand_img]]}\")"
   ],
   "metadata": {
    "collapsed": false,
    "pycharm": {
     "name": "#%%\n"
    }
   }
  },
  {
   "cell_type": "markdown",
   "source": [
    "Split the data into training sets: 80% of the total data for training"
   ],
   "metadata": {
    "collapsed": false
   }
  },
  {
   "cell_type": "code",
   "execution_count": 151,
   "outputs": [],
   "source": [
    "# Split the data into : 80% of the total data for training,20% of the total data for testing\n",
    "total_data = len(X)\n",
    "X_train, Y_train = X[:int(total_data*0.8)], Y[:int(total_data*0.8)]\n",
    "X_test, Y_test = X[int(total_data*0.8):], Y[int(total_data*0.8):]"
   ],
   "metadata": {
    "collapsed": false,
    "pycharm": {
     "name": "#%%\n"
    }
   }
  },
  {
   "cell_type": "markdown",
   "source": [
    "This means converting the 2D array of image pixels (16x16 pixels) into a 1D array."
   ],
   "metadata": {
    "collapsed": false,
    "pycharm": {
     "name": "#%% md\n"
    }
   }
  },
  {
   "cell_type": "code",
   "execution_count": 152,
   "outputs": [],
   "source": [
    "# This means converting the 2D array of image pixels (16x16 pixels) into a 1D array.\n",
    "# Reshape each image in X_train to 1D array\n",
    "X_train = np.array([x.reshape(-1) for x in X_train])\n",
    "\n",
    "# Reshape each image in X_test to 1D array\n",
    "X_test = np.array([x.reshape(-1) for x in X_test])"
   ],
   "metadata": {
    "collapsed": false,
    "pycharm": {
     "name": "#%%\n"
    }
   }
  },
  {
   "cell_type": "markdown",
   "source": [
    "Training set:"
   ],
   "metadata": {
    "collapsed": false
   }
  },
  {
   "cell_type": "code",
   "execution_count": 153,
   "outputs": [
    {
     "name": "stdout",
     "output_type": "stream",
     "text": [
      "[0 1 2 3 4 5]\n",
      "[331 331 315 310 320 317]\n"
     ]
    }
   ],
   "source": [
    "values, counts = np.unique( Y_train, return_counts=True)\n",
    "print(values)\n",
    "print(counts)"
   ],
   "metadata": {
    "collapsed": false,
    "pycharm": {
     "name": "#%%\n"
    }
   }
  },
  {
   "cell_type": "markdown",
   "source": [
    "Testing set:"
   ],
   "metadata": {
    "collapsed": false
   }
  },
  {
   "cell_type": "code",
   "execution_count": 154,
   "outputs": [
    {
     "name": "stdout",
     "output_type": "stream",
     "text": [
      "[0 1 2 3 4 5]\n",
      "[70 70 86 91 81 84]\n"
     ]
    }
   ],
   "source": [
    "values, counts = np.unique(Y_test, return_counts=True)\n",
    "print(values)\n",
    "print(counts)"
   ],
   "metadata": {
    "collapsed": false,
    "pycharm": {
     "name": "#%%\n"
    }
   }
  },
  {
   "cell_type": "markdown",
   "source": [
    "### Model"
   ],
   "metadata": {
    "collapsed": false
   }
  },
  {
   "cell_type": "markdown",
   "source": [
    "PEPS architecture - circuit"
   ],
   "metadata": {
    "collapsed": false
   }
  },
  {
   "cell_type": "code",
   "execution_count": 169,
   "outputs": [
    {
     "data": {
      "text/plain": "(<Figure size 1800x900 with 1 Axes>, <Axes: >)"
     },
     "execution_count": 169,
     "metadata": {},
     "output_type": "execute_result"
    },
    {
     "data": {
      "text/plain": "<Figure size 1800x900 with 1 Axes>",
      "image/png": "[encoded data removed]"
     },
     "metadata": {},
     "output_type": "display_data"
    }
   ],
   "source": [
    "import pennylane as qml\n",
    "from pennylane import numpy as np\n",
    "dev = qml.device(\"default.qubit\", wires=8)\n",
    "\n",
    "@qml.qnode(dev)\n",
    "def circuit_peps(image, template_weights):\n",
    "    qml.AmplitudeEmbedding(features=image, wires=range(8), normalize=True)\n",
    "\n",
    "    i = 0\n",
    "\n",
    "    qml.RY(template_weights[i], wires=3)\n",
    "    i = i+1\n",
    "    qml.RY(template_weights[i], wires=4)\n",
    "    i = i+1\n",
    "    qml.CNOT(wires=[3, 4])\n",
    "\n",
    "    qml.RY(template_weights[i], wires=2)\n",
    "    i = i+1\n",
    "    qml.RY(template_weights[i], wires=3)\n",
    "    i = i+1\n",
    "    qml.CNOT(wires=[2, 3])\n",
    "\n",
    "    qml.RY(template_weights[i], wires=4)\n",
    "    i = i+1\n",
    "    qml.RY(template_weights[i], wires=5)\n",
    "    i = i+1\n",
    "    qml.CNOT(wires=[4, 5])\n",
    "\n",
    "    for j in range(1, 6, 2):\n",
    "        qml.RY(template_weights[i], wires=j)\n",
    "        i = i+1\n",
    "        qml.RY(template_weights[i], wires=j+1)\n",
    "        i = i+1\n",
    "        qml.CNOT(wires=[j, j+1])\n",
    "\n",
    "    for j in range(0, 7, 2):\n",
    "        qml.RY(template_weights[i], wires=j)\n",
    "        i = i+1\n",
    "        qml.RY(template_weights[i], wires=j+1)\n",
    "        i = i+1\n",
    "        qml.CNOT(wires=[j, j+1])\n",
    "\n",
    "    for j in range(1, 6, 2):\n",
    "        qml.RY(template_weights[i], wires=j)\n",
    "        i = i+1\n",
    "        qml.RY(template_weights[i], wires=j+1)\n",
    "        i = i+1\n",
    "        qml.CNOT(wires=[j, j+1])\n",
    "\n",
    "    qml.RY(template_weights[i], wires=2)\n",
    "    i = i+1\n",
    "    qml.RY(template_weights[i], wires=3)\n",
    "    i = i+1\n",
    "    qml.CNOT(wires=[2, 3])\n",
    "\n",
    "    qml.RY(template_weights[i], wires=4)\n",
    "    i = i+1\n",
    "    qml.RY(template_weights[i], wires=5)\n",
    "    i = i+1\n",
    "    qml.CNOT(wires=[4, 5])\n",
    "\n",
    "    qml.RY(template_weights[i], wires=3)\n",
    "    i = i+1\n",
    "    qml.RY(template_weights[i], wires=4)\n",
    "    i = i+1\n",
    "    qml.CNOT(wires=[3, 4])\n",
    "\n",
    "    # qml.probs(wires =[1,3,5]) [3,5,7]\n",
    "    return qml.probs(wires = [2,4,6])\n",
    "    # return qml.probs(wires =[1,3,5])\n",
    "\n",
    "weights = np.random.random(size=[32, 1])\n",
    "qml.draw_mpl(circuit_peps, expansion_strategy=\"device\")(X_train[0], weights)\n",
    "#circuit_peps(X_train[0], weights)"
   ],
   "metadata": {
    "collapsed": false,
    "pycharm": {
     "name": "#%%\n"
    }
   }
  },
  {
   "cell_type": "markdown",
   "source": [
    "Cost function with Cross-Entropy Loss"
   ],
   "metadata": {
    "collapsed": false
   }
  },
  {
   "cell_type": "code",
   "execution_count": 110,
   "outputs": [
    {
     "data": {
      "text/plain": "256"
     },
     "execution_count": 110,
     "metadata": {},
     "output_type": "execute_result"
    }
   ],
   "source": [
    "len(X_train[0])"
   ],
   "metadata": {
    "collapsed": false,
    "pycharm": {
     "name": "#%%\n"
    }
   }
  },
  {
   "cell_type": "code",
   "execution_count": 111,
   "outputs": [],
   "source": [
    "def generate_batch(X_train, Y_train, batch_size):\n",
    "    # Generate random indices for the batch\n",
    "    batch_index = np.random.randint(0, len(X_train), batch_size)\n",
    "\n",
    "    # Create X_batch and Y_batch sets using list comprehensions\n",
    "    X_batch = [X_train[idx] for idx in batch_index]\n",
    "    Y_batch = [Y_train[idx] for idx in batch_index]\n",
    "\n",
    "    # Convert the lists to numpy arrays\n",
    "    X_batch = np.array(X_batch, dtype = 'float')\n",
    "    Y_batch = np.array(Y_batch, dtype = 'float')\n",
    "\n",
    "    return X_batch, Y_batch"
   ],
   "metadata": {
    "collapsed": false,
    "pycharm": {
     "name": "#%%\n"
    }
   }
  },
  {
   "cell_type": "code",
   "execution_count": 156,
   "outputs": [],
   "source": [
    "def costfunc(params):\n",
    "    cost = 0\n",
    "    y_true = [np.array([1, 0, 0, 0, 0,0,0,0]), np.array([0, 1, 0, 0, 0,0,0,0]), np.array([0, 0, 1, 0, 0,0,0,0]), np.array([0, 0, 0, 1, 0,0,0,0]),np.array([0, 0, 0, 0, 1,0,0,0]), np.array([0, 0, 0, 0, 0,1,0,0])]\n",
    "    #X_batch, Y_batch = generate_batch(X_train, Y_train, batch_size = 400)\n",
    "    X_batch, Y_batch = X_train, Y_train\n",
    "    len_X = len(X_batch)\n",
    "    for i in range(len_X):\n",
    "        prob = circuit_peps(X_batch[i], params)\n",
    "        if Y_batch[i] == 0:\n",
    "            cost -= 1/len_X * np.sum(np.sum(y_true[0].astype(float)*np.log(prob.astype(float))))\n",
    "        elif Y_batch[i] == 1:\n",
    "            cost -= 1/len_X * np.sum(np.sum(y_true[1].astype(float)*np.log(prob.astype(float))))\n",
    "        elif Y_batch[i] == 2:\n",
    "            cost -= 1/len_X * np.sum(np.sum(y_true[2].astype(float)*np.log(prob.astype(float))))\n",
    "        elif Y_batch[i] == 3:\n",
    "            cost -= 1/len_X * np.sum(np.sum(y_true[3].astype(float)*np.log(prob.astype(float))))\n",
    "        elif Y_batch[i] == 4:\n",
    "            cost -= 1/len_X * np.sum(np.sum(y_true[4].astype(float)*np.log(prob.astype(float))))\n",
    "        elif Y_batch[i] == 5:\n",
    "            cost -= 1/len_X * np.sum(np.sum(y_true[5].astype(float)*np.log(prob.astype(float))))\n",
    "    return cost"
   ],
   "metadata": {
    "collapsed": false,
    "pycharm": {
     "name": "#%%\n"
    }
   }
  },
  {
   "cell_type": "markdown",
   "source": [
    "training the circuit parameters"
   ],
   "metadata": {
    "collapsed": false
   }
  },
  {
   "cell_type": "code",
   "execution_count": 83,
   "outputs": [
    {
     "data": {
      "text/plain": "256"
     },
     "execution_count": 83,
     "metadata": {},
     "output_type": "execute_result"
    }
   ],
   "source": [
    "X_batch, Y_batch = generate_batch(X_train, Y_train, batch_size = 128)\n",
    "\n",
    "len_X = len(X_batch[0])\n",
    "len_X"
   ],
   "metadata": {
    "collapsed": false,
    "pycharm": {
     "name": "#%%\n"
    }
   }
  },
  {
   "cell_type": "code",
   "execution_count": 90,
   "outputs": [
    {
     "data": {
      "text/plain": "tensor(2.01236392, requires_grad=True)"
     },
     "execution_count": 90,
     "metadata": {},
     "output_type": "execute_result"
    }
   ],
   "source": [
    "# training the circuit parameters\n",
    "x2 = np.random.random(size=[32, 1], requires_grad=True)\n",
    "params = x2[:]\n",
    "X_batch, Y_batch = generate_batch(X_train, Y_train, batch_size = 600)\n",
    "costfunc(params)"
   ],
   "metadata": {
    "collapsed": false,
    "pycharm": {
     "name": "#%%\n"
    }
   }
  },
  {
   "cell_type": "code",
   "execution_count": 157,
   "outputs": [
    {
     "name": "stdout",
     "output_type": "stream",
     "text": [
      "Step 0, cost: 2.1182137179511518\n",
      "Step 1, cost: 1.980390968843335\n",
      "Step 2, cost: 1.9699374661723494\n",
      "Step 3, cost: 1.943611636409588\n",
      "Step 4, cost: 1.8808927641217525\n",
      "Step 5, cost: 1.8143942931518942\n",
      "Step 6, cost: 1.7751394277266013\n",
      "Step 7, cost: 1.767404200678912\n",
      "Step 8, cost: 1.7609074842095511\n",
      "Step 9, cost: 1.7413037630158783\n",
      "Step 10, cost: 1.72064854809109\n",
      "Step 11, cost: 1.7139586706880139\n",
      "Step 12, cost: 1.7188263474940848\n",
      "Step 13, cost: 1.7219456469365104\n",
      "Step 14, cost: 1.7194681754541208\n",
      "Step 15, cost: 1.7142586547545642\n",
      "Step 16, cost: 1.7094331534289615\n",
      "Step 17, cost: 1.7059489282477869\n",
      "Step 18, cost: 1.7019452147629452\n",
      "Step 19, cost: 1.6953172541145394\n",
      "Step 20, cost: 1.6870134176849396\n",
      "Step 21, cost: 1.6802660039420674\n",
      "Step 22, cost: 1.6767044931159882\n",
      "Step 23, cost: 1.674410334943488\n",
      "Step 24, cost: 1.6707196429384295\n",
      "Step 25, cost: 1.665501042537575\n",
      "Step 26, cost: 1.660790539858292\n",
      "Step 27, cost: 1.6583002453944624\n",
      "Step 28, cost: 1.6577893413354208\n",
      "Step 29, cost: 1.6576824993741732\n",
      "Step 30, cost: 1.6567286823409295\n",
      "Step 31, cost: 1.6547962877459892\n",
      "Step 32, cost: 1.6525981895821933\n",
      "Step 33, cost: 1.6509505379024934\n",
      "Step 34, cost: 1.6499600858222825\n",
      "Step 35, cost: 1.6489205892673509\n",
      "Step 36, cost: 1.6473758502124274\n",
      "Step 37, cost: 1.645807507990113\n",
      "Step 38, cost: 1.6447672551583465\n",
      "Step 39, cost: 1.6440719304301359\n",
      "Step 40, cost: 1.6433640378167291\n",
      "Step 41, cost: 1.642786620571771\n",
      "Step 42, cost: 1.6425116290669455\n",
      "Step 43, cost: 1.6420990500429538\n",
      "Step 44, cost: 1.6410717340298682\n",
      "Step 45, cost: 1.639722581591493\n",
      "Step 46, cost: 1.6385883873202929\n",
      "Step 47, cost: 1.6376021363748554\n",
      "Step 48, cost: 1.6365253209066806\n",
      "Step 49, cost: 1.6355942315697893\n",
      "[[ 1.03597404]\n",
      " [ 0.13818363]\n",
      " [ 0.10874719]\n",
      " [ 0.35475397]\n",
      " [ 0.24767939]\n",
      " [ 0.05980257]\n",
      " [ 0.65030427]\n",
      " [ 0.48950662]\n",
      " [ 0.94950927]\n",
      " [ 1.52876894]\n",
      " [ 0.42437383]\n",
      " [ 1.09211418]\n",
      " [ 1.22305722]\n",
      " [-0.9930095 ]\n",
      " [ 1.71358267]\n",
      " [-0.6193488 ]\n",
      " [ 1.32083585]\n",
      " [-0.70515326]\n",
      " [ 0.75008308]\n",
      " [ 0.01467164]\n",
      " [-0.30206246]\n",
      " [-0.25345552]\n",
      " [ 1.04378595]\n",
      " [ 0.30981401]\n",
      " [-0.04779415]\n",
      " [-0.05154578]\n",
      " [ 0.77856321]\n",
      " [-0.75262066]\n",
      " [ 1.105554  ]\n",
      " [ 0.24505467]\n",
      " [ 0.76861141]\n",
      " [ 0.62513675]]\n"
     ]
    }
   ],
   "source": [
    "# training the circuit parameters\n",
    "x2 = np.random.random(size=[32, 1], requires_grad=True)\n",
    "params = x2[:]\n",
    "optimizer = qml.AdamOptimizer(stepsize=0.1)\n",
    "\n",
    "for k in range(50):\n",
    "    #print(f\"Step {k}, cost: {costfunc(params)}\")\n",
    "    params,cost = optimizer.step_and_cost(costfunc, params)\n",
    "    print(f\"Step {k}, cost: {cost}\")\n",
    "print(params)"
   ],
   "metadata": {
    "collapsed": false,
    "pycharm": {
     "name": "#%%\n"
    }
   }
  },
  {
   "cell_type": "markdown",
   "source": [
    "### Checking the circuit on first X_test data."
   ],
   "metadata": {
    "collapsed": false
   }
  },
  {
   "cell_type": "code",
   "execution_count": 115,
   "outputs": [
    {
     "data": {
      "text/plain": "2"
     },
     "execution_count": 115,
     "metadata": {},
     "output_type": "execute_result"
    }
   ],
   "source": [
    "x = circuit_peps(X_test[0], params)\n",
    "np.argmax(x)"
   ],
   "metadata": {
    "collapsed": false,
    "pycharm": {
     "name": "#%%\n"
    }
   }
  },
  {
   "cell_type": "code",
   "execution_count": 116,
   "outputs": [
    {
     "data": {
      "text/plain": "0"
     },
     "execution_count": 116,
     "metadata": {},
     "output_type": "execute_result"
    }
   ],
   "source": [
    "Y_test[0]"
   ],
   "metadata": {
    "collapsed": false,
    "pycharm": {
     "name": "#%%\n"
    }
   }
  },
  {
   "cell_type": "markdown",
   "source": [
    "### Calculating accuracy\n",
    "On the test set extracted from the training set. When predicted_label does not match test_label, both values are displayed."
   ],
   "metadata": {
    "collapsed": false
   }
  },
  {
   "cell_type": "code",
   "execution_count": 158,
   "outputs": [
    {
     "name": "stdout",
     "output_type": "stream",
     "text": [
      "Predicted label: 1\n",
      "True label 3\n",
      "Predicted label: 1\n",
      "True label 3\n",
      "Predicted label: 1\n",
      "True label 5\n",
      "Predicted label: 0\n",
      "True label 4\n",
      "Predicted label: 3\n",
      "True label 2\n",
      "Predicted label: 1\n",
      "True label 3\n",
      "Predicted label: 0\n",
      "True label 4\n",
      "Predicted label: 0\n",
      "True label 4\n",
      "Predicted label: 1\n",
      "True label 3\n",
      "Predicted label: 0\n",
      "True label 1\n",
      "Predicted label: 0\n",
      "True label 5\n",
      "Predicted label: 0\n",
      "True label 4\n",
      "Predicted label: 0\n",
      "True label 4\n",
      "Predicted label: 1\n",
      "True label 3\n",
      "Predicted label: 1\n",
      "True label 3\n",
      "Predicted label: 0\n",
      "True label 4\n",
      "Predicted label: 0\n",
      "True label 4\n",
      "Predicted label: 1\n",
      "True label 3\n",
      "Predicted label: 1\n",
      "True label 3\n",
      "Predicted label: 0\n",
      "True label 4\n",
      "Predicted label: 1\n",
      "True label 3\n",
      "Predicted label: 1\n",
      "True label 5\n",
      "Predicted label: 1\n",
      "True label 5\n",
      "Predicted label: 1\n",
      "True label 3\n",
      "Predicted label: 1\n",
      "True label 3\n",
      "Predicted label: 0\n",
      "True label 4\n",
      "Predicted label: 0\n",
      "True label 1\n",
      "Predicted label: 3\n",
      "True label 1\n",
      "Predicted label: 0\n",
      "True label 4\n",
      "Predicted label: 0\n",
      "True label 4\n",
      "Predicted label: 1\n",
      "True label 3\n",
      "Predicted label: 1\n",
      "True label 3\n",
      "Predicted label: 0\n",
      "True label 4\n",
      "Predicted label: 3\n",
      "True label 1\n",
      "Predicted label: 5\n",
      "True label 3\n",
      "Predicted label: 1\n",
      "True label 5\n",
      "Predicted label: 1\n",
      "True label 3\n",
      "Predicted label: 0\n",
      "True label 4\n",
      "Predicted label: 0\n",
      "True label 4\n",
      "Predicted label: 1\n",
      "True label 3\n",
      "Predicted label: 1\n",
      "True label 3\n",
      "Predicted label: 3\n",
      "True label 1\n",
      "Predicted label: 1\n",
      "True label 5\n",
      "Predicted label: 0\n",
      "True label 4\n",
      "Predicted label: 0\n",
      "True label 4\n",
      "Predicted label: 1\n",
      "True label 3\n",
      "Predicted label: 1\n",
      "True label 5\n",
      "Predicted label: 1\n",
      "True label 3\n",
      "Predicted label: 1\n",
      "True label 3\n",
      "Predicted label: 0\n",
      "True label 4\n",
      "Predicted label: 0\n",
      "True label 4\n",
      "Predicted label: 1\n",
      "True label 5\n",
      "Predicted label: 0\n",
      "True label 4\n",
      "Predicted label: 1\n",
      "True label 3\n",
      "Predicted label: 0\n",
      "True label 5\n",
      "Predicted label: 1\n",
      "True label 3\n",
      "Predicted label: 0\n",
      "True label 4\n",
      "Predicted label: 0\n",
      "True label 1\n",
      "Predicted label: 0\n",
      "True label 5\n",
      "Predicted label: 1\n",
      "True label 3\n",
      "Predicted label: 5\n",
      "True label 1\n",
      "Predicted label: 1\n",
      "True label 3\n",
      "Predicted label: 0\n",
      "True label 4\n",
      "Predicted label: 1\n",
      "True label 3\n",
      "Predicted label: 5\n",
      "True label 3\n",
      "Predicted label: 1\n",
      "True label 3\n",
      "Predicted label: 1\n",
      "True label 3\n",
      "Predicted label: 1\n",
      "True label 0\n",
      "Predicted label: 0\n",
      "True label 5\n",
      "Predicted label: 0\n",
      "True label 4\n",
      "Predicted label: 1\n",
      "True label 3\n",
      "Predicted label: 1\n",
      "True label 3\n",
      "Predicted label: 3\n",
      "True label 2\n",
      "Predicted label: 1\n",
      "True label 5\n",
      "Predicted label: 0\n",
      "True label 5\n",
      "Predicted label: 0\n",
      "True label 5\n",
      "Predicted label: 0\n",
      "True label 4\n",
      "Predicted label: 5\n",
      "True label 3\n",
      "Predicted label: 1\n",
      "True label 3\n",
      "Predicted label: 3\n",
      "True label 1\n",
      "Predicted label: 1\n",
      "True label 3\n",
      "Predicted label: 1\n",
      "True label 3\n",
      "Predicted label: 0\n",
      "True label 4\n",
      "Predicted label: 0\n",
      "True label 4\n",
      "Predicted label: 1\n",
      "True label 3\n",
      "Predicted label: 0\n",
      "True label 4\n",
      "Predicted label: 1\n",
      "True label 5\n",
      "Predicted label: 5\n",
      "True label 0\n",
      "Predicted label: 0\n",
      "True label 5\n",
      "Predicted label: 0\n",
      "True label 4\n",
      "Predicted label: 0\n",
      "True label 4\n",
      "Predicted label: 0\n",
      "True label 4\n",
      "Predicted label: 0\n",
      "True label 4\n",
      "Predicted label: 0\n",
      "True label 4\n",
      "Predicted label: 1\n",
      "True label 5\n",
      "Predicted label: 0\n",
      "True label 4\n",
      "Predicted label: 1\n",
      "True label 3\n",
      "Predicted label: 0\n",
      "True label 4\n",
      "Predicted label: 1\n",
      "True label 3\n",
      "Predicted label: 1\n",
      "True label 3\n",
      "Predicted label: 0\n",
      "True label 4\n",
      "Predicted label: 3\n",
      "True label 1\n",
      "Predicted label: 1\n",
      "True label 3\n",
      "Predicted label: 0\n",
      "True label 4\n",
      "Predicted label: 0\n",
      "True label 4\n",
      "Predicted label: 0\n",
      "True label 5\n",
      "Predicted label: 0\n",
      "True label 5\n",
      "Predicted label: 1\n",
      "True label 3\n",
      "Predicted label: 1\n",
      "True label 5\n",
      "Predicted label: 1\n",
      "True label 5\n",
      "Predicted label: 1\n",
      "True label 0\n",
      "Predicted label: 1\n",
      "True label 3\n",
      "Predicted label: 0\n",
      "True label 5\n",
      "Predicted label: 1\n",
      "True label 3\n",
      "Predicted label: 0\n",
      "True label 4\n",
      "Predicted label: 0\n",
      "True label 5\n",
      "Predicted label: 3\n",
      "True label 1\n",
      "Predicted label: 0\n",
      "True label 4\n",
      "Predicted label: 0\n",
      "True label 4\n",
      "Predicted label: 3\n",
      "True label 2\n",
      "Predicted label: 3\n",
      "True label 1\n",
      "Predicted label: 0\n",
      "True label 4\n",
      "Predicted label: 1\n",
      "True label 3\n",
      "Predicted label: 1\n",
      "True label 5\n",
      "Predicted label: 0\n",
      "True label 5\n",
      "Predicted label: 0\n",
      "True label 4\n",
      "Predicted label: 0\n",
      "True label 4\n",
      "Predicted label: 0\n",
      "True label 4\n",
      "Predicted label: 1\n",
      "True label 5\n",
      "Predicted label: 1\n",
      "True label 5\n",
      "Predicted label: 0\n",
      "True label 4\n",
      "Predicted label: 1\n",
      "True label 3\n",
      "Predicted label: 1\n",
      "True label 3\n",
      "Predicted label: 1\n",
      "True label 3\n",
      "Predicted label: 0\n",
      "True label 4\n",
      "Predicted label: 0\n",
      "True label 4\n",
      "Predicted label: 1\n",
      "True label 3\n",
      "Predicted label: 0\n",
      "True label 4\n",
      "Predicted label: 0\n",
      "True label 4\n",
      "Predicted label: 1\n",
      "True label 3\n",
      "Predicted label: 0\n",
      "True label 4\n",
      "Predicted label: 3\n",
      "True label 2\n",
      "Predicted label: 0\n",
      "True label 5\n",
      "Predicted label: 1\n",
      "True label 3\n",
      "Predicted label: 1\n",
      "True label 3\n",
      "Predicted label: 1\n",
      "True label 3\n",
      "Predicted label: 1\n",
      "True label 5\n",
      "Predicted label: 0\n",
      "True label 4\n",
      "Predicted label: 3\n",
      "True label 1\n",
      "Predicted label: 0\n",
      "True label 1\n",
      "Predicted label: 5\n",
      "True label 0\n",
      "Predicted label: 1\n",
      "True label 5\n",
      "Predicted label: 1\n",
      "True label 5\n",
      "Predicted label: 0\n",
      "True label 4\n",
      "Predicted label: 0\n",
      "True label 5\n",
      "Predicted label: 1\n",
      "True label 3\n",
      "Predicted label: 0\n",
      "True label 4\n",
      "Predicted label: 1\n",
      "True label 3\n",
      "Predicted label: 3\n",
      "True label 2\n",
      "Predicted label: 1\n",
      "True label 3\n",
      "Predicted label: 0\n",
      "True label 5\n",
      "Predicted label: 0\n",
      "True label 5\n",
      "Predicted label: 1\n",
      "True label 5\n",
      "Predicted label: 1\n",
      "True label 3\n",
      "Predicted label: 1\n",
      "True label 3\n",
      "Predicted label: 0\n",
      "True label 1\n",
      "Predicted label: 0\n",
      "True label 5\n",
      "Predicted label: 1\n",
      "True label 3\n",
      "Predicted label: 0\n",
      "True label 4\n",
      "Predicted label: 0\n",
      "True label 4\n",
      "Predicted label: 1\n",
      "True label 3\n",
      "Predicted label: 1\n",
      "True label 3\n",
      "Predicted label: 1\n",
      "True label 3\n",
      "Predicted label: 0\n",
      "True label 4\n",
      "Predicted label: 1\n",
      "True label 3\n",
      "Predicted label: 0\n",
      "True label 4\n",
      "Predicted label: 1\n",
      "True label 0\n",
      "Predicted label: 1\n",
      "True label 3\n",
      "Predicted label: 1\n",
      "True label 3\n",
      "Predicted label: 1\n",
      "True label 5\n",
      "Predicted label: 0\n",
      "True label 4\n",
      "Predicted label: 0\n",
      "True label 1\n",
      "Predicted label: 0\n",
      "True label 5\n",
      "Predicted label: 1\n",
      "True label 3\n",
      "Predicted label: 0\n",
      "True label 4\n",
      "Predicted label: 0\n",
      "True label 4\n",
      "Predicted label: 0\n",
      "True label 5\n",
      "Predicted label: 1\n",
      "True label 3\n",
      "Predicted label: 0\n",
      "True label 4\n",
      "Predicted label: 0\n",
      "True label 4\n",
      "Predicted label: 0\n",
      "True label 4\n",
      "Predicted label: 1\n",
      "True label 5\n",
      "Predicted label: 3\n",
      "True label 0\n",
      "Predicted label: 1\n",
      "True label 3\n",
      "Predicted label: 0\n",
      "True label 4\n",
      "Predicted label: 5\n",
      "True label 3\n",
      "Predicted label: 0\n",
      "True label 4\n",
      "Predicted label: 0\n",
      "True label 5\n",
      "Predicted label: 0\n",
      "True label 4\n",
      "Predicted label: 1\n",
      "True label 3\n",
      "Predicted label: 0\n",
      "True label 4\n",
      "Predicted label: 0\n",
      "True label 4\n",
      "Predicted label: 1\n",
      "True label 3\n",
      "Predicted label: 1\n",
      "True label 5\n",
      "Predicted label: 1\n",
      "True label 3\n",
      "Predicted label: 0\n",
      "True label 4\n",
      "Predicted label: 1\n",
      "True label 3\n",
      "Predicted label: 1\n",
      "True label 3\n",
      "Predicted label: 0\n",
      "True label 4\n",
      "Predicted label: 0\n",
      "True label 4\n",
      "Predicted label: 2\n",
      "True label 1\n",
      "Predicted label: 0\n",
      "True label 1\n",
      "Predicted label: 1\n",
      "True label 5\n",
      "Predicted label: 0\n",
      "True label 5\n",
      "Predicted label: 1\n",
      "True label 5\n",
      "Predicted label: 1\n",
      "True label 3\n",
      "Predicted label: 0\n",
      "True label 4\n",
      "Predicted label: 1\n",
      "True label 5\n",
      "Predicted label: 0\n",
      "True label 4\n",
      "Predicted label: 0\n",
      "True label 5\n",
      "Predicted label: 0\n",
      "True label 4\n",
      "Predicted label: 3\n",
      "True label 1\n",
      "Predicted label: 0\n",
      "True label 4\n",
      "Predicted label: 1\n",
      "True label 3\n",
      "Predicted label: 1\n",
      "True label 3\n",
      "Predicted label: 0\n",
      "True label 5\n",
      "Predicted label: 1\n",
      "True label 3\n",
      "Predicted label: 0\n",
      "True label 4\n",
      "Predicted label: 0\n",
      "True label 4\n",
      "Predicted label: 1\n",
      "True label 3\n",
      "Predicted label: 1\n",
      "True label 3\n",
      "Predicted label: 1\n",
      "True label 3\n",
      "Predicted label: 0\n",
      "True label 4\n",
      "Predicted label: 1\n",
      "True label 3\n",
      "Predicted label: 0\n",
      "True label 4\n",
      "Predicted label: 0\n",
      "True label 4\n",
      "Predicted label: 4\n",
      "True label 0\n",
      "Predicted label: 0\n",
      "True label 5\n",
      "Predicted label: 1\n",
      "True label 5\n",
      "Predicted label: 1\n",
      "True label 3\n",
      "Predicted label: 1\n",
      "True label 5\n",
      "Predicted label: 1\n",
      "True label 3\n",
      "Predicted label: 0\n",
      "True label 4\n",
      "Predicted label: 1\n",
      "True label 3\n",
      "Predicted label: 1\n",
      "True label 5\n",
      "Predicted label: 3\n",
      "True label 1\n",
      "Predicted label: 4\n",
      "True label 1\n",
      "Predicted label: 1\n",
      "True label 3\n",
      "Predicted label: 3\n",
      "True label 2\n",
      "Predicted label: 0\n",
      "True label 4\n",
      "Predicted label: 1\n",
      "True label 3\n",
      "Predicted label: 1\n",
      "True label 5\n",
      "Predicted label: 1\n",
      "True label 3\n",
      "Testing accuracy: 47.51%\n"
     ]
    }
   ],
   "source": [
    "test_correct = 0\n",
    "\n",
    "for img, true_label in zip(X_test, Y_test):\n",
    "    # Get predictions from the quantum circuit\n",
    "    predictions = circuit_peps(img, params)\n",
    "\n",
    "    # Determine the predicted label\n",
    "    predicted_label = np.argmax(predictions)\n",
    "\n",
    "    # Increment correct count if prediction matches the true label\n",
    "    if predicted_label == true_label:\n",
    "        test_correct += 1\n",
    "    else:\n",
    "        print(\"Predicted label:\", predicted_label)\n",
    "        print(\"True label\",true_label)\n",
    "\n",
    "# Calculate and print the testing accuracy percentage\n",
    "accuracy = 100 * test_correct / len(X_test)\n",
    "print(f\"Testing accuracy: {accuracy:.2f}%\")"
   ],
   "metadata": {
    "collapsed": false,
    "pycharm": {
     "name": "#%%\n"
    }
   }
  },
  {
   "cell_type": "markdown",
   "source": [
    "We can see that it is most often mistaken in recognizing class 1. The model says it is 3 when in fact it is 1."
   ],
   "metadata": {
    "collapsed": false,
    "pycharm": {
     "name": "#%% md\n"
    }
   }
  },
  {
   "cell_type": "markdown",
   "source": [
    "### Summary  Experiment 1\n",
    "Classification for 4 class, PEPS circuit.\n",
    "Using 400 images from train dataset.\n",
    "Training set: images [73 82 86 82] per classes [0 1 2 3]\n",
    "Testing set: images [28 19 15 19] per classes [0,1,2,3]\n",
    "\n",
    "\n",
    "Testing accuracy: 91.36%\n"
   ],
   "metadata": {
    "collapsed": false
   }
  },
  {
   "cell_type": "markdown",
   "source": [
    "### Summary Experiment 2\n",
    "Classification for 6 class, PEPS circuit.\n",
    "Using 600 images from train dataset.\n",
    "Training set: images [78 78 88 81 78 81] per classes [0 1 2 3 4 5]\n",
    "Testing set: images [23 23 13 20 23 20] per classes [0 1 2 3 4 5]\n",
    "Without batches.\n",
    "Epoch: 50\n",
    "Testing accuracy: 63.11%"
   ],
   "metadata": {
    "collapsed": false
   }
  },
  {
   "cell_type": "markdown",
   "source": [
    "### Summary Experiment 3\n",
    "Classification for 6 class, PEPS circuit.\n",
    "Using 2400 images from train dataset.\n",
    "Training set: images [331 331 315 310 320 317] per classes [0 1 2 3 4 5]\n",
    "Testing set: images [70 70 86 91 81 84] per classes [0 1 2 3 4 5]\n",
    "Without batches.\n",
    "Epoch: 50\n",
    "Time: almost 2h\n",
    "Testing accuracy: 47.51%"
   ],
   "metadata": {
    "collapsed": false,
    "pycharm": {
     "name": "#%% md\n"
    }
   }
  },
  {
   "cell_type": "code",
   "execution_count": null,
   "outputs": [],
   "source": [],
   "metadata": {
    "collapsed": false,
    "pycharm": {
     "name": "#%%\n"
    }
   }
  }
 ],
 "metadata": {
  "kernelspec": {
   "display_name": "Python 3",
   "language": "python",
   "name": "python3"
  },
  "language_info": {
   "codemirror_mode": {
    "name": "ipython",
    "version": 2
   },
   "file_extension": ".py",
   "mimetype": "text/x-python",
   "name": "python",
   "nbconvert_exporter": "python",
   "pygments_lexer": "ipython2",
   "version": "2.7.6"
  }
 },
 "nbformat": 4,
 "nbformat_minor": 0
}