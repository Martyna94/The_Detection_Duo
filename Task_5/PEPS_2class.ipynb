{
 "cells": [
  {
   "cell_type": "markdown",
   "source": [
    "### Upload a data\n",
    "\n",
    "`X_train` - train image dataset\n",
    "`Y_train` - train label dataset\n",
    "`X_test` - test image dataset\n",
    "`Y_test` - test label dataset"
   ],
   "metadata": {
    "collapsed": false,
    "pycharm": {
     "name": "#%% md\n"
    }
   }
  },
  {
   "cell_type": "code",
   "execution_count": 1,
   "outputs": [],
   "source": [
    "import tensorflow as tf\n",
    "import os\n",
    "from PIL import Image\n",
    "import random\n",
    "import matplotlib.pyplot as plt\n",
    "import pennylane as qml\n",
    "from pennylane import numpy as np\n",
    "from IPython.display import display"
   ],
   "metadata": {
    "collapsed": false,
    "pycharm": {
     "name": "#%%\n"
    }
   }
  },
  {
   "cell_type": "code",
   "execution_count": 2,
   "outputs": [
    {
     "data": {
      "text/plain": "[8758, 1783, 6325, 4028, 2953, 2819]"
     },
     "execution_count": 2,
     "metadata": {},
     "output_type": "execute_result"
    }
   ],
   "source": [
    "import json\n",
    "train_json = './Data_Sources/al5083/train/train.json'\n",
    "\n",
    "with open(train_json, 'r') as json_file:\n",
    "    train_data_json = json.load(json_file)\n",
    "\n",
    "label_count = [0, 0, 0, 0, 0, 0]\n",
    "for l in train_data_json:\n",
    "    label_count[train_data_json[l]] += 1\n",
    "\n",
    "label_count"
   ],
   "metadata": {
    "collapsed": false,
    "pycharm": {
     "name": "#%%\n"
    }
   }
  },
  {
   "cell_type": "code",
   "execution_count": 3,
   "outputs": [],
   "source": [
    "# Define names\n",
    "label_names = [\"good weld\", \"burn through\", \"contamination\", \"lack of fusion\", \"misalignment\", \"lack of penetration\"]\n",
    "\n",
    "# Define labels\n",
    "labels = [0, 1, 2, 3, 4, 5]\n",
    "\n",
    "# Number of classes\n",
    "num_classes = 6\n",
    "\n",
    "# Label is converted into a binary vector where only the position corresponding to the label is set to 1, and all other positions are set to 0.\n",
    "one_hot_encoding_test = [[1 if i == label else 0 for i in range(num_classes)] for label in labels]"
   ],
   "metadata": {
    "collapsed": false,
    "pycharm": {
     "name": "#%%\n"
    }
   }
  },
  {
   "cell_type": "code",
   "execution_count": 4,
   "outputs": [],
   "source": [
    "all_data = []\n",
    "image_size = (16, 16)\n",
    "label_count = [0, 0, 0, 0]"
   ],
   "metadata": {
    "collapsed": false,
    "pycharm": {
     "name": "#%%\n"
    }
   }
  },
  {
   "cell_type": "code",
   "execution_count": 5,
   "outputs": [],
   "source": [
    "import os\n",
    "def load_data(path):\n",
    "    for folder in os.listdir(path):\n",
    "        folder_path = os.path.join(path, folder)\n",
    "        if(os.path.isdir(folder_path)):\n",
    "            for img_name in os.listdir(folder_path):\n",
    "\n",
    "                img_path = os.path.join(folder_path, img_name)\n",
    "                key_name = folder + '/' + img_name\n",
    "                label = train_data_json[key_name]\n",
    "\n",
    "                if label == 4 or label == 5:\n",
    "                    continue\n",
    "                if(label_count[label] > 100):\n",
    "                    continue\n",
    "\n",
    "                label_count[label] += 1\n",
    "                image = Image.open(img_path).resize(image_size)\n",
    "                #image = tf.convert_to_tensor(image)\n",
    "                image = np.array(image, dtype=np.int32)\n",
    "                all_data.append((image, label))\n",
    "\n",
    "                if(len(all_data)%100==0):\n",
    "                    print(f\"Total images loaded : {len(all_data)}, Label count : {label_count}\", end = '\\r')"
   ],
   "metadata": {
    "collapsed": false,
    "pycharm": {
     "name": "#%%\n"
    }
   }
  },
  {
   "cell_type": "code",
   "execution_count": 6,
   "outputs": [
    {
     "name": "stdout",
     "output_type": "stream",
     "text": [
      "Total images loaded : 400, Label count : [101, 101, 101, 97]\r"
     ]
    }
   ],
   "source": [
    "load_data('./Data_Sources/al5083/train')"
   ],
   "metadata": {
    "collapsed": false,
    "pycharm": {
     "name": "#%%\n"
    }
   }
  },
  {
   "cell_type": "code",
   "execution_count": 7,
   "outputs": [],
   "source": [
    "random.shuffle(all_data)"
   ],
   "metadata": {
    "collapsed": false,
    "pycharm": {
     "name": "#%%\n"
    }
   }
  },
  {
   "cell_type": "code",
   "execution_count": 8,
   "outputs": [],
   "source": [
    "X = []\n",
    "Y = []\n",
    "for data in all_data:\n",
    "    X.append(data[0])\n",
    "    Y.append(data[1])"
   ],
   "metadata": {
    "collapsed": false,
    "pycharm": {
     "name": "#%%\n"
    }
   }
  },
  {
   "cell_type": "code",
   "execution_count": 9,
   "outputs": [
    {
     "data": {
      "text/plain": "<Figure size 640x480 with 1 Axes>",
      "image/png": "[encoded data removed]"
     },
     "metadata": {},
     "output_type": "display_data"
    },
    {
     "name": "stdout",
     "output_type": "stream",
     "text": [
      "Label : lack of fusion\n"
     ]
    }
   ],
   "source": [
    "import matplotlib.pyplot as plt\n",
    "rand_img = np.random.randint(low = 0, high = len(X))\n",
    "plt.imshow(X[rand_img])\n",
    "plt.show()\n",
    "print(f\"Label : {label_names[Y[rand_img]]}\")"
   ],
   "metadata": {
    "collapsed": false,
    "pycharm": {
     "name": "#%%\n"
    }
   }
  },
  {
   "cell_type": "markdown",
   "source": [
    "Split the data into training sets: 80% of the total data for training"
   ],
   "metadata": {
    "collapsed": false
   }
  },
  {
   "cell_type": "code",
   "execution_count": 10,
   "outputs": [],
   "source": [
    "# Split the data into : 80% of the total data for training,20% of the total data for testing\n",
    "total_data = len(X)\n",
    "X_train, Y_train = X[:int(total_data*0.8)], Y[:int(total_data*0.8)]\n",
    "X_test, Y_test = X[int(total_data*0.8):], Y[int(total_data*0.8):]"
   ],
   "metadata": {
    "collapsed": false,
    "pycharm": {
     "name": "#%%\n"
    }
   }
  },
  {
   "cell_type": "markdown",
   "source": [
    "This means converting the 2D array of image pixels (16x16 pixels) into a 1D array."
   ],
   "metadata": {
    "collapsed": false,
    "pycharm": {
     "name": "#%% md\n"
    }
   }
  },
  {
   "cell_type": "code",
   "execution_count": 11,
   "outputs": [],
   "source": [
    "# This means converting the 2D array of image pixels (16x16 pixels) into a 1D array.\n",
    "# Reshape each image in X_train to 1D array\n",
    "X_train = [x.reshape(-1) for x in X_train]\n",
    "\n",
    "# Reshape each image in X_test to 1D array\n",
    "X_test = [x.reshape(-1) for x in X_test]"
   ],
   "metadata": {
    "collapsed": false,
    "pycharm": {
     "name": "#%%\n"
    }
   }
  },
  {
   "cell_type": "markdown",
   "source": [
    "Training set:"
   ],
   "metadata": {
    "collapsed": false
   }
  },
  {
   "cell_type": "code",
   "execution_count": 21,
   "outputs": [
    {
     "name": "stdout",
     "output_type": "stream",
     "text": [
      "[0 1 2 3]\n",
      "[73 82 86 82]\n"
     ]
    }
   ],
   "source": [
    "values, counts = np.unique( Y_train, return_counts=True)\n",
    "print(values)\n",
    "print(counts)"
   ],
   "metadata": {
    "collapsed": false,
    "pycharm": {
     "name": "#%%\n"
    }
   }
  },
  {
   "cell_type": "markdown",
   "source": [
    "Testing set:"
   ],
   "metadata": {
    "collapsed": false
   }
  },
  {
   "cell_type": "code",
   "execution_count": 22,
   "outputs": [
    {
     "name": "stdout",
     "output_type": "stream",
     "text": [
      "[0 1 2 3]\n",
      "[28 19 15 19]\n"
     ]
    }
   ],
   "source": [
    "values, counts = np.unique(Y_test, return_counts=True)\n",
    "print(values)\n",
    "print(counts)"
   ],
   "metadata": {
    "collapsed": false,
    "pycharm": {
     "name": "#%%\n"
    }
   }
  },
  {
   "cell_type": "markdown",
   "source": [
    "### Model"
   ],
   "metadata": {
    "collapsed": false
   }
  },
  {
   "cell_type": "markdown",
   "source": [
    "PEPS architecture - circuit"
   ],
   "metadata": {
    "collapsed": false
   }
  },
  {
   "cell_type": "code",
   "execution_count": 14,
   "outputs": [
    {
     "data": {
      "text/plain": "tensor([[0.12873753, 0.15497383, 0.37067129, 0.34561735]], requires_grad=True)"
     },
     "execution_count": 14,
     "metadata": {},
     "output_type": "execute_result"
    }
   ],
   "source": [
    "import pennylane as qml\n",
    "from pennylane import numpy as np\n",
    "dev = qml.device(\"default.qubit\", wires=8)\n",
    "\n",
    "@qml.qnode(dev)\n",
    "def circuit_peps(image, template_weights):\n",
    "    qml.AmplitudeEmbedding(features=image, wires=range(8), normalize=True)\n",
    "\n",
    "    i = 0\n",
    "\n",
    "    qml.RY(template_weights[i], wires=3)\n",
    "    i = i+1\n",
    "    qml.RY(template_weights[i], wires=4)\n",
    "    i = i+1\n",
    "    qml.CNOT(wires=[3, 4])\n",
    "\n",
    "    qml.RY(template_weights[i], wires=2)\n",
    "    i = i+1\n",
    "    qml.RY(template_weights[i], wires=3)\n",
    "    i = i+1\n",
    "    qml.CNOT(wires=[2, 3])\n",
    "\n",
    "    qml.RY(template_weights[i], wires=4)\n",
    "    i = i+1\n",
    "    qml.RY(template_weights[i], wires=5)\n",
    "    i = i+1\n",
    "    qml.CNOT(wires=[4, 5])\n",
    "\n",
    "    for j in range(1, 6, 2):\n",
    "        qml.RY(template_weights[i], wires=j)\n",
    "        i = i+1\n",
    "        qml.RY(template_weights[i], wires=j+1)\n",
    "        i = i+1\n",
    "        qml.CNOT(wires=[j, j+1])\n",
    "\n",
    "    for j in range(0, 7, 2):\n",
    "        qml.RY(template_weights[i], wires=j)\n",
    "        i = i+1\n",
    "        qml.RY(template_weights[i], wires=j+1)\n",
    "        i = i+1\n",
    "        qml.CNOT(wires=[j, j+1])\n",
    "\n",
    "    for j in range(1, 6, 2):\n",
    "        qml.RY(template_weights[i], wires=j)\n",
    "        i = i+1\n",
    "        qml.RY(template_weights[i], wires=j+1)\n",
    "        i = i+1\n",
    "        qml.CNOT(wires=[j, j+1])\n",
    "\n",
    "    qml.RY(template_weights[i], wires=2)\n",
    "    i = i+1\n",
    "    qml.RY(template_weights[i], wires=3)\n",
    "    i = i+1\n",
    "    qml.CNOT(wires=[2, 3])\n",
    "\n",
    "    qml.RY(template_weights[i], wires=4)\n",
    "    i = i+1\n",
    "    qml.RY(template_weights[i], wires=5)\n",
    "    i = i+1\n",
    "    qml.CNOT(wires=[4, 5])\n",
    "\n",
    "    qml.RY(template_weights[i], wires=3)\n",
    "    i = i+1\n",
    "    qml.RY(template_weights[i], wires=4)\n",
    "    i = i+1\n",
    "    qml.CNOT(wires=[3, 4])\n",
    "\n",
    "\n",
    "    return qml.probs(wires = [3, 4])\n",
    "\n",
    "weights = np.random.random(size=[32, 1])\n",
    "#qml.draw_mpl(circuit_peps, expansion_strategy=\"device\")(X_train[0], weights)\n",
    "circuit_peps(X_train[0], weights)"
   ],
   "metadata": {
    "collapsed": false,
    "pycharm": {
     "name": "#%%\n"
    }
   }
  },
  {
   "cell_type": "markdown",
   "source": [
    "Cost function with Cross-Entropy Loss"
   ],
   "metadata": {
    "collapsed": false
   }
  },
  {
   "cell_type": "code",
   "execution_count": 15,
   "outputs": [],
   "source": [
    "def costfunc(params):\n",
    "    cost = 0\n",
    "    y_true = [np.array([1, 0, 0, 0]), np.array([0, 1, 0, 0]), np.array([0, 0, 1, 0]), np.array([0, 0, 0, 1])]\n",
    "    len_X_train = len(X_train)\n",
    "    for i in range(len_X_train):\n",
    "        prob = circuit_peps(X_train[i], params)\n",
    "        if Y_train[i] == 0:\n",
    "            cost -= 1/len_X_train * np.sum(np.sum(y_true[0].astype(float)*np.log(prob.astype(float))))\n",
    "        elif Y_train[i] == 1:\n",
    "            cost -= 1/len_X_train * np.sum(np.sum(y_true[1].astype(float)*np.log(prob.astype(float))))\n",
    "        elif Y_train[i] == 2:\n",
    "            cost -= 1/len_X_train * np.sum(np.sum(y_true[2].astype(float)*np.log(prob.astype(float))))\n",
    "        elif Y_train[i] == 3:\n",
    "            cost -= 1/len_X_train * np.sum(np.sum(y_true[3].astype(float)*np.log(prob.astype(float))))\n",
    "    return cost"
   ],
   "metadata": {
    "collapsed": false,
    "pycharm": {
     "name": "#%%\n"
    }
   }
  },
  {
   "cell_type": "markdown",
   "source": [
    "training the circuit parameters"
   ],
   "metadata": {
    "collapsed": false
   }
  },
  {
   "cell_type": "code",
   "execution_count": 16,
   "outputs": [
    {
     "name": "stdout",
     "output_type": "stream",
     "text": [
      "Step 0, cost: 1.3208564377267116\n",
      "Step 5, cost: 1.1823051682138255\n",
      "Step 10, cost: 1.1674345594696223\n",
      "Step 15, cost: 1.1575947326696585\n",
      "Step 20, cost: 1.1490309587724103\n",
      "Step 25, cost: 1.1409913078584855\n",
      "Step 30, cost: 1.1342929491757279\n",
      "Step 35, cost: 1.1312570996124969\n",
      "Step 40, cost: 1.1288944016059448\n",
      "Step 45, cost: 1.1265888948871845\n",
      "Step 50, cost: 1.1243693990595809\n",
      "Step 55, cost: 1.1230868160506686\n",
      "Step 60, cost: 1.1225465241968193\n",
      "Step 65, cost: 1.1220176356117064\n",
      "Step 70, cost: 1.1216901215918536\n",
      "Step 75, cost: 1.1215141991811468\n",
      "Step 80, cost: 1.1212854848823077\n",
      "Step 85, cost: 1.120958552883128\n",
      "Step 90, cost: 1.1206152395844633\n",
      "Step 95, cost: 1.120247914336163\n",
      "[[ 0.24579633]\n",
      " [-0.06336454]\n",
      " [ 0.26719121]\n",
      " [-0.06481993]\n",
      " [ 1.56614255]\n",
      " [ 1.56271783]\n",
      " [ 0.69671569]\n",
      " [-0.28726877]\n",
      " [ 0.15947218]\n",
      " [ 0.18060022]\n",
      " [ 0.17565438]\n",
      " [ 1.00375459]\n",
      " [ 0.2266194 ]\n",
      " [-0.25750108]\n",
      " [-0.02083074]\n",
      " [-0.4699564 ]\n",
      " [ 0.52347125]\n",
      " [ 1.24121563]\n",
      " [ 0.13527372]\n",
      " [-0.20762295]\n",
      " [ 0.02097157]\n",
      " [ 1.23122822]\n",
      " [ 0.42913509]\n",
      " [ 1.25642007]\n",
      " [ 0.26656383]\n",
      " [-0.19001233]\n",
      " [ 0.23149406]\n",
      " [-0.34829223]\n",
      " [ 0.29711902]\n",
      " [ 1.76503088]\n",
      " [-0.00237741]\n",
      " [-0.19549177]]\n"
     ]
    }
   ],
   "source": [
    "# training the circuit parameters\n",
    "x2 = np.random.random(size=[32, 1], requires_grad=True)\n",
    "params = x2[:]\n",
    "optimizer = qml.AdamOptimizer(stepsize=0.1)\n",
    "\n",
    "for k in range(100):\n",
    "    if k % 5 == 0:\n",
    "        print(f\"Step {k}, cost: {costfunc(params)}\")\n",
    "    params = optimizer.step(costfunc, params)\n",
    "print(params)"
   ],
   "metadata": {
    "collapsed": false,
    "pycharm": {
     "name": "#%%\n"
    }
   }
  },
  {
   "cell_type": "code",
   "execution_count": 17,
   "outputs": [
    {
     "data": {
      "text/plain": "tensor([[ 0.24579633],\n        [-0.06336454],\n        [ 0.26719121],\n        [-0.06481993],\n        [ 1.56614255],\n        [ 1.56271783],\n        [ 0.69671569],\n        [-0.28726877],\n        [ 0.15947218],\n        [ 0.18060022],\n        [ 0.17565438],\n        [ 1.00375459],\n        [ 0.2266194 ],\n        [-0.25750108],\n        [-0.02083074],\n        [-0.4699564 ],\n        [ 0.52347125],\n        [ 1.24121563],\n        [ 0.13527372],\n        [-0.20762295],\n        [ 0.02097157],\n        [ 1.23122822],\n        [ 0.42913509],\n        [ 1.25642007],\n        [ 0.26656383],\n        [-0.19001233],\n        [ 0.23149406],\n        [-0.34829223],\n        [ 0.29711902],\n        [ 1.76503088],\n        [-0.00237741],\n        [-0.19549177]], requires_grad=True)"
     },
     "execution_count": 17,
     "metadata": {},
     "output_type": "execute_result"
    }
   ],
   "source": [
    "params"
   ],
   "metadata": {
    "collapsed": false,
    "pycharm": {
     "name": "#%%\n"
    }
   }
  },
  {
   "cell_type": "markdown",
   "source": [
    "### Checking the circuit on first X_test data."
   ],
   "metadata": {
    "collapsed": false
   }
  },
  {
   "cell_type": "code",
   "execution_count": 18,
   "outputs": [
    {
     "data": {
      "text/plain": "3"
     },
     "execution_count": 18,
     "metadata": {},
     "output_type": "execute_result"
    }
   ],
   "source": [
    "x = circuit_peps(X_test[0], params)\n",
    "np.argmax(x)"
   ],
   "metadata": {
    "collapsed": false,
    "pycharm": {
     "name": "#%%\n"
    }
   }
  },
  {
   "cell_type": "code",
   "execution_count": 19,
   "outputs": [
    {
     "data": {
      "text/plain": "3"
     },
     "execution_count": 19,
     "metadata": {},
     "output_type": "execute_result"
    }
   ],
   "source": [
    "Y_test[0]"
   ],
   "metadata": {
    "collapsed": false,
    "pycharm": {
     "name": "#%%\n"
    }
   }
  },
  {
   "cell_type": "markdown",
   "source": [
    "### Calculating accuracy\n",
    "On the test set extracted from the training set. When predicted_label does not match test_label, both values are displayed."
   ],
   "metadata": {
    "collapsed": false
   }
  },
  {
   "cell_type": "code",
   "execution_count": 20,
   "outputs": [
    {
     "name": "stdout",
     "output_type": "stream",
     "text": [
      "Predicted label: 3\n",
      "True label 1\n",
      "Predicted label: 3\n",
      "True label 1\n",
      "Predicted label: 3\n",
      "True label 1\n",
      "Predicted label: 3\n",
      "True label 1\n",
      "Predicted label: 3\n",
      "True label 1\n",
      "Predicted label: 3\n",
      "True label 1\n",
      "Predicted label: 3\n",
      "True label 1\n",
      "Testing accuracy: 91.36%\n"
     ]
    }
   ],
   "source": [
    "test_correct = 0\n",
    "\n",
    "for img, true_label in zip(X_test, Y_test):\n",
    "    # Get predictions from the quantum circuit\n",
    "    predictions = circuit_peps(img, params)\n",
    "\n",
    "    # Determine the predicted label\n",
    "    predicted_label = np.argmax(predictions)\n",
    "\n",
    "    # Increment correct count if prediction matches the true label\n",
    "    if predicted_label == true_label:\n",
    "        test_correct += 1\n",
    "    else:\n",
    "        print(\"Predicted label:\", predicted_label)\n",
    "        print(\"True label\",true_label)\n",
    "\n",
    "# Calculate and print the testing accuracy percentage\n",
    "accuracy = 100 * test_correct / len(X_test)\n",
    "print(f\"Testing accuracy: {accuracy:.2f}%\")"
   ],
   "metadata": {
    "collapsed": false,
    "pycharm": {
     "name": "#%%\n"
    }
   }
  },
  {
   "cell_type": "markdown",
   "source": [
    "We can see that it is most often mistaken in recognizing class 1. The model says it is 3 when in fact it is 1."
   ],
   "metadata": {
    "collapsed": false,
    "pycharm": {
     "name": "#%% md\n"
    }
   }
  },
  {
   "cell_type": "markdown",
   "source": [
    "### Summary\n",
    "Classification for 4 class, PEPS circuit.\n",
    "Using 400 images from train dataset.\n",
    "Training set: images [73 82 86 82] per classes [0 1 2 3]\n",
    "Testing set: images [28 19 15 19] per classes [0,1,2,3]\n",
    "\n",
    "\n",
    "Testing accuracy: 91.36%\n"
   ],
   "metadata": {
    "collapsed": false
   }
  },
  {
   "cell_type": "code",
   "execution_count": null,
   "outputs": [],
   "source": [],
   "metadata": {
    "collapsed": false,
    "pycharm": {
     "name": "#%%\n"
    }
   }
  }
 ],
 "metadata": {
  "kernelspec": {
   "display_name": "Python 3",
   "language": "python",
   "name": "python3"
  },
  "language_info": {
   "codemirror_mode": {
    "name": "ipython",
    "version": 2
   },
   "file_extension": ".py",
   "mimetype": "text/x-python",
   "name": "python",
   "nbconvert_exporter": "python",
   "pygments_lexer": "ipython2",
   "version": "2.7.6"
  }
 },
 "nbformat": 4,
 "nbformat_minor": 0
}