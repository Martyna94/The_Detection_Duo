{
 "cells": [
  {
   "cell_type": "code",
   "execution_count": null,
   "outputs": [],
   "source": [
    "import tensorflow as tf\n",
    "import json\n",
    "import os\n",
    "from PIL import Image\n",
    "import random\n",
    "import numpy as np\n",
    "import matplotlib.pyplot as plt"
   ],
   "metadata": {
    "collapsed": false,
    "pycharm": {
     "name": "#%%\n"
    }
   }
  },
  {
   "cell_type": "code",
   "execution_count": null,
   "outputs": [],
   "source": [
    "import json\n",
    "train_json = './Data_Sources/al5083/train/train.json'\n",
    "\n",
    "with open(train_json, 'r') as json_file:\n",
    "    train_data_json = json.load(json_file)\n",
    "\n",
    "label_count = [0, 0, 0, 0, 0, 0]\n",
    "for l in train_data_json:\n",
    "    label_count[train_data_json[l]] += 1\n",
    "\n",
    "label_count"
   ],
   "metadata": {
    "collapsed": false,
    "pycharm": {
     "name": "#%%\n"
    }
   }
  },
  {
   "cell_type": "code",
   "execution_count": null,
   "outputs": [],
   "source": [
    "import tensorflow as tf\n",
    "label_names = [\"good weld\", \"burn through\", \"contamination\", \"lack of fusion\", \"misalignment\", \"lack of penetration\"]\n",
    "labels = [0, 1, 2, 3, 4, 5]\n",
    "one_hot_encoding = tf.keras.utils.to_categorical(labels, num_classes=6)"
   ],
   "metadata": {
    "collapsed": false,
    "pycharm": {
     "name": "#%%\n"
    }
   }
  },
  {
   "cell_type": "code",
   "execution_count": null,
   "outputs": [],
   "source": [
    "one_hot_encoding"
   ],
   "metadata": {
    "collapsed": false,
    "pycharm": {
     "name": "#%%\n"
    }
   }
  },
  {
   "cell_type": "code",
   "execution_count": null,
   "outputs": [],
   "source": [
    "all_data = []\n",
    "image_size = (16, 16)\n",
    "label_count = [0, 0, 0, 0]"
   ],
   "metadata": {
    "collapsed": false,
    "pycharm": {
     "name": "#%%\n"
    }
   }
  },
  {
   "cell_type": "code",
   "execution_count": null,
   "outputs": [],
   "source": [
    "import os\n",
    "def load_data(path):\n",
    "    for folder in os.listdir(path):\n",
    "        folder_path = os.path.join(path, folder)\n",
    "        if(os.path.isdir(folder_path)):\n",
    "            for img_name in os.listdir(folder_path):\n",
    "\n",
    "                img_path = os.path.join(folder_path, img_name)\n",
    "                key_name = folder + '/' + img_name\n",
    "                label = train_data_json[key_name]\n",
    "\n",
    "                if(label_count[label] > 400):\n",
    "                    continue\n",
    "                if label == 4 | label == 5:\n",
    "                    continue\n",
    "                label_count[label] += 1\n",
    "                image = Image.open(img_path).resize(image_size)\n",
    "                image = tf.convert_to_tensor(image)\n",
    "                all_data.append((image, label))\n",
    "\n",
    "                if(len(all_data)%100==0):\n",
    "                    print(f\"Total images loaded : {len(all_data)}, Label count : {label_count}\", end = '\\r')"
   ],
   "metadata": {
    "collapsed": false,
    "pycharm": {
     "name": "#%%\n"
    }
   }
  },
  {
   "cell_type": "code",
   "execution_count": null,
   "outputs": [],
   "source": [
    "load_data('./Data_Sources/al5083/train')"
   ],
   "metadata": {
    "collapsed": false,
    "pycharm": {
     "name": "#%%\n"
    }
   }
  },
  {
   "cell_type": "code",
   "execution_count": null,
   "outputs": [],
   "source": [
    "random.shuffle(all_data)"
   ],
   "metadata": {
    "collapsed": false,
    "pycharm": {
     "name": "#%%\n"
    }
   }
  },
  {
   "cell_type": "code",
   "execution_count": null,
   "outputs": [],
   "source": [
    "X = []\n",
    "y = []\n",
    "\n",
    "for data in all_data:\n",
    "    X.append(data[0])\n",
    "    y.append(data[1])"
   ],
   "metadata": {
    "collapsed": false,
    "pycharm": {
     "name": "#%%\n"
    }
   }
  },
  {
   "cell_type": "code",
   "execution_count": null,
   "outputs": [],
   "source": [
    "import numpy as np\n",
    "rand_num = np.random.randint(low = 0, high = len(all_data))\n",
    "X[rand_num], y[rand_num]"
   ],
   "metadata": {
    "collapsed": false,
    "pycharm": {
     "name": "#%%\n"
    }
   }
  },
  {
   "cell_type": "code",
   "execution_count": null,
   "outputs": [],
   "source": [
    "import matplotlib.pyplot as plt\n",
    "rand_img = np.random.randint(low = 0, high = len(X))\n",
    "plt.imshow(X[rand_img], cmap='gray')\n",
    "plt.show()\n",
    "print(f\"Label : {label_names[np.argmax(y[rand_img])]}\")"
   ],
   "metadata": {
    "collapsed": false,
    "pycharm": {
     "name": "#%%\n"
    }
   }
  },
  {
   "cell_type": "code",
   "execution_count": null,
   "outputs": [],
   "source": [
    "total_data = len(X)\n",
    "X_train, y_train = X[:int(total_data*0.8)], y[:int(total_data*0.8)]\n",
    "X_test, y_test = X[int(total_data*0.8):], y[int(total_data*0.8):]"
   ],
   "metadata": {
    "collapsed": false,
    "pycharm": {
     "name": "#%%\n"
    }
   }
  },
  {
   "cell_type": "code",
   "execution_count": null,
   "outputs": [],
   "source": [
    "X_train[0]"
   ],
   "metadata": {
    "collapsed": false,
    "pycharm": {
     "name": "#%%\n"
    }
   }
  },
  {
   "cell_type": "code",
   "execution_count": null,
   "outputs": [],
   "source": [
    "org_X_train,org_y_train,org_X_test,org_y_test = X_train,y_train,X_test,y_test"
   ],
   "metadata": {
    "collapsed": false,
    "pycharm": {
     "name": "#%%\n"
    }
   }
  },
  {
   "cell_type": "code",
   "execution_count": null,
   "outputs": [],
   "source": [
    "plt.imshow(X_train[0], cmap='gray')\n",
    "print(f\"Label : {label_names[y_train[0]]}\")"
   ],
   "metadata": {
    "collapsed": false,
    "pycharm": {
     "name": "#%%\n"
    }
   }
  },
  {
   "cell_type": "code",
   "execution_count": null,
   "outputs": [],
   "source": [
    "# This means converting the 2D array of image pixels (16x16 pixels) into a 1D array.\n",
    "X_train = [tf.reshape(x, [-1]) for x in org_X_train]\n",
    "#y_train = [tf.reshape(y, [-1]) for y in y_train]\n",
    "\n",
    "X_test = [tf.reshape(x, [-1]) for x in org_X_test]\n",
    "#y_test = [tf.reshape(y, [-1]) for y in y_test]"
   ],
   "metadata": {
    "collapsed": false,
    "pycharm": {
     "name": "#%%\n"
    }
   }
  },
  {
   "cell_type": "code",
   "execution_count": null,
   "outputs": [],
   "source": [
    "X_train = np.array(X_train)\n",
    "X_train = X_train.astype(np.int8)"
   ],
   "metadata": {
    "collapsed": false,
    "pycharm": {
     "name": "#%%\n"
    }
   }
  },
  {
   "cell_type": "code",
   "execution_count": null,
   "outputs": [],
   "source": [
    "values, counts = np.unique([label_names[i] for i in y_train], return_counts=True)\n",
    "print(values)\n",
    "print(counts)"
   ],
   "metadata": {
    "collapsed": false,
    "pycharm": {
     "name": "#%%\n"
    }
   }
  },
  {
   "cell_type": "code",
   "execution_count": null,
   "outputs": [],
   "source": [
    "import pennylane as qml\n",
    "from pennylane import numpy as np\n",
    "from IPython.display import display\n",
    "\n",
    "dev = qml.device(\"default.qubit\", wires=8)\n",
    "\n",
    "\n",
    "@qml.qnode(dev)\n",
    "def circuit(image, template_weights):\n",
    "    qml.AmplitudeEmbedding(features=image, wires=range(8), normalize=True)\n",
    "\n",
    "    i = 0\n",
    "    while(i < 8):\n",
    "        qml.RY(template_weights[i], wires=i)\n",
    "        i = i+1\n",
    "\n",
    "    for j in range(0, 7, 2):\n",
    "        qml.CNOT(wires=[j, j+1])\n",
    "\n",
    "    for j in range(1, 6, 2):\n",
    "        qml.RY(template_weights[i], wires=j)\n",
    "        i = i+1\n",
    "        qml.RY(template_weights[i], wires=j+1)\n",
    "        i = i+1\n",
    "        qml.CNOT(wires=[j, j+1])\n",
    "\n",
    "    for j in range(2, 5, 2):\n",
    "        qml.RY(template_weights[i], wires=j)\n",
    "        i = i+1\n",
    "        qml.RY(template_weights[i], wires=j+1)\n",
    "        i = i+1\n",
    "        qml.CNOT(wires=[j, j+1])\n",
    "\n",
    "    #qml.CNOT(wires=[3, 5])\n",
    "\n",
    "    return qml.probs([3, 5])\n",
    "\n",
    "weights = np.random.random(size=[18, 1])\n",
    "#fig, ax = qml.draw_mpl(circuit, expansion_strategy=\"device\")(X_train[0], weights)\n",
    "#fig.set_size_inches((6, 3.5))\n",
    "qml.draw_mpl(circuit, expansion_strategy=\"device\")(X_train[0], weights)\n",
    "#circuit(X_train[0], weights)"
   ],
   "metadata": {
    "collapsed": false,
    "pycharm": {
     "name": "#%%\n"
    }
   }
  },
  {
   "cell_type": "code",
   "execution_count": null,
   "outputs": [],
   "source": [
    "def costfunc(params):\n",
    "    cost = 0\n",
    "    y_true = [np.array([1, 0, 0, 0,0,0]), np.array([0, 1, 0, 0,0,0]), np.array([0, 0, 1, 0,0,0]), np.array([0, 0, 0, 1,0,0]),np.array([0, 0, 0, 0,1,0]),np.array([0, 0, 0, 0,0,1])]\n",
    "    #one_hot_encoding[label]\n",
    "    len_X_train = len(X_train)\n",
    "    for i in range(len_X_train):\n",
    "        prob = circuit(X_train[i], params)\n",
    "        if y_train[i] == 0:\n",
    "            cost -= 1/len_X_train * np.sum(np.sum(y_true[0].astype(float)*np.log(prob.astype(float))))\n",
    "        elif y_train[i] == 1:\n",
    "            cost -= 1/len_X_train * np.sum(np.sum(y_true[1].astype(float)*np.log(prob.astype(float))))\n",
    "        elif y_train[i] == 2:\n",
    "            cost -= 1/len_X_train * np.sum(np.sum(y_true[2].astype(float)*np.log(prob.astype(float))))\n",
    "        elif y_train[i] == 3:\n",
    "            cost -= 1/len_X_train * np.sum(np.sum(y_true[3].astype(float)*np.log(prob.astype(float))))\n",
    "        elif y_train[i] == 4:\n",
    "            cost -= 1/len_X_train * np.sum(np.sum(y_true[4].astype(float)*np.log(prob.astype(float))))\n",
    "        elif y_train[i] == 5:\n",
    "            cost -= 1/len_X_train * np.sum(np.sum(y_true[5].astype(float)*np.log(prob.astype(float))))\n",
    "    return cost"
   ],
   "metadata": {
    "collapsed": false,
    "pycharm": {
     "name": "#%%\n"
    }
   }
  },
  {
   "cell_type": "code",
   "execution_count": null,
   "outputs": [],
   "source": [
    "# training the circuit parameters\n",
    "x2 = np.random.random(size=[32, 1], requires_grad=True)\n",
    "params = x2[:]\n",
    "optimizer = qml.AdamOptimizer(stepsize=0.1)\n",
    "\n",
    "for k in range(2):\n",
    "    if k % 5 == 0:\n",
    "        print(f\"Step {k}, cost: {costfunc(params)}\")\n",
    "    params = optimizer.step(costfunc, params)\n",
    "print(params)"
   ],
   "metadata": {
    "collapsed": false,
    "pycharm": {
     "name": "#%%\n"
    }
   }
  }
 ],
 "metadata": {
  "kernelspec": {
   "display_name": "Python 3",
   "language": "python",
   "name": "python3"
  },
  "language_info": {
   "codemirror_mode": {
    "name": "ipython",
    "version": 2
   },
   "file_extension": ".py",
   "mimetype": "text/x-python",
   "name": "python",
   "nbconvert_exporter": "python",
   "pygments_lexer": "ipython2",
   "version": "2.7.6"
  }
 },
 "nbformat": 4,
 "nbformat_minor": 0
}