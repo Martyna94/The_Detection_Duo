{
 "cells": [
  {
   "cell_type": "code",
   "execution_count": 1,
   "outputs": [],
   "source": [
    "import tensorflow as tf\n",
    "import json\n",
    "import os\n",
    "from PIL import Image\n",
    "import random\n",
    "import numpy as np\n",
    "import matplotlib.pyplot as plt"
   ],
   "metadata": {
    "collapsed": false,
    "pycharm": {
     "name": "#%%\n"
    }
   }
  },
  {
   "cell_type": "code",
   "execution_count": 2,
   "outputs": [
    {
     "data": {
      "text/plain": "[8758, 1783, 6325, 4028, 2953, 2819]"
     },
     "execution_count": 2,
     "metadata": {},
     "output_type": "execute_result"
    }
   ],
   "source": [
    "import json\n",
    "train_json = './Data_Sources/al5083/train/train.json'\n",
    "\n",
    "with open(train_json, 'r') as json_file:\n",
    "    train_data_json = json.load(json_file)\n",
    "\n",
    "label_count = [0, 0, 0, 0, 0, 0]\n",
    "for l in train_data_json:\n",
    "    label_count[train_data_json[l]] += 1\n",
    "\n",
    "label_count"
   ],
   "metadata": {
    "collapsed": false,
    "pycharm": {
     "name": "#%%\n"
    }
   }
  },
  {
   "cell_type": "code",
   "execution_count": 3,
   "outputs": [],
   "source": [
    "import tensorflow as tf\n",
    "label_names = [\"good weld\", \"burn through\", \"contamination\", \"lack of fusion\", \"misalignment\", \"lack of penetration\"]\n",
    "labels = [0, 1, 2, 3, 4, 5]\n",
    "one_hot_encoding = tf.keras.utils.to_categorical(labels, num_classes=6)"
   ],
   "metadata": {
    "collapsed": false,
    "pycharm": {
     "name": "#%%\n"
    }
   }
  },
  {
   "cell_type": "code",
   "execution_count": null,
   "outputs": [],
   "source": [
    "one_hot_encoding"
   ],
   "metadata": {
    "collapsed": false,
    "pycharm": {
     "name": "#%%\n"
    }
   }
  },
  {
   "cell_type": "code",
   "execution_count": 19,
   "outputs": [],
   "source": [
    "all_data = []\n",
    "image_size = (16, 16)\n",
    "label_count = [0, 0, 0, 0]"
   ],
   "metadata": {
    "collapsed": false,
    "pycharm": {
     "name": "#%%\n"
    }
   }
  },
  {
   "cell_type": "code",
   "execution_count": 22,
   "outputs": [],
   "source": [
    "import os\n",
    "def load_data(path):\n",
    "    for folder in os.listdir(path):\n",
    "        folder_path = os.path.join(path, folder)\n",
    "        if(os.path.isdir(folder_path)):\n",
    "            for img_name in os.listdir(folder_path):\n",
    "\n",
    "                img_path = os.path.join(folder_path, img_name)\n",
    "                key_name = folder + '/' + img_name\n",
    "                label = train_data_json[key_name]\n",
    "\n",
    "                if label == 4 or label == 5:\n",
    "                    continue\n",
    "                if(label_count[label] > 400):\n",
    "                    continue\n",
    "\n",
    "\n",
    "                label_count[label] += 1\n",
    "                image = Image.open(img_path).resize(image_size)\n",
    "                image = tf.convert_to_tensor(image)\n",
    "                all_data.append((image, label))\n",
    "\n",
    "                if(len(all_data)%100==0):\n",
    "                    print(f\"Total images loaded : {len(all_data)}, Label count : {label_count}\", end = '\\r')"
   ],
   "metadata": {
    "collapsed": false,
    "pycharm": {
     "name": "#%%\n"
    }
   }
  },
  {
   "cell_type": "code",
   "execution_count": 23,
   "outputs": [
    {
     "name": "stdout",
     "output_type": "stream",
     "text": [
      "Total images loaded : 1600, Label count : [401, 401, 401, 397]\r"
     ]
    }
   ],
   "source": [
    "load_data('./Data_Sources/al5083/train')"
   ],
   "metadata": {
    "collapsed": false,
    "pycharm": {
     "name": "#%%\n"
    }
   }
  },
  {
   "cell_type": "code",
   "execution_count": 24,
   "outputs": [],
   "source": [
    "random.shuffle(all_data)"
   ],
   "metadata": {
    "collapsed": false,
    "pycharm": {
     "name": "#%%\n"
    }
   }
  },
  {
   "cell_type": "code",
   "execution_count": 25,
   "outputs": [],
   "source": [
    "X = []\n",
    "y = []\n",
    "\n",
    "for data in all_data:\n",
    "    X.append(data[0])\n",
    "    y.append(data[1])"
   ],
   "metadata": {
    "collapsed": false,
    "pycharm": {
     "name": "#%%\n"
    }
   }
  },
  {
   "cell_type": "code",
   "execution_count": 12,
   "outputs": [
    {
     "data": {
      "text/plain": "(<tf.Tensor: shape=(16, 16), dtype=uint8, numpy=\n array([[ 20,  21,  21,  22,  24,  25,  29,  33,  31,  28,  24,  20,  21,\n          16,  12,  10],\n        [ 23,  22,  22,  23,  27,  30,  34,  37,  36,  33,  30,  29,  25,\n          17,  13,  11],\n        [ 24,  28,  29,  31,  37,  43,  47,  51,  49,  47,  42,  33,  26,\n          22,  18,  14],\n        [ 27,  32,  38,  43,  48,  70, 106, 100,  60,  51,  44,  38,  32,\n          27,  22,  18],\n        [ 37,  42,  44,  46,  52,  72, 141, 143,  93,  71,  54,  46,  40,\n          34,  29,  24],\n        [ 43,  46,  47,  51,  57,  72, 158, 187, 129,  98,  71,  55,  47,\n          42,  36,  30],\n        [ 45,  47,  50,  54,  62,  94, 156, 181, 162, 132,  96,  68,  56,\n          49,  43,  36],\n        [ 46,  48,  51,  56,  77, 125, 151, 165, 166, 150, 124,  91,  66,\n          59,  52,  45],\n        [ 45,  47,  51,  57,  97, 143, 142, 149, 162, 160, 133, 106,  76,\n          58,  52,  47],\n        [ 43,  48,  52,  59, 107, 136, 113, 129, 147, 154, 129,  98,  78,\n          59,  51,  47],\n        [ 37,  46,  52,  57,  90, 121, 104, 111, 133, 137, 111,  84,  71,\n          59,  52,  46],\n        [ 37,  43,  50,  54,  84, 110, 106,  90, 102, 112,  87,  70,  64,\n          58,  51,  44],\n        [ 36,  40,  46,  50,  73, 100,  90,  72,  90,  96,  80,  63,  57,\n          54,  51,  44],\n        [ 31,  38,  45,  47,  64,  90,  79,  60,  78,  85,  82,  60,  52,\n          49,  47,  45],\n        [ 28,  33,  41,  46,  63,  66,  58,  55,  79,  85,  84,  61,  50,\n          44,  39,  37],\n        [ 23,  28,  34,  42,  54,  59,  57,  59,  68,  80,  81,  55,  47,\n          40,  33,  29]], dtype=uint8)>,\n 2)"
     },
     "execution_count": 12,
     "metadata": {},
     "output_type": "execute_result"
    }
   ],
   "source": [
    "import numpy as np\n",
    "rand_num = np.random.randint(low = 0, high = len(all_data))\n",
    "X[rand_num], y[rand_num]"
   ],
   "metadata": {
    "collapsed": false,
    "pycharm": {
     "name": "#%%\n"
    }
   }
  },
  {
   "cell_type": "code",
   "execution_count": 13,
   "outputs": [
    {
     "data": {
      "text/plain": "<Figure size 640x480 with 1 Axes>",
      "image/png": "[encoded data removed]"
     },
     "metadata": {},
     "output_type": "display_data"
    },
    {
     "name": "stdout",
     "output_type": "stream",
     "text": [
      "Label : good weld\n"
     ]
    }
   ],
   "source": [
    "import matplotlib.pyplot as plt\n",
    "rand_img = np.random.randint(low = 0, high = len(X))\n",
    "plt.imshow(X[rand_img], cmap='gray')\n",
    "plt.show()\n",
    "print(f\"Label : {label_names[np.argmax(y[rand_img])]}\")"
   ],
   "metadata": {
    "collapsed": false,
    "pycharm": {
     "name": "#%%\n"
    }
   }
  },
  {
   "cell_type": "code",
   "execution_count": 26,
   "outputs": [],
   "source": [
    "total_data = len(X)\n",
    "X_train, y_train = X[:int(total_data*0.8)], y[:int(total_data*0.8)]\n",
    "X_test, y_test = X[int(total_data*0.8):], y[int(total_data*0.8):]"
   ],
   "metadata": {
    "collapsed": false,
    "pycharm": {
     "name": "#%%\n"
    }
   }
  },
  {
   "cell_type": "code",
   "execution_count": null,
   "outputs": [],
   "source": [
    "X_train[0]"
   ],
   "metadata": {
    "collapsed": false,
    "pycharm": {
     "name": "#%%\n"
    }
   }
  },
  {
   "cell_type": "code",
   "execution_count": 15,
   "outputs": [],
   "source": [
    "org_X_train,org_y_train,org_X_test,org_y_test = X_train,y_train,X_test,y_test"
   ],
   "metadata": {
    "collapsed": false,
    "pycharm": {
     "name": "#%%\n"
    }
   }
  },
  {
   "cell_type": "code",
   "execution_count": 16,
   "outputs": [
    {
     "name": "stdout",
     "output_type": "stream",
     "text": [
      "Label : lack of fusion\n"
     ]
    },
    {
     "data": {
      "text/plain": "<Figure size 640x480 with 1 Axes>",
      "image/png": "[encoded data removed]"
     },
     "metadata": {},
     "output_type": "display_data"
    }
   ],
   "source": [
    "plt.imshow(X_train[0], cmap='gray')\n",
    "print(f\"Label : {label_names[y_train[0]]}\")"
   ],
   "metadata": {
    "collapsed": false,
    "pycharm": {
     "name": "#%%\n"
    }
   }
  },
  {
   "cell_type": "code",
   "execution_count": 27,
   "outputs": [],
   "source": [
    "# This means converting the 2D array of image pixels (16x16 pixels) into a 1D array.\n",
    "X_train = [tf.reshape(x, [-1]) for x in org_X_train]\n",
    "#y_train = [tf.reshape(y, [-1]) for y in y_train]\n",
    "\n",
    "X_test = [tf.reshape(x, [-1]) for x in org_X_test]\n",
    "#y_test = [tf.reshape(y, [-1]) for y in y_test]"
   ],
   "metadata": {
    "collapsed": false,
    "pycharm": {
     "name": "#%%\n"
    }
   }
  },
  {
   "cell_type": "code",
   "execution_count": 28,
   "outputs": [],
   "source": [
    "X_train = np.array(X_train)\n",
    "X_train = X_train.astype(np.int8)"
   ],
   "metadata": {
    "collapsed": false,
    "pycharm": {
     "name": "#%%\n"
    }
   }
  },
  {
   "cell_type": "code",
   "execution_count": null,
   "outputs": [],
   "source": [
    "values, counts = np.unique([label_names[i] for i in y_train], return_counts=True)\n",
    "print(values)\n",
    "print(counts)"
   ],
   "metadata": {
    "collapsed": false,
    "pycharm": {
     "name": "#%%\n"
    }
   }
  },
  {
   "cell_type": "code",
   "execution_count": 1,
   "outputs": [
    {
     "ename": "NameError",
     "evalue": "name 'X_train' is not defined",
     "output_type": "error",
     "traceback": [
      "\u001B[1;31m---------------------------------------------------------------------------\u001B[0m",
      "\u001B[1;31mNameError\u001B[0m                                 Traceback (most recent call last)",
      "Cell \u001B[1;32mIn[1], line 41\u001B[0m\n\u001B[0;32m     38\u001B[0m weights \u001B[38;5;241m=\u001B[39m np\u001B[38;5;241m.\u001B[39mrandom\u001B[38;5;241m.\u001B[39mrandom(size\u001B[38;5;241m=\u001B[39m[\u001B[38;5;241m18\u001B[39m, \u001B[38;5;241m1\u001B[39m])\n\u001B[0;32m     39\u001B[0m \u001B[38;5;66;03m#fig, ax = qml.draw_mpl(circuit, expansion_strategy=\"device\")(X_train[0], weights)\u001B[39;00m\n\u001B[0;32m     40\u001B[0m \u001B[38;5;66;03m#fig.set_size_inches((6, 3.5))\u001B[39;00m\n\u001B[1;32m---> 41\u001B[0m qml\u001B[38;5;241m.\u001B[39mdraw_mpl(circuit, expansion_strategy\u001B[38;5;241m=\u001B[39m\u001B[38;5;124m\"\u001B[39m\u001B[38;5;124mdevice\u001B[39m\u001B[38;5;124m\"\u001B[39m)(\u001B[43mX_train\u001B[49m[\u001B[38;5;241m0\u001B[39m], weights)\n",
      "\u001B[1;31mNameError\u001B[0m: name 'X_train' is not defined"
     ]
    }
   ],
   "source": [
    "import pennylane as qml\n",
    "from pennylane import numpy as np\n",
    "from IPython.display import display\n",
    "\n",
    "dev = qml.device(\"default.qubit\", wires=8)\n",
    "\n",
    "\n",
    "@qml.qnode(dev)\n",
    "def circuit(image, template_weights):\n",
    "    qml.AmplitudeEmbedding(features=image, wires=range(8), normalize=True)\n",
    "\n",
    "    i = 0\n",
    "    while(i < 8):\n",
    "        qml.RY(template_weights[i], wires=i)\n",
    "        i = i+1\n",
    "\n",
    "    for j in range(0, 7, 2):\n",
    "        qml.CNOT(wires=[j, j+1])\n",
    "\n",
    "    for j in range(1, 6, 2):\n",
    "        qml.RY(template_weights[i], wires=j)\n",
    "        i = i+1\n",
    "        qml.RY(template_weights[i], wires=j+1)\n",
    "        i = i+1\n",
    "        qml.CNOT(wires=[j, j+1])\n",
    "\n",
    "    for j in range(2, 5, 2):\n",
    "        qml.RY(template_weights[i], wires=j)\n",
    "        i = i+1\n",
    "        qml.RY(template_weights[i], wires=j+1)\n",
    "        i = i+1\n",
    "        qml.CNOT(wires=[j, j+1])\n",
    "\n",
    "    #qml.CNOT(wires=[3, 5])\n",
    "\n",
    "    return qml.probs([3, 5])\n",
    "\n",
    "weights = np.random.random(size=[18, 1])\n",
    "#fig, ax = qml.draw_mpl(circuit, expansion_strategy=\"device\")(X_train[0], weights)\n",
    "#fig.set_size_inches((6, 3.5))\n",
    "qml.draw_mpl(circuit, expansion_strategy=\"device\")(X_train[0], weights)\n",
    "#circuit(X_train[0], weights)"
   ],
   "metadata": {
    "collapsed": false,
    "pycharm": {
     "name": "#%%\n"
    }
   }
  },
  {
   "cell_type": "code",
   "execution_count": 31,
   "outputs": [
    {
     "name": "stderr",
     "output_type": "stream",
     "text": [
      "C:\\Users\\marty\\anaconda3\\envs\\Womanium_Project\\lib\\site-packages\\autoray\\autoray.py:80: RuntimeWarning: invalid value encountered in sqrt\n",
      "  return get_lib_fn(backend, fn)(*args, **kwargs)\n"
     ]
    },
    {
     "data": {
      "text/plain": "<Figure size 600x350 with 1 Axes>",
      "image/png": "[encoded data removed]"
     },
     "metadata": {},
     "output_type": "display_data"
    }
   ],
   "source": [
    "import pennylane as qml\n",
    "from pennylane import numpy as np\n",
    "from IPython.display import display\n",
    "dev = qml.device(\"default.qubit\", wires=8)\n",
    "\n",
    "\n",
    "@qml.qnode(dev)\n",
    "def circuit_peps(image, template_weights):\n",
    "    qml.AmplitudeEmbedding(features=image, wires=range(8), normalize=True)\n",
    "\n",
    "    i = 0\n",
    "\n",
    "    qml.RY(template_weights[i], wires=3)\n",
    "    i = i+1\n",
    "    qml.RY(template_weights[i], wires=4)\n",
    "    i = i+1\n",
    "    qml.CNOT(wires=[3, 4])\n",
    "\n",
    "    qml.RY(template_weights[i], wires=2)\n",
    "    i = i+1\n",
    "    qml.RY(template_weights[i], wires=3)\n",
    "    i = i+1\n",
    "    qml.CNOT(wires=[2, 3])\n",
    "\n",
    "    qml.RY(template_weights[i], wires=4)\n",
    "    i = i+1\n",
    "    qml.RY(template_weights[i], wires=5)\n",
    "    i = i+1\n",
    "    qml.CNOT(wires=[4, 5])\n",
    "\n",
    "    for j in range(1, 6, 2):\n",
    "        qml.RY(template_weights[i], wires=j)\n",
    "        i = i+1\n",
    "        qml.RY(template_weights[i], wires=j+1)\n",
    "        i = i+1\n",
    "        qml.CNOT(wires=[j, j+1])\n",
    "\n",
    "    for j in range(0, 7, 2):\n",
    "        qml.RY(template_weights[i], wires=j)\n",
    "        i = i+1\n",
    "        qml.RY(template_weights[i], wires=j+1)\n",
    "        i = i+1\n",
    "        qml.CNOT(wires=[j, j+1])\n",
    "\n",
    "    for j in range(1, 6, 2):\n",
    "        qml.RY(template_weights[i], wires=j)\n",
    "        i = i+1\n",
    "        qml.RY(template_weights[i], wires=j+1)\n",
    "        i = i+1\n",
    "        qml.CNOT(wires=[j, j+1])\n",
    "\n",
    "    qml.RY(template_weights[i], wires=2)\n",
    "    i = i+1\n",
    "    qml.RY(template_weights[i], wires=3)\n",
    "    i = i+1\n",
    "    qml.CNOT(wires=[2, 3])\n",
    "\n",
    "    qml.RY(template_weights[i], wires=4)\n",
    "    i = i+1\n",
    "    qml.RY(template_weights[i], wires=5)\n",
    "    i = i+1\n",
    "    qml.CNOT(wires=[4, 5])\n",
    "\n",
    "    qml.RY(template_weights[i], wires=3)\n",
    "    i = i+1\n",
    "    qml.RY(template_weights[i], wires=4)\n",
    "    i = i+1\n",
    "    qml.CNOT(wires=[3, 4])\n",
    "\n",
    "\n",
    "    return qml.probs([3, 4])\n",
    "\n",
    "weights = np.random.random(size=[32, 1])\n",
    "fig, ax = qml.draw_mpl(circuit_peps, expansion_strategy=\"device\")(X_train[0], weights)\n",
    "fig.set_size_inches((6, 3.5))"
   ],
   "metadata": {
    "collapsed": false,
    "pycharm": {
     "name": "#%%\n"
    }
   }
  },
  {
   "cell_type": "code",
   "execution_count": 37,
   "outputs": [
    {
     "data": {
      "text/plain": "1283"
     },
     "execution_count": 37,
     "metadata": {},
     "output_type": "execute_result"
    }
   ],
   "source": [
    "len(y_train)"
   ],
   "metadata": {
    "collapsed": false,
    "pycharm": {
     "name": "#%%\n"
    }
   }
  },
  {
   "cell_type": "code",
   "execution_count": 38,
   "outputs": [
    {
     "data": {
      "text/plain": "1924"
     },
     "execution_count": 38,
     "metadata": {},
     "output_type": "execute_result"
    }
   ],
   "source": [
    "len(X_train)"
   ],
   "metadata": {
    "collapsed": false,
    "pycharm": {
     "name": "#%%\n"
    }
   }
  },
  {
   "cell_type": "code",
   "execution_count": 34,
   "outputs": [],
   "source": [
    "def costfunc(params):\n",
    "    cost = 0\n",
    "    y_true = [np.array([1, 0, 0, 0]), np.array([0, 1, 0, 0]), np.array([0, 0, 1, 0]), np.array([0, 0, 0, 1])]\n",
    "    len_X_train = len(X_train)\n",
    "    for i in range(len_X_train):\n",
    "        prob = circuit_peps(X_train[i], params)\n",
    "        if y_train[i] == 0:\n",
    "            cost -= 1/len_X_train * np.sum(np.sum(y_true[0].astype(float)*np.log(prob.astype(float))))\n",
    "        elif y_train[i] == 1:\n",
    "            cost -= 1/len_X_train * np.sum(np.sum(y_true[1].astype(float)*np.log(prob.astype(float))))\n",
    "        elif y_train[i] == 2:\n",
    "            cost -= 1/len_X_train * np.sum(np.sum(y_true[2].astype(float)*np.log(prob.astype(float))))\n",
    "        elif y_train[i] == 3:\n",
    "            cost -= 1/len_X_train * np.sum(np.sum(y_true[3].astype(float)*np.log(prob.astype(float))))\n",
    "    return cost"
   ],
   "metadata": {
    "collapsed": false,
    "pycharm": {
     "name": "#%%\n"
    }
   }
  },
  {
   "cell_type": "code",
   "execution_count": 35,
   "outputs": [
    {
     "name": "stderr",
     "output_type": "stream",
     "text": [
      "C:\\Users\\marty\\anaconda3\\envs\\Womanium_Project\\lib\\site-packages\\autoray\\autoray.py:80: RuntimeWarning: invalid value encountered in sqrt\n",
      "  return get_lib_fn(backend, fn)(*args, **kwargs)\n"
     ]
    },
    {
     "ename": "IndexError",
     "evalue": "list index out of range",
     "output_type": "error",
     "traceback": [
      "\u001B[1;31m---------------------------------------------------------------------------\u001B[0m",
      "\u001B[1;31mIndexError\u001B[0m                                Traceback (most recent call last)",
      "Cell \u001B[1;32mIn[35], line 8\u001B[0m\n\u001B[0;32m      6\u001B[0m \u001B[38;5;28;01mfor\u001B[39;00m k \u001B[38;5;129;01min\u001B[39;00m \u001B[38;5;28mrange\u001B[39m(\u001B[38;5;241m2\u001B[39m):\n\u001B[0;32m      7\u001B[0m     \u001B[38;5;28;01mif\u001B[39;00m k \u001B[38;5;241m%\u001B[39m \u001B[38;5;241m5\u001B[39m \u001B[38;5;241m==\u001B[39m \u001B[38;5;241m0\u001B[39m:\n\u001B[1;32m----> 8\u001B[0m         \u001B[38;5;28mprint\u001B[39m(\u001B[38;5;124mf\u001B[39m\u001B[38;5;124m\"\u001B[39m\u001B[38;5;124mStep \u001B[39m\u001B[38;5;132;01m{\u001B[39;00mk\u001B[38;5;132;01m}\u001B[39;00m\u001B[38;5;124m, cost: \u001B[39m\u001B[38;5;132;01m{\u001B[39;00mcostfunc(params)\u001B[38;5;132;01m}\u001B[39;00m\u001B[38;5;124m\"\u001B[39m)\n\u001B[0;32m      9\u001B[0m     params \u001B[38;5;241m=\u001B[39m optimizer\u001B[38;5;241m.\u001B[39mstep(costfunc, params)\n\u001B[0;32m     10\u001B[0m \u001B[38;5;28mprint\u001B[39m(params)\n",
      "Cell \u001B[1;32mIn[34], line 7\u001B[0m, in \u001B[0;36mcostfunc\u001B[1;34m(params)\u001B[0m\n\u001B[0;32m      5\u001B[0m \u001B[38;5;28;01mfor\u001B[39;00m i \u001B[38;5;129;01min\u001B[39;00m \u001B[38;5;28mrange\u001B[39m(len_X_train):\n\u001B[0;32m      6\u001B[0m     prob \u001B[38;5;241m=\u001B[39m circuit_peps(X_train[i], params)\n\u001B[1;32m----> 7\u001B[0m     \u001B[38;5;28;01mif\u001B[39;00m \u001B[43my_train\u001B[49m\u001B[43m[\u001B[49m\u001B[43mi\u001B[49m\u001B[43m]\u001B[49m \u001B[38;5;241m==\u001B[39m \u001B[38;5;241m0\u001B[39m:\n\u001B[0;32m      8\u001B[0m         cost \u001B[38;5;241m-\u001B[39m\u001B[38;5;241m=\u001B[39m \u001B[38;5;241m1\u001B[39m\u001B[38;5;241m/\u001B[39mlen_X_train \u001B[38;5;241m*\u001B[39m np\u001B[38;5;241m.\u001B[39msum(np\u001B[38;5;241m.\u001B[39msum(y_true[\u001B[38;5;241m0\u001B[39m]\u001B[38;5;241m.\u001B[39mastype(\u001B[38;5;28mfloat\u001B[39m)\u001B[38;5;241m*\u001B[39mnp\u001B[38;5;241m.\u001B[39mlog(prob\u001B[38;5;241m.\u001B[39mastype(\u001B[38;5;28mfloat\u001B[39m))))\n\u001B[0;32m      9\u001B[0m     \u001B[38;5;28;01melif\u001B[39;00m y_train[i] \u001B[38;5;241m==\u001B[39m \u001B[38;5;241m1\u001B[39m:\n",
      "\u001B[1;31mIndexError\u001B[0m: list index out of range"
     ]
    }
   ],
   "source": [
    "# training the circuit parameters\n",
    "x2 = np.random.random(size=[32, 1], requires_grad=True)\n",
    "params = x2[:]\n",
    "optimizer = qml.AdamOptimizer(stepsize=0.1)\n",
    "\n",
    "for k in range(2):\n",
    "    if k % 5 == 0:\n",
    "        print(f\"Step {k}, cost: {costfunc(params)}\")\n",
    "    params = optimizer.step(costfunc, params)\n",
    "print(params)"
   ],
   "metadata": {
    "collapsed": false,
    "pycharm": {
     "name": "#%%\n"
    }
   }
  },
  {
   "cell_type": "code",
   "execution_count": null,
   "outputs": [],
   "source": [],
   "metadata": {
    "collapsed": false,
    "pycharm": {
     "name": "#%%\n"
    }
   }
  }
 ],
 "metadata": {
  "kernelspec": {
   "display_name": "Python 3",
   "language": "python",
   "name": "python3"
  },
  "language_info": {
   "codemirror_mode": {
    "name": "ipython",
    "version": 2
   },
   "file_extension": ".py",
   "mimetype": "text/x-python",
   "name": "python",
   "nbconvert_exporter": "python",
   "pygments_lexer": "ipython2",
   "version": "2.7.6"
  }
 },
 "nbformat": 4,
 "nbformat_minor": 0
}