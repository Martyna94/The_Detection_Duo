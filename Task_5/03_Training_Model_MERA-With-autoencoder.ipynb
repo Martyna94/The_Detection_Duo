{
 "cells": [
  {
   "cell_type": "markdown",
   "metadata": {},
   "source": [
    "# Training Model MERA\n",
    "<a id=\"0\"></a> <br>\n",
    "1. [Data Preparation](#1)\n",
    "2. [Model](#2)\n",
    "3. [Experiment 1](#3)\n",
    "    a. [Training](#4)\n",
    "    b. [Test Accuracy](#5)\n",
    "4. [Experiment 2](#6)\n",
    "    a. [Training](#7)\n",
    "    b. [Test Accuracy](#8)\n",
    "4. [Experiment 3](#9)\n",
    "    a. [Training](#10)\n",
    "    b. [Test Accuracy](#11)\n",
    "5. [Experiment 4](#12)\n",
    "    a. [Training](#13)\n",
    "    b. [Test Accuracy](#14)\n",
    "\n",
    "Data Preparation:\n",
    "* image_limit: `500`\n",
    "* cropping parameters: `vertical_start_split=0.3, vertical_end_split=1.0,horizontal_start_split=0.25, horizontal_end_split=0.75`\n",
    "* image size to resize: `(64, 64)`\n",
    "* pca component: `256`\n",
    "* split data to train and validation - `train_ratio=0.7`\n",
    "\n",
    "Without batches:\n",
    "Mera_350_images:\n",
    "* Training set: [345 343 365 352 350 344]\n",
    "* Validation set: [54 52 42 48 56 49]\n",
    "* Test set: [101 105  93 100  94 107]\n",
    "* Cost function: Cross-Entropy Loss\n",
    "* Epoch: 20\n",
    "* learning rate: 0.1\n",
    "* Accuracy validation test: max 46.52%\n",
    "* training time: about 4 h\n",
    "\n"
   ]
  },
  {
   "cell_type": "markdown",
   "metadata": {},
   "source": [
    "| Experiment | Training set         | Validation set       | Test set             | Cost function      | Epoch | Batch | Learning rate | Training time | Val_accuracy | Test_accuracy |\n",
    "|------------|-----------------------|----------------------|----------------------|--------------------|-------|-------|----------------|---------------|--------------|---------------|\n",
    "| 1          | [349 364 350 350 325 361] | [61 42 39 51 61 47]  | [90 94 111 99 114 92] | Cross-Entropy Loss | 70    | 64    | 0.05           | 0.5 h         | 56.81%       | 47.16%        |\n",
    "| 2          | [349 364 350 350 325 361] | [61 42 39 51 61 47]  | [90 94 111 99 114 92] | Cross-Entropy Loss | 100   | 128   | 0.01           | 1 h           | 46.18%       | 42.5%          |\n",
    "| 3          | [349 364 350 350 325 361] | [61 42 39 51 61 47]  | [90 94 111 99 114 92] | Cross-Entropy Loss | 215   | 32    | 0.01           | 1.5 h         | 48.18%       | 42.66%        |\n",
    "| 4          | [692 688 710 702 716 691] | [93 113 107 100 87 101] | [215 199 183 198 197 208] | Cross-Entropy Loss | 300   | 64    | 0.05           | 7.5 h         | 59,9%          | 57%           |\n"
   ]
  },
  {
   "cell_type": "markdown",
   "metadata": {},
   "source": [
    "<a id=\"1\"></a>\n",
    "### Data Preparation"
   ]
  },
  {
   "cell_type": "code",
   "execution_count": 634,
   "metadata": {
    "pycharm": {
     "name": "#%%\n"
    }
   },
   "outputs": [],
   "source": [
    "from Modules.ImageLoader import ImageLoader\n",
    "loader = ImageLoader(\n",
    "    json_paths=['C:/Users/lenovo/Downloads/archive(3)/al5083/al5083/train/train.json', 'C:/Users/lenovo/Downloads/archive(3)/al5083/al5083/test/test.json'],\n",
    "    data_dirs=['C:/Users/lenovo/Downloads/archive(3)/al5083/al5083/train', 'C:/Users/lenovo/Downloads/archive(3)/al5083/al5083/test'],\n",
    "    image_size=(28, 28)\n",
    ")"
   ]
  },
  {
   "cell_type": "code",
   "execution_count": 635,
   "metadata": {
    "pycharm": {
     "name": "#%%\n"
    }
   },
   "outputs": [
    {
     "name": "stdout",
     "output_type": "stream",
     "text": [
      "Images loaded: 20800, Current label: 5, Total per label: {0: 4000, 1: 2134, 2: 4000, 3: 4000, 4: 3682, 5: 2984}\n",
      "\n",
      "Total images loaded : 20869\n",
      "Label count : {0: 4000, 1: 2134, 2: 4000, 3: 4000, 4: 3682, 5: 3053}\r"
     ]
    }
   ],
   "source": [
    "all_data = loader.load_images(image_limit=4000,vertical_start_split=0.4, vertical_end_split=1.0,horizontal_start_split=0.25, horizontal_end_split=0.75)"
   ]
  },
  {
   "cell_type": "code",
   "execution_count": 636,
   "metadata": {
    "collapsed": false,
    "jupyter": {
     "outputs_hidden": false
    }
   },
   "outputs": [],
   "source": [
    "org = all_data[:]"
   ]
  },
  {
   "cell_type": "code",
   "execution_count": 637,
   "metadata": {},
   "outputs": [],
   "source": [
    "from Modules.Utils import reduce_dataset_to_2_classes\n",
    "new_all_data = reduce_dataset_to_2_classes(all_data, class_0_count=4000, other_classes_count=800)"
   ]
  },
  {
   "cell_type": "markdown",
   "metadata": {},
   "source": [
    "Shuffles the dataset and separates it into flattened features and labels."
   ]
  },
  {
   "cell_type": "code",
   "execution_count": 638,
   "metadata": {
    "pycharm": {
     "name": "#%%\n"
    }
   },
   "outputs": [],
   "source": [
    "import Modules.Utils\n",
    "X_set,Y_set = Modules.Utils.prepare_data(new_all_data)"
   ]
  },
  {
   "cell_type": "code",
   "execution_count": 651,
   "metadata": {},
   "outputs": [
    {
     "data": {
      "text/plain": [
       "<matplotlib.image.AxesImage at 0x1b87514ef50>"
      ]
     },
     "execution_count": 651,
     "metadata": {},
     "output_type": "execute_result"
    },
    {
     "data": {
      "image/png": "[encoded data removed]",
      "text/plain": [
       "<Figure size 640x480 with 1 Axes>"
      ]
     },
     "metadata": {},
     "output_type": "display_data"
    }
   ],
   "source": [
    "import matplotlib.pyplot as plt\n",
    "plt.imshow(X_set[1000])"
   ]
  },
  {
   "cell_type": "code",
   "execution_count": 590,
   "metadata": {
    "pycharm": {
     "name": "#%%\n"
    }
   },
   "outputs": [],
   "source": [
    "#X_reduced = Modules.Utils.apply_pca(X_set, n_components=256)"
   ]
  },
  {
   "cell_type": "markdown",
   "metadata": {},
   "source": [
    "Split train data into train set, validation set and test set."
   ]
  },
  {
   "cell_type": "code",
   "execution_count": 640,
   "metadata": {},
   "outputs": [],
   "source": [
    "for i in range(len(X_set)):\n",
    "    X_set[i] = np.reshape(X_set[i], (28, 28, 1))"
   ]
  },
  {
   "cell_type": "code",
   "execution_count": 647,
   "metadata": {
    "pycharm": {
     "name": "#%%\n"
    }
   },
   "outputs": [
    {
     "name": "stdout",
     "output_type": "stream",
     "text": [
      "Y_train: Values: [0 1] Counts: [3178 3222]\n",
      "Y_val: Values: [0 1] Counts: [426 374]\n",
      "Y_test: Values: [0 1] Counts: [396 404]\n"
     ]
    }
   ],
   "source": [
    "from Modules.Utils import split_data_into_train_val_test\n",
    "\n",
    "X_train, Y_train, X_val, Y_val, X_test, Y_test = split_data_into_train_val_test(X_set, Y_set, train_ratio=0.8, val_ratio=0.1,test_ratio=0.1)"
   ]
  },
  {
   "cell_type": "code",
   "execution_count": 648,
   "metadata": {},
   "outputs": [],
   "source": [
    "X_train = np.array(X_train).astype('float32') / 255.\n",
    "X_test = np.array(X_test).astype('float32') / 255.\n",
    "X_val = np.array(X_val).astype('float32') / 255."
   ]
  },
  {
   "cell_type": "code",
   "execution_count": 649,
   "metadata": {},
   "outputs": [],
   "source": [
    "import keras\n",
    "from keras import layers\n",
    "from keras.layers import Dense, Conv2D, MaxPooling2D, UpSampling2D\n",
    "from keras import ops\n",
    "import tensorflow as tf"
   ]
  },
  {
   "cell_type": "code",
   "execution_count": 650,
   "metadata": {},
   "outputs": [
    {
     "data": {
      "text/plain": [
       "(28, 28, 1)"
      ]
     },
     "execution_count": 650,
     "metadata": {},
     "output_type": "execute_result"
    }
   ],
   "source": [
    "X_train[0].shape"
   ]
  },
  {
   "cell_type": "code",
   "execution_count": 596,
   "metadata": {},
   "outputs": [],
   "source": [
    "from keras.layers import Input, Reshape, UpSampling2D\n",
    "\n",
    "input_img = Input(shape=(64, 64, 1))\n",
    "\n",
    "encoded = keras.layers.Conv2D(8, (2, 2), strides = 2, activation='relu', padding='same')(input_img)\n",
    "encoded1 = keras.layers.MaxPool2D(pool_size=(2, 2), name='pool1')(encoded)\n",
    "encoded2 = keras.layers.Conv2D(16, (2, 2), strides = 2, activation='relu', padding='same')(encoded1)\n",
    "encoded3 = keras.layers.MaxPool2D(pool_size=(2, 2), name='pool2')(encoded2)\n",
    "encoded4 = keras.layers.Conv2D(16, (2, 2), strides = 1, activation='relu', padding='same')(encoded3)\n",
    "\n",
    "encoded5 = keras.layers.Flatten(name='block1_flat1')(encoded4)\n",
    "\n",
    "decoded = Reshape((4, 4, 16))(encoded5)\n",
    "decoded1 = UpSampling2D((2, 2))(decoded)\n",
    "decoded2 = keras.layers.Conv2D(16, (3, 3), strides = 1, activation='relu', padding='same')(decoded1)\n",
    "decoded3 = UpSampling2D((2, 2))(decoded2)\n",
    "decoded4 = UpSampling2D((2, 2))(decoded3)\n",
    "decoded5 = UpSampling2D((2, 2))(decoded4)\n",
    "decoded6 = keras.layers.Conv2D(1, (3, 3), strides = 1, activation='sigmoid', padding='same')(decoded5)"
   ]
  },
  {
   "cell_type": "code",
   "execution_count": 597,
   "metadata": {},
   "outputs": [
    {
     "name": "stdout",
     "output_type": "stream",
     "text": [
      "(None, 32, 32, 8)\n",
      "(None, 16, 16, 8)\n",
      "(None, 8, 8, 16)\n",
      "(None, 4, 4, 16)\n",
      "(None, 4, 4, 16)\n",
      "(None, 256)\n",
      "(None, 4, 4, 16)\n",
      "(None, 8, 8, 16)\n",
      "(None, 8, 8, 16)\n",
      "(None, 16, 16, 16)\n",
      "(None, 32, 32, 16)\n",
      "(None, 64, 64, 16)\n",
      "(None, 64, 64, 1)\n"
     ]
    }
   ],
   "source": [
    "print(encoded.shape)\n",
    "print(encoded1.shape)\n",
    "print(encoded2.shape)\n",
    "print(encoded3.shape)\n",
    "print(encoded4.shape)\n",
    "print(encoded5.shape)\n",
    "print(decoded.shape)\n",
    "print(decoded1.shape)\n",
    "print(decoded2.shape)\n",
    "print(decoded3.shape)\n",
    "print(decoded4.shape)\n",
    "print(decoded5.shape)\n",
    "print(decoded6.shape)"
   ]
  },
  {
   "cell_type": "code",
   "execution_count": 598,
   "metadata": {},
   "outputs": [
    {
     "data": {
      "text/plain": [
       "(64, 64, 1)"
      ]
     },
     "execution_count": 598,
     "metadata": {},
     "output_type": "execute_result"
    }
   ],
   "source": [
    "X_train[0].shape"
   ]
  },
  {
   "cell_type": "code",
   "execution_count": 599,
   "metadata": {},
   "outputs": [],
   "source": [
    "model = Model(input_img, decoded6)\n",
    "model.compile(optimizer='adam', loss='mean_squared_error')"
   ]
  },
  {
   "cell_type": "code",
   "execution_count": 600,
   "metadata": {},
   "outputs": [
    {
     "data": {
      "text/html": [
       "<pre style=\"white-space:pre;overflow-x:auto;line-height:normal;font-family:Menlo,'DejaVu Sans Mono',consolas,'Courier New',monospace\"><span style=\"font-weight: bold\">Model: \"functional_66\"</span>\n",
       "</pre>\n"
      ],
      "text/plain": [
       "\u001b[1mModel: \"functional_66\"\u001b[0m\n"
      ]
     },
     "metadata": {},
     "output_type": "display_data"
    },
    {
     "data": {
      "text/html": [
       "<pre style=\"white-space:pre;overflow-x:auto;line-height:normal;font-family:Menlo,'DejaVu Sans Mono',consolas,'Courier New',monospace\">┏━━━━━━━━━━━━━━━━━━━━━━━━━━━━━━━━━━━━━━┳━━━━━━━━━━━━━━━━━━━━━━━━━━━━━┳━━━━━━━━━━━━━━━━━┓\n",
       "┃<span style=\"font-weight: bold\"> Layer (type)                         </span>┃<span style=\"font-weight: bold\"> Output Shape                </span>┃<span style=\"font-weight: bold\">         Param # </span>┃\n",
       "┡━━━━━━━━━━━━━━━━━━━━━━━━━━━━━━━━━━━━━━╇━━━━━━━━━━━━━━━━━━━━━━━━━━━━━╇━━━━━━━━━━━━━━━━━┩\n",
       "│ input_layer_90 (<span style=\"color: #0087ff; text-decoration-color: #0087ff\">InputLayer</span>)          │ (<span style=\"color: #00d7ff; text-decoration-color: #00d7ff\">None</span>, <span style=\"color: #00af00; text-decoration-color: #00af00\">64</span>, <span style=\"color: #00af00; text-decoration-color: #00af00\">64</span>, <span style=\"color: #00af00; text-decoration-color: #00af00\">1</span>)           │               <span style=\"color: #00af00; text-decoration-color: #00af00\">0</span> │\n",
       "├──────────────────────────────────────┼─────────────────────────────┼─────────────────┤\n",
       "│ conv2d_450 (<span style=\"color: #0087ff; text-decoration-color: #0087ff\">Conv2D</span>)                  │ (<span style=\"color: #00d7ff; text-decoration-color: #00d7ff\">None</span>, <span style=\"color: #00af00; text-decoration-color: #00af00\">32</span>, <span style=\"color: #00af00; text-decoration-color: #00af00\">32</span>, <span style=\"color: #00af00; text-decoration-color: #00af00\">8</span>)           │              <span style=\"color: #00af00; text-decoration-color: #00af00\">40</span> │\n",
       "├──────────────────────────────────────┼─────────────────────────────┼─────────────────┤\n",
       "│ pool1 (<span style=\"color: #0087ff; text-decoration-color: #0087ff\">MaxPooling2D</span>)                 │ (<span style=\"color: #00d7ff; text-decoration-color: #00d7ff\">None</span>, <span style=\"color: #00af00; text-decoration-color: #00af00\">16</span>, <span style=\"color: #00af00; text-decoration-color: #00af00\">16</span>, <span style=\"color: #00af00; text-decoration-color: #00af00\">8</span>)           │               <span style=\"color: #00af00; text-decoration-color: #00af00\">0</span> │\n",
       "├──────────────────────────────────────┼─────────────────────────────┼─────────────────┤\n",
       "│ conv2d_451 (<span style=\"color: #0087ff; text-decoration-color: #0087ff\">Conv2D</span>)                  │ (<span style=\"color: #00d7ff; text-decoration-color: #00d7ff\">None</span>, <span style=\"color: #00af00; text-decoration-color: #00af00\">8</span>, <span style=\"color: #00af00; text-decoration-color: #00af00\">8</span>, <span style=\"color: #00af00; text-decoration-color: #00af00\">16</span>)            │             <span style=\"color: #00af00; text-decoration-color: #00af00\">528</span> │\n",
       "├──────────────────────────────────────┼─────────────────────────────┼─────────────────┤\n",
       "│ pool2 (<span style=\"color: #0087ff; text-decoration-color: #0087ff\">MaxPooling2D</span>)                 │ (<span style=\"color: #00d7ff; text-decoration-color: #00d7ff\">None</span>, <span style=\"color: #00af00; text-decoration-color: #00af00\">4</span>, <span style=\"color: #00af00; text-decoration-color: #00af00\">4</span>, <span style=\"color: #00af00; text-decoration-color: #00af00\">16</span>)            │               <span style=\"color: #00af00; text-decoration-color: #00af00\">0</span> │\n",
       "├──────────────────────────────────────┼─────────────────────────────┼─────────────────┤\n",
       "│ conv2d_452 (<span style=\"color: #0087ff; text-decoration-color: #0087ff\">Conv2D</span>)                  │ (<span style=\"color: #00d7ff; text-decoration-color: #00d7ff\">None</span>, <span style=\"color: #00af00; text-decoration-color: #00af00\">4</span>, <span style=\"color: #00af00; text-decoration-color: #00af00\">4</span>, <span style=\"color: #00af00; text-decoration-color: #00af00\">16</span>)            │           <span style=\"color: #00af00; text-decoration-color: #00af00\">1,040</span> │\n",
       "├──────────────────────────────────────┼─────────────────────────────┼─────────────────┤\n",
       "│ block1_flat1 (<span style=\"color: #0087ff; text-decoration-color: #0087ff\">Flatten</span>)               │ (<span style=\"color: #00d7ff; text-decoration-color: #00d7ff\">None</span>, <span style=\"color: #00af00; text-decoration-color: #00af00\">256</span>)                 │               <span style=\"color: #00af00; text-decoration-color: #00af00\">0</span> │\n",
       "├──────────────────────────────────────┼─────────────────────────────┼─────────────────┤\n",
       "│ reshape_54 (<span style=\"color: #0087ff; text-decoration-color: #0087ff\">Reshape</span>)                 │ (<span style=\"color: #00d7ff; text-decoration-color: #00d7ff\">None</span>, <span style=\"color: #00af00; text-decoration-color: #00af00\">4</span>, <span style=\"color: #00af00; text-decoration-color: #00af00\">4</span>, <span style=\"color: #00af00; text-decoration-color: #00af00\">16</span>)            │               <span style=\"color: #00af00; text-decoration-color: #00af00\">0</span> │\n",
       "├──────────────────────────────────────┼─────────────────────────────┼─────────────────┤\n",
       "│ up_sampling2d_213 (<span style=\"color: #0087ff; text-decoration-color: #0087ff\">UpSampling2D</span>)     │ (<span style=\"color: #00d7ff; text-decoration-color: #00d7ff\">None</span>, <span style=\"color: #00af00; text-decoration-color: #00af00\">8</span>, <span style=\"color: #00af00; text-decoration-color: #00af00\">8</span>, <span style=\"color: #00af00; text-decoration-color: #00af00\">16</span>)            │               <span style=\"color: #00af00; text-decoration-color: #00af00\">0</span> │\n",
       "├──────────────────────────────────────┼─────────────────────────────┼─────────────────┤\n",
       "│ conv2d_453 (<span style=\"color: #0087ff; text-decoration-color: #0087ff\">Conv2D</span>)                  │ (<span style=\"color: #00d7ff; text-decoration-color: #00d7ff\">None</span>, <span style=\"color: #00af00; text-decoration-color: #00af00\">8</span>, <span style=\"color: #00af00; text-decoration-color: #00af00\">8</span>, <span style=\"color: #00af00; text-decoration-color: #00af00\">16</span>)            │           <span style=\"color: #00af00; text-decoration-color: #00af00\">2,320</span> │\n",
       "├──────────────────────────────────────┼─────────────────────────────┼─────────────────┤\n",
       "│ up_sampling2d_214 (<span style=\"color: #0087ff; text-decoration-color: #0087ff\">UpSampling2D</span>)     │ (<span style=\"color: #00d7ff; text-decoration-color: #00d7ff\">None</span>, <span style=\"color: #00af00; text-decoration-color: #00af00\">16</span>, <span style=\"color: #00af00; text-decoration-color: #00af00\">16</span>, <span style=\"color: #00af00; text-decoration-color: #00af00\">16</span>)          │               <span style=\"color: #00af00; text-decoration-color: #00af00\">0</span> │\n",
       "├──────────────────────────────────────┼─────────────────────────────┼─────────────────┤\n",
       "│ up_sampling2d_215 (<span style=\"color: #0087ff; text-decoration-color: #0087ff\">UpSampling2D</span>)     │ (<span style=\"color: #00d7ff; text-decoration-color: #00d7ff\">None</span>, <span style=\"color: #00af00; text-decoration-color: #00af00\">32</span>, <span style=\"color: #00af00; text-decoration-color: #00af00\">32</span>, <span style=\"color: #00af00; text-decoration-color: #00af00\">16</span>)          │               <span style=\"color: #00af00; text-decoration-color: #00af00\">0</span> │\n",
       "├──────────────────────────────────────┼─────────────────────────────┼─────────────────┤\n",
       "│ up_sampling2d_216 (<span style=\"color: #0087ff; text-decoration-color: #0087ff\">UpSampling2D</span>)     │ (<span style=\"color: #00d7ff; text-decoration-color: #00d7ff\">None</span>, <span style=\"color: #00af00; text-decoration-color: #00af00\">64</span>, <span style=\"color: #00af00; text-decoration-color: #00af00\">64</span>, <span style=\"color: #00af00; text-decoration-color: #00af00\">16</span>)          │               <span style=\"color: #00af00; text-decoration-color: #00af00\">0</span> │\n",
       "├──────────────────────────────────────┼─────────────────────────────┼─────────────────┤\n",
       "│ conv2d_454 (<span style=\"color: #0087ff; text-decoration-color: #0087ff\">Conv2D</span>)                  │ (<span style=\"color: #00d7ff; text-decoration-color: #00d7ff\">None</span>, <span style=\"color: #00af00; text-decoration-color: #00af00\">64</span>, <span style=\"color: #00af00; text-decoration-color: #00af00\">64</span>, <span style=\"color: #00af00; text-decoration-color: #00af00\">1</span>)           │             <span style=\"color: #00af00; text-decoration-color: #00af00\">145</span> │\n",
       "└──────────────────────────────────────┴─────────────────────────────┴─────────────────┘\n",
       "</pre>\n"
      ],
      "text/plain": [
       "┏━━━━━━━━━━━━━━━━━━━━━━━━━━━━━━━━━━━━━━┳━━━━━━━━━━━━━━━━━━━━━━━━━━━━━┳━━━━━━━━━━━━━━━━━┓\n",
       "┃\u001b[1m \u001b[0m\u001b[1mLayer (type)                        \u001b[0m\u001b[1m \u001b[0m┃\u001b[1m \u001b[0m\u001b[1mOutput Shape               \u001b[0m\u001b[1m \u001b[0m┃\u001b[1m \u001b[0m\u001b[1m        Param #\u001b[0m\u001b[1m \u001b[0m┃\n",
       "┡━━━━━━━━━━━━━━━━━━━━━━━━━━━━━━━━━━━━━━╇━━━━━━━━━━━━━━━━━━━━━━━━━━━━━╇━━━━━━━━━━━━━━━━━┩\n",
       "│ input_layer_90 (\u001b[38;5;33mInputLayer\u001b[0m)          │ (\u001b[38;5;45mNone\u001b[0m, \u001b[38;5;34m64\u001b[0m, \u001b[38;5;34m64\u001b[0m, \u001b[38;5;34m1\u001b[0m)           │               \u001b[38;5;34m0\u001b[0m │\n",
       "├──────────────────────────────────────┼─────────────────────────────┼─────────────────┤\n",
       "│ conv2d_450 (\u001b[38;5;33mConv2D\u001b[0m)                  │ (\u001b[38;5;45mNone\u001b[0m, \u001b[38;5;34m32\u001b[0m, \u001b[38;5;34m32\u001b[0m, \u001b[38;5;34m8\u001b[0m)           │              \u001b[38;5;34m40\u001b[0m │\n",
       "├──────────────────────────────────────┼─────────────────────────────┼─────────────────┤\n",
       "│ pool1 (\u001b[38;5;33mMaxPooling2D\u001b[0m)                 │ (\u001b[38;5;45mNone\u001b[0m, \u001b[38;5;34m16\u001b[0m, \u001b[38;5;34m16\u001b[0m, \u001b[38;5;34m8\u001b[0m)           │               \u001b[38;5;34m0\u001b[0m │\n",
       "├──────────────────────────────────────┼─────────────────────────────┼─────────────────┤\n",
       "│ conv2d_451 (\u001b[38;5;33mConv2D\u001b[0m)                  │ (\u001b[38;5;45mNone\u001b[0m, \u001b[38;5;34m8\u001b[0m, \u001b[38;5;34m8\u001b[0m, \u001b[38;5;34m16\u001b[0m)            │             \u001b[38;5;34m528\u001b[0m │\n",
       "├──────────────────────────────────────┼─────────────────────────────┼─────────────────┤\n",
       "│ pool2 (\u001b[38;5;33mMaxPooling2D\u001b[0m)                 │ (\u001b[38;5;45mNone\u001b[0m, \u001b[38;5;34m4\u001b[0m, \u001b[38;5;34m4\u001b[0m, \u001b[38;5;34m16\u001b[0m)            │               \u001b[38;5;34m0\u001b[0m │\n",
       "├──────────────────────────────────────┼─────────────────────────────┼─────────────────┤\n",
       "│ conv2d_452 (\u001b[38;5;33mConv2D\u001b[0m)                  │ (\u001b[38;5;45mNone\u001b[0m, \u001b[38;5;34m4\u001b[0m, \u001b[38;5;34m4\u001b[0m, \u001b[38;5;34m16\u001b[0m)            │           \u001b[38;5;34m1,040\u001b[0m │\n",
       "├──────────────────────────────────────┼─────────────────────────────┼─────────────────┤\n",
       "│ block1_flat1 (\u001b[38;5;33mFlatten\u001b[0m)               │ (\u001b[38;5;45mNone\u001b[0m, \u001b[38;5;34m256\u001b[0m)                 │               \u001b[38;5;34m0\u001b[0m │\n",
       "├──────────────────────────────────────┼─────────────────────────────┼─────────────────┤\n",
       "│ reshape_54 (\u001b[38;5;33mReshape\u001b[0m)                 │ (\u001b[38;5;45mNone\u001b[0m, \u001b[38;5;34m4\u001b[0m, \u001b[38;5;34m4\u001b[0m, \u001b[38;5;34m16\u001b[0m)            │               \u001b[38;5;34m0\u001b[0m │\n",
       "├──────────────────────────────────────┼─────────────────────────────┼─────────────────┤\n",
       "│ up_sampling2d_213 (\u001b[38;5;33mUpSampling2D\u001b[0m)     │ (\u001b[38;5;45mNone\u001b[0m, \u001b[38;5;34m8\u001b[0m, \u001b[38;5;34m8\u001b[0m, \u001b[38;5;34m16\u001b[0m)            │               \u001b[38;5;34m0\u001b[0m │\n",
       "├──────────────────────────────────────┼─────────────────────────────┼─────────────────┤\n",
       "│ conv2d_453 (\u001b[38;5;33mConv2D\u001b[0m)                  │ (\u001b[38;5;45mNone\u001b[0m, \u001b[38;5;34m8\u001b[0m, \u001b[38;5;34m8\u001b[0m, \u001b[38;5;34m16\u001b[0m)            │           \u001b[38;5;34m2,320\u001b[0m │\n",
       "├──────────────────────────────────────┼─────────────────────────────┼─────────────────┤\n",
       "│ up_sampling2d_214 (\u001b[38;5;33mUpSampling2D\u001b[0m)     │ (\u001b[38;5;45mNone\u001b[0m, \u001b[38;5;34m16\u001b[0m, \u001b[38;5;34m16\u001b[0m, \u001b[38;5;34m16\u001b[0m)          │               \u001b[38;5;34m0\u001b[0m │\n",
       "├──────────────────────────────────────┼─────────────────────────────┼─────────────────┤\n",
       "│ up_sampling2d_215 (\u001b[38;5;33mUpSampling2D\u001b[0m)     │ (\u001b[38;5;45mNone\u001b[0m, \u001b[38;5;34m32\u001b[0m, \u001b[38;5;34m32\u001b[0m, \u001b[38;5;34m16\u001b[0m)          │               \u001b[38;5;34m0\u001b[0m │\n",
       "├──────────────────────────────────────┼─────────────────────────────┼─────────────────┤\n",
       "│ up_sampling2d_216 (\u001b[38;5;33mUpSampling2D\u001b[0m)     │ (\u001b[38;5;45mNone\u001b[0m, \u001b[38;5;34m64\u001b[0m, \u001b[38;5;34m64\u001b[0m, \u001b[38;5;34m16\u001b[0m)          │               \u001b[38;5;34m0\u001b[0m │\n",
       "├──────────────────────────────────────┼─────────────────────────────┼─────────────────┤\n",
       "│ conv2d_454 (\u001b[38;5;33mConv2D\u001b[0m)                  │ (\u001b[38;5;45mNone\u001b[0m, \u001b[38;5;34m64\u001b[0m, \u001b[38;5;34m64\u001b[0m, \u001b[38;5;34m1\u001b[0m)           │             \u001b[38;5;34m145\u001b[0m │\n",
       "└──────────────────────────────────────┴─────────────────────────────┴─────────────────┘\n"
      ]
     },
     "metadata": {},
     "output_type": "display_data"
    },
    {
     "data": {
      "text/html": [
       "<pre style=\"white-space:pre;overflow-x:auto;line-height:normal;font-family:Menlo,'DejaVu Sans Mono',consolas,'Courier New',monospace\"><span style=\"font-weight: bold\"> Total params: </span><span style=\"color: #00af00; text-decoration-color: #00af00\">4,073</span> (15.91 KB)\n",
       "</pre>\n"
      ],
      "text/plain": [
       "\u001b[1m Total params: \u001b[0m\u001b[38;5;34m4,073\u001b[0m (15.91 KB)\n"
      ]
     },
     "metadata": {},
     "output_type": "display_data"
    },
    {
     "data": {
      "text/html": [
       "<pre style=\"white-space:pre;overflow-x:auto;line-height:normal;font-family:Menlo,'DejaVu Sans Mono',consolas,'Courier New',monospace\"><span style=\"font-weight: bold\"> Trainable params: </span><span style=\"color: #00af00; text-decoration-color: #00af00\">4,073</span> (15.91 KB)\n",
       "</pre>\n"
      ],
      "text/plain": [
       "\u001b[1m Trainable params: \u001b[0m\u001b[38;5;34m4,073\u001b[0m (15.91 KB)\n"
      ]
     },
     "metadata": {},
     "output_type": "display_data"
    },
    {
     "data": {
      "text/html": [
       "<pre style=\"white-space:pre;overflow-x:auto;line-height:normal;font-family:Menlo,'DejaVu Sans Mono',consolas,'Courier New',monospace\"><span style=\"font-weight: bold\"> Non-trainable params: </span><span style=\"color: #00af00; text-decoration-color: #00af00\">0</span> (0.00 B)\n",
       "</pre>\n"
      ],
      "text/plain": [
       "\u001b[1m Non-trainable params: \u001b[0m\u001b[38;5;34m0\u001b[0m (0.00 B)\n"
      ]
     },
     "metadata": {},
     "output_type": "display_data"
    }
   ],
   "source": [
    "model.summary()"
   ]
  },
  {
   "cell_type": "code",
   "execution_count": 601,
   "metadata": {
    "scrolled": true
   },
   "outputs": [
    {
     "name": "stdout",
     "output_type": "stream",
     "text": [
      "Epoch 1/50\n",
      "\u001b[1m800/800\u001b[0m \u001b[32m━━━━━━━━━━━━━━━━━━━━\u001b[0m\u001b[37m\u001b[0m \u001b[1m10s\u001b[0m 8ms/step - loss: 0.0116 - val_loss: 0.0027\n",
      "Epoch 2/50\n",
      "\u001b[1m800/800\u001b[0m \u001b[32m━━━━━━━━━━━━━━━━━━━━\u001b[0m\u001b[37m\u001b[0m \u001b[1m6s\u001b[0m 8ms/step - loss: 0.0025 - val_loss: 0.0024\n",
      "Epoch 3/50\n",
      "\u001b[1m800/800\u001b[0m \u001b[32m━━━━━━━━━━━━━━━━━━━━\u001b[0m\u001b[37m\u001b[0m \u001b[1m7s\u001b[0m 8ms/step - loss: 0.0023 - val_loss: 0.0022\n",
      "Epoch 4/50\n",
      "\u001b[1m800/800\u001b[0m \u001b[32m━━━━━━━━━━━━━━━━━━━━\u001b[0m\u001b[37m\u001b[0m \u001b[1m6s\u001b[0m 8ms/step - loss: 0.0021 - val_loss: 0.0021\n",
      "Epoch 5/50\n",
      "\u001b[1m800/800\u001b[0m \u001b[32m━━━━━━━━━━━━━━━━━━━━\u001b[0m\u001b[37m\u001b[0m \u001b[1m6s\u001b[0m 8ms/step - loss: 0.0020 - val_loss: 0.0020\n",
      "Epoch 6/50\n",
      "\u001b[1m800/800\u001b[0m \u001b[32m━━━━━━━━━━━━━━━━━━━━\u001b[0m\u001b[37m\u001b[0m \u001b[1m6s\u001b[0m 7ms/step - loss: 0.0019 - val_loss: 0.0019\n",
      "Epoch 7/50\n",
      "\u001b[1m800/800\u001b[0m \u001b[32m━━━━━━━━━━━━━━━━━━━━\u001b[0m\u001b[37m\u001b[0m \u001b[1m6s\u001b[0m 8ms/step - loss: 0.0019 - val_loss: 0.0019\n",
      "Epoch 8/50\n",
      "\u001b[1m800/800\u001b[0m \u001b[32m━━━━━━━━━━━━━━━━━━━━\u001b[0m\u001b[37m\u001b[0m \u001b[1m6s\u001b[0m 7ms/step - loss: 0.0018 - val_loss: 0.0019\n",
      "Epoch 9/50\n",
      "\u001b[1m800/800\u001b[0m \u001b[32m━━━━━━━━━━━━━━━━━━━━\u001b[0m\u001b[37m\u001b[0m \u001b[1m6s\u001b[0m 7ms/step - loss: 0.0018 - val_loss: 0.0018\n",
      "Epoch 10/50\n",
      "\u001b[1m800/800\u001b[0m \u001b[32m━━━━━━━━━━━━━━━━━━━━\u001b[0m\u001b[37m\u001b[0m \u001b[1m7s\u001b[0m 9ms/step - loss: 0.0018 - val_loss: 0.0018\n",
      "Epoch 11/50\n",
      "\u001b[1m800/800\u001b[0m \u001b[32m━━━━━━━━━━━━━━━━━━━━\u001b[0m\u001b[37m\u001b[0m \u001b[1m7s\u001b[0m 8ms/step - loss: 0.0018 - val_loss: 0.0018\n",
      "Epoch 12/50\n",
      "\u001b[1m800/800\u001b[0m \u001b[32m━━━━━━━━━━━━━━━━━━━━\u001b[0m\u001b[37m\u001b[0m \u001b[1m6s\u001b[0m 8ms/step - loss: 0.0018 - val_loss: 0.0018\n",
      "Epoch 13/50\n",
      "\u001b[1m800/800\u001b[0m \u001b[32m━━━━━━━━━━━━━━━━━━━━\u001b[0m\u001b[37m\u001b[0m \u001b[1m6s\u001b[0m 8ms/step - loss: 0.0018 - val_loss: 0.0018\n",
      "Epoch 14/50\n",
      "\u001b[1m800/800\u001b[0m \u001b[32m━━━━━━━━━━━━━━━━━━━━\u001b[0m\u001b[37m\u001b[0m \u001b[1m7s\u001b[0m 8ms/step - loss: 0.0018 - val_loss: 0.0018\n",
      "Epoch 15/50\n",
      "\u001b[1m800/800\u001b[0m \u001b[32m━━━━━━━━━━━━━━━━━━━━\u001b[0m\u001b[37m\u001b[0m \u001b[1m6s\u001b[0m 8ms/step - loss: 0.0017 - val_loss: 0.0017\n",
      "Epoch 16/50\n",
      "\u001b[1m800/800\u001b[0m \u001b[32m━━━━━━━━━━━━━━━━━━━━\u001b[0m\u001b[37m\u001b[0m \u001b[1m10s\u001b[0m 8ms/step - loss: 0.0017 - val_loss: 0.0017\n",
      "Epoch 17/50\n",
      "\u001b[1m800/800\u001b[0m \u001b[32m━━━━━━━━━━━━━━━━━━━━\u001b[0m\u001b[37m\u001b[0m \u001b[1m6s\u001b[0m 8ms/step - loss: 0.0017 - val_loss: 0.0017\n",
      "Epoch 18/50\n",
      "\u001b[1m800/800\u001b[0m \u001b[32m━━━━━━━━━━━━━━━━━━━━\u001b[0m\u001b[37m\u001b[0m \u001b[1m6s\u001b[0m 8ms/step - loss: 0.0017 - val_loss: 0.0017\n",
      "Epoch 19/50\n",
      "\u001b[1m800/800\u001b[0m \u001b[32m━━━━━━━━━━━━━━━━━━━━\u001b[0m\u001b[37m\u001b[0m \u001b[1m7s\u001b[0m 9ms/step - loss: 0.0017 - val_loss: 0.0017\n",
      "Epoch 20/50\n",
      "\u001b[1m800/800\u001b[0m \u001b[32m━━━━━━━━━━━━━━━━━━━━\u001b[0m\u001b[37m\u001b[0m \u001b[1m6s\u001b[0m 8ms/step - loss: 0.0017 - val_loss: 0.0017\n",
      "Epoch 21/50\n",
      "\u001b[1m800/800\u001b[0m \u001b[32m━━━━━━━━━━━━━━━━━━━━\u001b[0m\u001b[37m\u001b[0m \u001b[1m6s\u001b[0m 8ms/step - loss: 0.0017 - val_loss: 0.0017\n",
      "Epoch 22/50\n",
      "\u001b[1m800/800\u001b[0m \u001b[32m━━━━━━━━━━━━━━━━━━━━\u001b[0m\u001b[37m\u001b[0m \u001b[1m6s\u001b[0m 8ms/step - loss: 0.0017 - val_loss: 0.0017\n",
      "Epoch 23/50\n",
      "\u001b[1m800/800\u001b[0m \u001b[32m━━━━━━━━━━━━━━━━━━━━\u001b[0m\u001b[37m\u001b[0m \u001b[1m6s\u001b[0m 8ms/step - loss: 0.0017 - val_loss: 0.0017\n",
      "Epoch 24/50\n",
      "\u001b[1m800/800\u001b[0m \u001b[32m━━━━━━━━━━━━━━━━━━━━\u001b[0m\u001b[37m\u001b[0m \u001b[1m10s\u001b[0m 8ms/step - loss: 0.0017 - val_loss: 0.0017\n",
      "Epoch 25/50\n",
      "\u001b[1m800/800\u001b[0m \u001b[32m━━━━━━━━━━━━━━━━━━━━\u001b[0m\u001b[37m\u001b[0m \u001b[1m11s\u001b[0m 8ms/step - loss: 0.0017 - val_loss: 0.0017\n",
      "Epoch 26/50\n",
      "\u001b[1m800/800\u001b[0m \u001b[32m━━━━━━━━━━━━━━━━━━━━\u001b[0m\u001b[37m\u001b[0m \u001b[1m6s\u001b[0m 8ms/step - loss: 0.0016 - val_loss: 0.0017\n",
      "Epoch 27/50\n",
      "\u001b[1m800/800\u001b[0m \u001b[32m━━━━━━━━━━━━━━━━━━━━\u001b[0m\u001b[37m\u001b[0m \u001b[1m7s\u001b[0m 8ms/step - loss: 0.0017 - val_loss: 0.0017\n",
      "Epoch 28/50\n",
      "\u001b[1m800/800\u001b[0m \u001b[32m━━━━━━━━━━━━━━━━━━━━\u001b[0m\u001b[37m\u001b[0m \u001b[1m6s\u001b[0m 8ms/step - loss: 0.0016 - val_loss: 0.0017\n",
      "Epoch 29/50\n",
      "\u001b[1m800/800\u001b[0m \u001b[32m━━━━━━━━━━━━━━━━━━━━\u001b[0m\u001b[37m\u001b[0m \u001b[1m6s\u001b[0m 8ms/step - loss: 0.0016 - val_loss: 0.0017\n",
      "Epoch 30/50\n",
      "\u001b[1m800/800\u001b[0m \u001b[32m━━━━━━━━━━━━━━━━━━━━\u001b[0m\u001b[37m\u001b[0m \u001b[1m6s\u001b[0m 8ms/step - loss: 0.0016 - val_loss: 0.0016\n",
      "Epoch 31/50\n",
      "\u001b[1m800/800\u001b[0m \u001b[32m━━━━━━━━━━━━━━━━━━━━\u001b[0m\u001b[37m\u001b[0m \u001b[1m7s\u001b[0m 8ms/step - loss: 0.0016 - val_loss: 0.0016\n",
      "Epoch 32/50\n",
      "\u001b[1m800/800\u001b[0m \u001b[32m━━━━━━━━━━━━━━━━━━━━\u001b[0m\u001b[37m\u001b[0m \u001b[1m7s\u001b[0m 8ms/step - loss: 0.0016 - val_loss: 0.0017\n",
      "Epoch 33/50\n",
      "\u001b[1m800/800\u001b[0m \u001b[32m━━━━━━━━━━━━━━━━━━━━\u001b[0m\u001b[37m\u001b[0m \u001b[1m6s\u001b[0m 8ms/step - loss: 0.0016 - val_loss: 0.0017\n",
      "Epoch 34/50\n",
      "\u001b[1m800/800\u001b[0m \u001b[32m━━━━━━━━━━━━━━━━━━━━\u001b[0m\u001b[37m\u001b[0m \u001b[1m6s\u001b[0m 8ms/step - loss: 0.0016 - val_loss: 0.0017\n",
      "Epoch 35/50\n",
      "\u001b[1m800/800\u001b[0m \u001b[32m━━━━━━━━━━━━━━━━━━━━\u001b[0m\u001b[37m\u001b[0m \u001b[1m7s\u001b[0m 8ms/step - loss: 0.0016 - val_loss: 0.0016\n",
      "Epoch 36/50\n",
      "\u001b[1m800/800\u001b[0m \u001b[32m━━━━━━━━━━━━━━━━━━━━\u001b[0m\u001b[37m\u001b[0m \u001b[1m7s\u001b[0m 9ms/step - loss: 0.0016 - val_loss: 0.0016\n",
      "Epoch 37/50\n",
      "\u001b[1m800/800\u001b[0m \u001b[32m━━━━━━━━━━━━━━━━━━━━\u001b[0m\u001b[37m\u001b[0m \u001b[1m6s\u001b[0m 8ms/step - loss: 0.0016 - val_loss: 0.0016\n",
      "Epoch 38/50\n",
      "\u001b[1m800/800\u001b[0m \u001b[32m━━━━━━━━━━━━━━━━━━━━\u001b[0m\u001b[37m\u001b[0m \u001b[1m6s\u001b[0m 8ms/step - loss: 0.0016 - val_loss: 0.0016\n",
      "Epoch 39/50\n",
      "\u001b[1m800/800\u001b[0m \u001b[32m━━━━━━━━━━━━━━━━━━━━\u001b[0m\u001b[37m\u001b[0m \u001b[1m10s\u001b[0m 8ms/step - loss: 0.0016 - val_loss: 0.0016\n",
      "Epoch 40/50\n",
      "\u001b[1m800/800\u001b[0m \u001b[32m━━━━━━━━━━━━━━━━━━━━\u001b[0m\u001b[37m\u001b[0m \u001b[1m7s\u001b[0m 9ms/step - loss: 0.0016 - val_loss: 0.0016\n",
      "Epoch 41/50\n",
      "\u001b[1m800/800\u001b[0m \u001b[32m━━━━━━━━━━━━━━━━━━━━\u001b[0m\u001b[37m\u001b[0m \u001b[1m7s\u001b[0m 8ms/step - loss: 0.0016 - val_loss: 0.0016\n",
      "Epoch 42/50\n",
      "\u001b[1m800/800\u001b[0m \u001b[32m━━━━━━━━━━━━━━━━━━━━\u001b[0m\u001b[37m\u001b[0m \u001b[1m6s\u001b[0m 8ms/step - loss: 0.0016 - val_loss: 0.0017\n",
      "Epoch 43/50\n",
      "\u001b[1m800/800\u001b[0m \u001b[32m━━━━━━━━━━━━━━━━━━━━\u001b[0m\u001b[37m\u001b[0m \u001b[1m7s\u001b[0m 9ms/step - loss: 0.0016 - val_loss: 0.0016\n",
      "Epoch 44/50\n",
      "\u001b[1m800/800\u001b[0m \u001b[32m━━━━━━━━━━━━━━━━━━━━\u001b[0m\u001b[37m\u001b[0m \u001b[1m6s\u001b[0m 8ms/step - loss: 0.0016 - val_loss: 0.0016\n",
      "Epoch 45/50\n",
      "\u001b[1m800/800\u001b[0m \u001b[32m━━━━━━━━━━━━━━━━━━━━\u001b[0m\u001b[37m\u001b[0m \u001b[1m7s\u001b[0m 8ms/step - loss: 0.0016 - val_loss: 0.0016\n",
      "Epoch 46/50\n",
      "\u001b[1m800/800\u001b[0m \u001b[32m━━━━━━━━━━━━━━━━━━━━\u001b[0m\u001b[37m\u001b[0m \u001b[1m7s\u001b[0m 8ms/step - loss: 0.0016 - val_loss: 0.0016\n",
      "Epoch 47/50\n",
      "\u001b[1m800/800\u001b[0m \u001b[32m━━━━━━━━━━━━━━━━━━━━\u001b[0m\u001b[37m\u001b[0m \u001b[1m7s\u001b[0m 9ms/step - loss: 0.0016 - val_loss: 0.0016\n",
      "Epoch 48/50\n",
      "\u001b[1m800/800\u001b[0m \u001b[32m━━━━━━━━━━━━━━━━━━━━\u001b[0m\u001b[37m\u001b[0m \u001b[1m10s\u001b[0m 8ms/step - loss: 0.0016 - val_loss: 0.0016\n",
      "Epoch 49/50\n",
      "\u001b[1m800/800\u001b[0m \u001b[32m━━━━━━━━━━━━━━━━━━━━\u001b[0m\u001b[37m\u001b[0m \u001b[1m7s\u001b[0m 8ms/step - loss: 0.0016 - val_loss: 0.0016\n",
      "Epoch 50/50\n",
      "\u001b[1m800/800\u001b[0m \u001b[32m━━━━━━━━━━━━━━━━━━━━\u001b[0m\u001b[37m\u001b[0m \u001b[1m7s\u001b[0m 9ms/step - loss: 0.0016 - val_loss: 0.0016\n"
     ]
    },
    {
     "data": {
      "text/plain": [
       "<keras.src.callbacks.history.History at 0x1b7ef1a9110>"
      ]
     },
     "execution_count": 601,
     "metadata": {},
     "output_type": "execute_result"
    }
   ],
   "source": [
    "model.fit(np.array(X_train), np.array(X_train),\n",
    "                epochs=50,\n",
    "                batch_size=8,\n",
    "                shuffle=True, validation_data=(np.array(X_test), np.array(X_test)))"
   ]
  },
  {
   "cell_type": "code",
   "execution_count": 602,
   "metadata": {},
   "outputs": [],
   "source": [
    "encoder = keras.Model(input_img, encoded5)"
   ]
  },
  {
   "cell_type": "code",
   "execution_count": 603,
   "metadata": {},
   "outputs": [
    {
     "name": "stdout",
     "output_type": "stream",
     "text": [
      "\u001b[1m200/200\u001b[0m \u001b[32m━━━━━━━━━━━━━━━━━━━━\u001b[0m\u001b[37m\u001b[0m \u001b[1m1s\u001b[0m 3ms/step\n"
     ]
    }
   ],
   "source": [
    "encoded_X_train = encoder.predict(X_train)"
   ]
  },
  {
   "cell_type": "code",
   "execution_count": 604,
   "metadata": {},
   "outputs": [
    {
     "name": "stdout",
     "output_type": "stream",
     "text": [
      "\u001b[1m25/25\u001b[0m \u001b[32m━━━━━━━━━━━━━━━━━━━━\u001b[0m\u001b[37m\u001b[0m \u001b[1m0s\u001b[0m 3ms/step\n"
     ]
    }
   ],
   "source": [
    "encoded_X_test = encoder.predict(X_test)"
   ]
  },
  {
   "cell_type": "code",
   "execution_count": 605,
   "metadata": {},
   "outputs": [
    {
     "name": "stdout",
     "output_type": "stream",
     "text": [
      "\u001b[1m25/25\u001b[0m \u001b[32m━━━━━━━━━━━━━━━━━━━━\u001b[0m\u001b[37m\u001b[0m \u001b[1m0s\u001b[0m 3ms/step\n"
     ]
    }
   ],
   "source": [
    "encoded_X_val = encoder.predict(X_val)"
   ]
  },
  {
   "cell_type": "code",
   "execution_count": 668,
   "metadata": {},
   "outputs": [],
   "source": [
    "encoder_inputs = keras.Input(shape=(28, 28, 1))\n",
    "x = layers.Conv2D(32, 3, activation=\"relu\", strides=2, padding=\"same\")(encoder_inputs)\n",
    "x = layers.Conv2D(64, 3, activation=\"relu\", strides=2, padding=\"same\")(x)\n",
    "x = layers.Flatten()(x)\n",
    "x = layers.Dense(100, activation=\"relu\")(x)\n",
    "encoder = layers.Dense(8, activation=\"relu\")(x)\n",
    "\n",
    "x = layers.Dense(7 * 7 * 64, activation=\"relu\")(encoder)\n",
    "x = layers.Reshape((7, 7, 64))(x)\n",
    "x = layers.Conv2DTranspose(64, 3, activation=\"relu\", strides=2, padding=\"same\")(x)\n",
    "x = layers.Conv2DTranspose(32, 3, activation=\"relu\", strides=2, padding=\"same\")(x)\n",
    "decoder = layers.Conv2DTranspose(1, 3, activation=\"sigmoid\", padding=\"same\")(x)"
   ]
  },
  {
   "cell_type": "code",
   "execution_count": 669,
   "metadata": {},
   "outputs": [],
   "source": [
    "model = Model(encoder_inputs, decoder)\n",
    "model.compile(optimizer='adam', loss='mean_squared_error')"
   ]
  },
  {
   "cell_type": "code",
   "execution_count": 670,
   "metadata": {},
   "outputs": [
    {
     "data": {
      "text/html": [
       "<pre style=\"white-space:pre;overflow-x:auto;line-height:normal;font-family:Menlo,'DejaVu Sans Mono',consolas,'Courier New',monospace\"><span style=\"font-weight: bold\">Model: \"functional_74\"</span>\n",
       "</pre>\n"
      ],
      "text/plain": [
       "\u001b[1mModel: \"functional_74\"\u001b[0m\n"
      ]
     },
     "metadata": {},
     "output_type": "display_data"
    },
    {
     "data": {
      "text/html": [
       "<pre style=\"white-space:pre;overflow-x:auto;line-height:normal;font-family:Menlo,'DejaVu Sans Mono',consolas,'Courier New',monospace\">┏━━━━━━━━━━━━━━━━━━━━━━━━━━━━━━━━━━━━━━┳━━━━━━━━━━━━━━━━━━━━━━━━━━━━━┳━━━━━━━━━━━━━━━━━┓\n",
       "┃<span style=\"font-weight: bold\"> Layer (type)                         </span>┃<span style=\"font-weight: bold\"> Output Shape                </span>┃<span style=\"font-weight: bold\">         Param # </span>┃\n",
       "┡━━━━━━━━━━━━━━━━━━━━━━━━━━━━━━━━━━━━━━╇━━━━━━━━━━━━━━━━━━━━━━━━━━━━━╇━━━━━━━━━━━━━━━━━┩\n",
       "│ input_layer_96 (<span style=\"color: #0087ff; text-decoration-color: #0087ff\">InputLayer</span>)          │ (<span style=\"color: #00d7ff; text-decoration-color: #00d7ff\">None</span>, <span style=\"color: #00af00; text-decoration-color: #00af00\">28</span>, <span style=\"color: #00af00; text-decoration-color: #00af00\">28</span>, <span style=\"color: #00af00; text-decoration-color: #00af00\">1</span>)           │               <span style=\"color: #00af00; text-decoration-color: #00af00\">0</span> │\n",
       "├──────────────────────────────────────┼─────────────────────────────┼─────────────────┤\n",
       "│ conv2d_465 (<span style=\"color: #0087ff; text-decoration-color: #0087ff\">Conv2D</span>)                  │ (<span style=\"color: #00d7ff; text-decoration-color: #00d7ff\">None</span>, <span style=\"color: #00af00; text-decoration-color: #00af00\">14</span>, <span style=\"color: #00af00; text-decoration-color: #00af00\">14</span>, <span style=\"color: #00af00; text-decoration-color: #00af00\">32</span>)          │             <span style=\"color: #00af00; text-decoration-color: #00af00\">320</span> │\n",
       "├──────────────────────────────────────┼─────────────────────────────┼─────────────────┤\n",
       "│ conv2d_466 (<span style=\"color: #0087ff; text-decoration-color: #0087ff\">Conv2D</span>)                  │ (<span style=\"color: #00d7ff; text-decoration-color: #00d7ff\">None</span>, <span style=\"color: #00af00; text-decoration-color: #00af00\">7</span>, <span style=\"color: #00af00; text-decoration-color: #00af00\">7</span>, <span style=\"color: #00af00; text-decoration-color: #00af00\">64</span>)            │          <span style=\"color: #00af00; text-decoration-color: #00af00\">18,496</span> │\n",
       "├──────────────────────────────────────┼─────────────────────────────┼─────────────────┤\n",
       "│ flatten_5 (<span style=\"color: #0087ff; text-decoration-color: #0087ff\">Flatten</span>)                  │ (<span style=\"color: #00d7ff; text-decoration-color: #00d7ff\">None</span>, <span style=\"color: #00af00; text-decoration-color: #00af00\">3136</span>)                │               <span style=\"color: #00af00; text-decoration-color: #00af00\">0</span> │\n",
       "├──────────────────────────────────────┼─────────────────────────────┼─────────────────┤\n",
       "│ dense_15 (<span style=\"color: #0087ff; text-decoration-color: #0087ff\">Dense</span>)                     │ (<span style=\"color: #00d7ff; text-decoration-color: #00d7ff\">None</span>, <span style=\"color: #00af00; text-decoration-color: #00af00\">100</span>)                 │         <span style=\"color: #00af00; text-decoration-color: #00af00\">313,700</span> │\n",
       "├──────────────────────────────────────┼─────────────────────────────┼─────────────────┤\n",
       "│ dense_16 (<span style=\"color: #0087ff; text-decoration-color: #0087ff\">Dense</span>)                     │ (<span style=\"color: #00d7ff; text-decoration-color: #00d7ff\">None</span>, <span style=\"color: #00af00; text-decoration-color: #00af00\">8</span>)                   │             <span style=\"color: #00af00; text-decoration-color: #00af00\">808</span> │\n",
       "├──────────────────────────────────────┼─────────────────────────────┼─────────────────┤\n",
       "│ dense_17 (<span style=\"color: #0087ff; text-decoration-color: #0087ff\">Dense</span>)                     │ (<span style=\"color: #00d7ff; text-decoration-color: #00d7ff\">None</span>, <span style=\"color: #00af00; text-decoration-color: #00af00\">3136</span>)                │          <span style=\"color: #00af00; text-decoration-color: #00af00\">28,224</span> │\n",
       "├──────────────────────────────────────┼─────────────────────────────┼─────────────────┤\n",
       "│ reshape_59 (<span style=\"color: #0087ff; text-decoration-color: #0087ff\">Reshape</span>)                 │ (<span style=\"color: #00d7ff; text-decoration-color: #00d7ff\">None</span>, <span style=\"color: #00af00; text-decoration-color: #00af00\">7</span>, <span style=\"color: #00af00; text-decoration-color: #00af00\">7</span>, <span style=\"color: #00af00; text-decoration-color: #00af00\">64</span>)            │               <span style=\"color: #00af00; text-decoration-color: #00af00\">0</span> │\n",
       "├──────────────────────────────────────┼─────────────────────────────┼─────────────────┤\n",
       "│ conv2d_transpose_12                  │ (<span style=\"color: #00d7ff; text-decoration-color: #00d7ff\">None</span>, <span style=\"color: #00af00; text-decoration-color: #00af00\">14</span>, <span style=\"color: #00af00; text-decoration-color: #00af00\">14</span>, <span style=\"color: #00af00; text-decoration-color: #00af00\">64</span>)          │          <span style=\"color: #00af00; text-decoration-color: #00af00\">36,928</span> │\n",
       "│ (<span style=\"color: #0087ff; text-decoration-color: #0087ff\">Conv2DTranspose</span>)                    │                             │                 │\n",
       "├──────────────────────────────────────┼─────────────────────────────┼─────────────────┤\n",
       "│ conv2d_transpose_13                  │ (<span style=\"color: #00d7ff; text-decoration-color: #00d7ff\">None</span>, <span style=\"color: #00af00; text-decoration-color: #00af00\">28</span>, <span style=\"color: #00af00; text-decoration-color: #00af00\">28</span>, <span style=\"color: #00af00; text-decoration-color: #00af00\">32</span>)          │          <span style=\"color: #00af00; text-decoration-color: #00af00\">18,464</span> │\n",
       "│ (<span style=\"color: #0087ff; text-decoration-color: #0087ff\">Conv2DTranspose</span>)                    │                             │                 │\n",
       "├──────────────────────────────────────┼─────────────────────────────┼─────────────────┤\n",
       "│ conv2d_transpose_14                  │ (<span style=\"color: #00d7ff; text-decoration-color: #00d7ff\">None</span>, <span style=\"color: #00af00; text-decoration-color: #00af00\">28</span>, <span style=\"color: #00af00; text-decoration-color: #00af00\">28</span>, <span style=\"color: #00af00; text-decoration-color: #00af00\">1</span>)           │             <span style=\"color: #00af00; text-decoration-color: #00af00\">289</span> │\n",
       "│ (<span style=\"color: #0087ff; text-decoration-color: #0087ff\">Conv2DTranspose</span>)                    │                             │                 │\n",
       "└──────────────────────────────────────┴─────────────────────────────┴─────────────────┘\n",
       "</pre>\n"
      ],
      "text/plain": [
       "┏━━━━━━━━━━━━━━━━━━━━━━━━━━━━━━━━━━━━━━┳━━━━━━━━━━━━━━━━━━━━━━━━━━━━━┳━━━━━━━━━━━━━━━━━┓\n",
       "┃\u001b[1m \u001b[0m\u001b[1mLayer (type)                        \u001b[0m\u001b[1m \u001b[0m┃\u001b[1m \u001b[0m\u001b[1mOutput Shape               \u001b[0m\u001b[1m \u001b[0m┃\u001b[1m \u001b[0m\u001b[1m        Param #\u001b[0m\u001b[1m \u001b[0m┃\n",
       "┡━━━━━━━━━━━━━━━━━━━━━━━━━━━━━━━━━━━━━━╇━━━━━━━━━━━━━━━━━━━━━━━━━━━━━╇━━━━━━━━━━━━━━━━━┩\n",
       "│ input_layer_96 (\u001b[38;5;33mInputLayer\u001b[0m)          │ (\u001b[38;5;45mNone\u001b[0m, \u001b[38;5;34m28\u001b[0m, \u001b[38;5;34m28\u001b[0m, \u001b[38;5;34m1\u001b[0m)           │               \u001b[38;5;34m0\u001b[0m │\n",
       "├──────────────────────────────────────┼─────────────────────────────┼─────────────────┤\n",
       "│ conv2d_465 (\u001b[38;5;33mConv2D\u001b[0m)                  │ (\u001b[38;5;45mNone\u001b[0m, \u001b[38;5;34m14\u001b[0m, \u001b[38;5;34m14\u001b[0m, \u001b[38;5;34m32\u001b[0m)          │             \u001b[38;5;34m320\u001b[0m │\n",
       "├──────────────────────────────────────┼─────────────────────────────┼─────────────────┤\n",
       "│ conv2d_466 (\u001b[38;5;33mConv2D\u001b[0m)                  │ (\u001b[38;5;45mNone\u001b[0m, \u001b[38;5;34m7\u001b[0m, \u001b[38;5;34m7\u001b[0m, \u001b[38;5;34m64\u001b[0m)            │          \u001b[38;5;34m18,496\u001b[0m │\n",
       "├──────────────────────────────────────┼─────────────────────────────┼─────────────────┤\n",
       "│ flatten_5 (\u001b[38;5;33mFlatten\u001b[0m)                  │ (\u001b[38;5;45mNone\u001b[0m, \u001b[38;5;34m3136\u001b[0m)                │               \u001b[38;5;34m0\u001b[0m │\n",
       "├──────────────────────────────────────┼─────────────────────────────┼─────────────────┤\n",
       "│ dense_15 (\u001b[38;5;33mDense\u001b[0m)                     │ (\u001b[38;5;45mNone\u001b[0m, \u001b[38;5;34m100\u001b[0m)                 │         \u001b[38;5;34m313,700\u001b[0m │\n",
       "├──────────────────────────────────────┼─────────────────────────────┼─────────────────┤\n",
       "│ dense_16 (\u001b[38;5;33mDense\u001b[0m)                     │ (\u001b[38;5;45mNone\u001b[0m, \u001b[38;5;34m8\u001b[0m)                   │             \u001b[38;5;34m808\u001b[0m │\n",
       "├──────────────────────────────────────┼─────────────────────────────┼─────────────────┤\n",
       "│ dense_17 (\u001b[38;5;33mDense\u001b[0m)                     │ (\u001b[38;5;45mNone\u001b[0m, \u001b[38;5;34m3136\u001b[0m)                │          \u001b[38;5;34m28,224\u001b[0m │\n",
       "├──────────────────────────────────────┼─────────────────────────────┼─────────────────┤\n",
       "│ reshape_59 (\u001b[38;5;33mReshape\u001b[0m)                 │ (\u001b[38;5;45mNone\u001b[0m, \u001b[38;5;34m7\u001b[0m, \u001b[38;5;34m7\u001b[0m, \u001b[38;5;34m64\u001b[0m)            │               \u001b[38;5;34m0\u001b[0m │\n",
       "├──────────────────────────────────────┼─────────────────────────────┼─────────────────┤\n",
       "│ conv2d_transpose_12                  │ (\u001b[38;5;45mNone\u001b[0m, \u001b[38;5;34m14\u001b[0m, \u001b[38;5;34m14\u001b[0m, \u001b[38;5;34m64\u001b[0m)          │          \u001b[38;5;34m36,928\u001b[0m │\n",
       "│ (\u001b[38;5;33mConv2DTranspose\u001b[0m)                    │                             │                 │\n",
       "├──────────────────────────────────────┼─────────────────────────────┼─────────────────┤\n",
       "│ conv2d_transpose_13                  │ (\u001b[38;5;45mNone\u001b[0m, \u001b[38;5;34m28\u001b[0m, \u001b[38;5;34m28\u001b[0m, \u001b[38;5;34m32\u001b[0m)          │          \u001b[38;5;34m18,464\u001b[0m │\n",
       "│ (\u001b[38;5;33mConv2DTranspose\u001b[0m)                    │                             │                 │\n",
       "├──────────────────────────────────────┼─────────────────────────────┼─────────────────┤\n",
       "│ conv2d_transpose_14                  │ (\u001b[38;5;45mNone\u001b[0m, \u001b[38;5;34m28\u001b[0m, \u001b[38;5;34m28\u001b[0m, \u001b[38;5;34m1\u001b[0m)           │             \u001b[38;5;34m289\u001b[0m │\n",
       "│ (\u001b[38;5;33mConv2DTranspose\u001b[0m)                    │                             │                 │\n",
       "└──────────────────────────────────────┴─────────────────────────────┴─────────────────┘\n"
      ]
     },
     "metadata": {},
     "output_type": "display_data"
    },
    {
     "data": {
      "text/html": [
       "<pre style=\"white-space:pre;overflow-x:auto;line-height:normal;font-family:Menlo,'DejaVu Sans Mono',consolas,'Courier New',monospace\"><span style=\"font-weight: bold\"> Total params: </span><span style=\"color: #00af00; text-decoration-color: #00af00\">417,229</span> (1.59 MB)\n",
       "</pre>\n"
      ],
      "text/plain": [
       "\u001b[1m Total params: \u001b[0m\u001b[38;5;34m417,229\u001b[0m (1.59 MB)\n"
      ]
     },
     "metadata": {},
     "output_type": "display_data"
    },
    {
     "data": {
      "text/html": [
       "<pre style=\"white-space:pre;overflow-x:auto;line-height:normal;font-family:Menlo,'DejaVu Sans Mono',consolas,'Courier New',monospace\"><span style=\"font-weight: bold\"> Trainable params: </span><span style=\"color: #00af00; text-decoration-color: #00af00\">417,229</span> (1.59 MB)\n",
       "</pre>\n"
      ],
      "text/plain": [
       "\u001b[1m Trainable params: \u001b[0m\u001b[38;5;34m417,229\u001b[0m (1.59 MB)\n"
      ]
     },
     "metadata": {},
     "output_type": "display_data"
    },
    {
     "data": {
      "text/html": [
       "<pre style=\"white-space:pre;overflow-x:auto;line-height:normal;font-family:Menlo,'DejaVu Sans Mono',consolas,'Courier New',monospace\"><span style=\"font-weight: bold\"> Non-trainable params: </span><span style=\"color: #00af00; text-decoration-color: #00af00\">0</span> (0.00 B)\n",
       "</pre>\n"
      ],
      "text/plain": [
       "\u001b[1m Non-trainable params: \u001b[0m\u001b[38;5;34m0\u001b[0m (0.00 B)\n"
      ]
     },
     "metadata": {},
     "output_type": "display_data"
    }
   ],
   "source": [
    "model.summary()"
   ]
  },
  {
   "cell_type": "code",
   "execution_count": 671,
   "metadata": {
    "scrolled": true
   },
   "outputs": [
    {
     "name": "stdout",
     "output_type": "stream",
     "text": [
      "Epoch 1/60\n",
      "\u001b[1m800/800\u001b[0m \u001b[32m━━━━━━━━━━━━━━━━━━━━\u001b[0m\u001b[37m\u001b[0m \u001b[1m13s\u001b[0m 11ms/step - loss: 0.0092 - val_loss: 0.0020\n",
      "Epoch 2/60\n",
      "\u001b[1m800/800\u001b[0m \u001b[32m━━━━━━━━━━━━━━━━━━━━\u001b[0m\u001b[37m\u001b[0m \u001b[1m9s\u001b[0m 11ms/step - loss: 0.0017 - val_loss: 0.0015\n",
      "Epoch 3/60\n",
      "\u001b[1m800/800\u001b[0m \u001b[32m━━━━━━━━━━━━━━━━━━━━\u001b[0m\u001b[37m\u001b[0m \u001b[1m10s\u001b[0m 11ms/step - loss: 0.0014 - val_loss: 0.0013\n",
      "Epoch 4/60\n",
      "\u001b[1m800/800\u001b[0m \u001b[32m━━━━━━━━━━━━━━━━━━━━\u001b[0m\u001b[37m\u001b[0m \u001b[1m10s\u001b[0m 12ms/step - loss: 0.0012 - val_loss: 0.0012\n",
      "Epoch 5/60\n",
      "\u001b[1m800/800\u001b[0m \u001b[32m━━━━━━━━━━━━━━━━━━━━\u001b[0m\u001b[37m\u001b[0m \u001b[1m9s\u001b[0m 11ms/step - loss: 0.0010 - val_loss: 0.0011\n",
      "Epoch 6/60\n",
      "\u001b[1m800/800\u001b[0m \u001b[32m━━━━━━━━━━━━━━━━━━━━\u001b[0m\u001b[37m\u001b[0m \u001b[1m12s\u001b[0m 13ms/step - loss: 9.7337e-04 - val_loss: 0.0010\n",
      "Epoch 7/60\n",
      "\u001b[1m800/800\u001b[0m \u001b[32m━━━━━━━━━━━━━━━━━━━━\u001b[0m\u001b[37m\u001b[0m \u001b[1m10s\u001b[0m 12ms/step - loss: 8.9971e-04 - val_loss: 9.5935e-04\n",
      "Epoch 8/60\n",
      "\u001b[1m800/800\u001b[0m \u001b[32m━━━━━━━━━━━━━━━━━━━━\u001b[0m\u001b[37m\u001b[0m \u001b[1m9s\u001b[0m 11ms/step - loss: 8.6016e-04 - val_loss: 9.2834e-04\n",
      "Epoch 9/60\n",
      "\u001b[1m800/800\u001b[0m \u001b[32m━━━━━━━━━━━━━━━━━━━━\u001b[0m\u001b[37m\u001b[0m \u001b[1m10s\u001b[0m 11ms/step - loss: 8.3189e-04 - val_loss: 8.8781e-04\n",
      "Epoch 10/60\n",
      "\u001b[1m800/800\u001b[0m \u001b[32m━━━━━━━━━━━━━━━━━━━━\u001b[0m\u001b[37m\u001b[0m \u001b[1m9s\u001b[0m 11ms/step - loss: 8.0232e-04 - val_loss: 8.6845e-04\n",
      "Epoch 11/60\n",
      "\u001b[1m800/800\u001b[0m \u001b[32m━━━━━━━━━━━━━━━━━━━━\u001b[0m\u001b[37m\u001b[0m \u001b[1m9s\u001b[0m 12ms/step - loss: 7.9191e-04 - val_loss: 9.9254e-04\n",
      "Epoch 12/60\n",
      "\u001b[1m800/800\u001b[0m \u001b[32m━━━━━━━━━━━━━━━━━━━━\u001b[0m\u001b[37m\u001b[0m \u001b[1m9s\u001b[0m 11ms/step - loss: 7.4689e-04 - val_loss: 8.3515e-04\n",
      "Epoch 13/60\n",
      "\u001b[1m800/800\u001b[0m \u001b[32m━━━━━━━━━━━━━━━━━━━━\u001b[0m\u001b[37m\u001b[0m \u001b[1m9s\u001b[0m 11ms/step - loss: 7.3660e-04 - val_loss: 8.1493e-04\n",
      "Epoch 14/60\n",
      "\u001b[1m800/800\u001b[0m \u001b[32m━━━━━━━━━━━━━━━━━━━━\u001b[0m\u001b[37m\u001b[0m \u001b[1m11s\u001b[0m 11ms/step - loss: 7.1684e-04 - val_loss: 7.8985e-04\n",
      "Epoch 15/60\n",
      "\u001b[1m800/800\u001b[0m \u001b[32m━━━━━━━━━━━━━━━━━━━━\u001b[0m\u001b[37m\u001b[0m \u001b[1m9s\u001b[0m 11ms/step - loss: 6.9903e-04 - val_loss: 7.9201e-04\n",
      "Epoch 16/60\n",
      "\u001b[1m800/800\u001b[0m \u001b[32m━━━━━━━━━━━━━━━━━━━━\u001b[0m\u001b[37m\u001b[0m \u001b[1m9s\u001b[0m 11ms/step - loss: 6.8237e-04 - val_loss: 7.6967e-04\n",
      "Epoch 17/60\n",
      "\u001b[1m800/800\u001b[0m \u001b[32m━━━━━━━━━━━━━━━━━━━━\u001b[0m\u001b[37m\u001b[0m \u001b[1m9s\u001b[0m 11ms/step - loss: 6.8055e-04 - val_loss: 7.7412e-04\n",
      "Epoch 18/60\n",
      "\u001b[1m800/800\u001b[0m \u001b[32m━━━━━━━━━━━━━━━━━━━━\u001b[0m\u001b[37m\u001b[0m \u001b[1m11s\u001b[0m 13ms/step - loss: 6.6886e-04 - val_loss: 7.6884e-04\n",
      "Epoch 19/60\n",
      "\u001b[1m800/800\u001b[0m \u001b[32m━━━━━━━━━━━━━━━━━━━━\u001b[0m\u001b[37m\u001b[0m \u001b[1m12s\u001b[0m 14ms/step - loss: 6.5049e-04 - val_loss: 7.8953e-04\n",
      "Epoch 20/60\n",
      "\u001b[1m800/800\u001b[0m \u001b[32m━━━━━━━━━━━━━━━━━━━━\u001b[0m\u001b[37m\u001b[0m \u001b[1m11s\u001b[0m 13ms/step - loss: 6.3530e-04 - val_loss: 7.6669e-04\n",
      "Epoch 21/60\n",
      "\u001b[1m800/800\u001b[0m \u001b[32m━━━━━━━━━━━━━━━━━━━━\u001b[0m\u001b[37m\u001b[0m \u001b[1m10s\u001b[0m 13ms/step - loss: 6.2957e-04 - val_loss: 7.4355e-04\n",
      "Epoch 22/60\n",
      "\u001b[1m800/800\u001b[0m \u001b[32m━━━━━━━━━━━━━━━━━━━━\u001b[0m\u001b[37m\u001b[0m \u001b[1m12s\u001b[0m 15ms/step - loss: 6.3566e-04 - val_loss: 7.1885e-04\n",
      "Epoch 23/60\n",
      "\u001b[1m800/800\u001b[0m \u001b[32m━━━━━━━━━━━━━━━━━━━━\u001b[0m\u001b[37m\u001b[0m \u001b[1m11s\u001b[0m 13ms/step - loss: 5.9598e-04 - val_loss: 7.1888e-04\n",
      "Epoch 24/60\n",
      "\u001b[1m800/800\u001b[0m \u001b[32m━━━━━━━━━━━━━━━━━━━━\u001b[0m\u001b[37m\u001b[0m \u001b[1m10s\u001b[0m 13ms/step - loss: 6.2039e-04 - val_loss: 7.0767e-04\n",
      "Epoch 25/60\n",
      "\u001b[1m800/800\u001b[0m \u001b[32m━━━━━━━━━━━━━━━━━━━━\u001b[0m\u001b[37m\u001b[0m \u001b[1m9s\u001b[0m 11ms/step - loss: 5.8826e-04 - val_loss: 7.0518e-04\n",
      "Epoch 26/60\n",
      "\u001b[1m800/800\u001b[0m \u001b[32m━━━━━━━━━━━━━━━━━━━━\u001b[0m\u001b[37m\u001b[0m \u001b[1m9s\u001b[0m 11ms/step - loss: 5.7643e-04 - val_loss: 7.1439e-04\n",
      "Epoch 27/60\n",
      "\u001b[1m800/800\u001b[0m \u001b[32m━━━━━━━━━━━━━━━━━━━━\u001b[0m\u001b[37m\u001b[0m \u001b[1m10s\u001b[0m 12ms/step - loss: 5.7370e-04 - val_loss: 6.9751e-04\n",
      "Epoch 28/60\n",
      "\u001b[1m800/800\u001b[0m \u001b[32m━━━━━━━━━━━━━━━━━━━━\u001b[0m\u001b[37m\u001b[0m \u001b[1m11s\u001b[0m 13ms/step - loss: 5.7264e-04 - val_loss: 6.8897e-04\n",
      "Epoch 29/60\n",
      "\u001b[1m800/800\u001b[0m \u001b[32m━━━━━━━━━━━━━━━━━━━━\u001b[0m\u001b[37m\u001b[0m \u001b[1m19s\u001b[0m 12ms/step - loss: 5.6212e-04 - val_loss: 7.1712e-04\n",
      "Epoch 30/60\n",
      "\u001b[1m800/800\u001b[0m \u001b[32m━━━━━━━━━━━━━━━━━━━━\u001b[0m\u001b[37m\u001b[0m \u001b[1m9s\u001b[0m 11ms/step - loss: 5.6964e-04 - val_loss: 6.8466e-04\n",
      "Epoch 31/60\n",
      "\u001b[1m800/800\u001b[0m \u001b[32m━━━━━━━━━━━━━━━━━━━━\u001b[0m\u001b[37m\u001b[0m \u001b[1m9s\u001b[0m 12ms/step - loss: 5.4988e-04 - val_loss: 6.7825e-04\n",
      "Epoch 32/60\n",
      "\u001b[1m800/800\u001b[0m \u001b[32m━━━━━━━━━━━━━━━━━━━━\u001b[0m\u001b[37m\u001b[0m \u001b[1m10s\u001b[0m 12ms/step - loss: 5.5443e-04 - val_loss: 6.8495e-04\n",
      "Epoch 33/60\n",
      "\u001b[1m800/800\u001b[0m \u001b[32m━━━━━━━━━━━━━━━━━━━━\u001b[0m\u001b[37m\u001b[0m \u001b[1m10s\u001b[0m 13ms/step - loss: 5.6188e-04 - val_loss: 6.5873e-04\n",
      "Epoch 34/60\n",
      "\u001b[1m800/800\u001b[0m \u001b[32m━━━━━━━━━━━━━━━━━━━━\u001b[0m\u001b[37m\u001b[0m \u001b[1m10s\u001b[0m 13ms/step - loss: 5.4256e-04 - val_loss: 6.7192e-04\n",
      "Epoch 35/60\n",
      "\u001b[1m800/800\u001b[0m \u001b[32m━━━━━━━━━━━━━━━━━━━━\u001b[0m\u001b[37m\u001b[0m \u001b[1m10s\u001b[0m 12ms/step - loss: 5.4449e-04 - val_loss: 6.6789e-04\n",
      "Epoch 36/60\n",
      "\u001b[1m800/800\u001b[0m \u001b[32m━━━━━━━━━━━━━━━━━━━━\u001b[0m\u001b[37m\u001b[0m \u001b[1m10s\u001b[0m 12ms/step - loss: 5.3337e-04 - val_loss: 6.7980e-04\n",
      "Epoch 37/60\n",
      "\u001b[1m800/800\u001b[0m \u001b[32m━━━━━━━━━━━━━━━━━━━━\u001b[0m\u001b[37m\u001b[0m \u001b[1m9s\u001b[0m 12ms/step - loss: 5.2068e-04 - val_loss: 6.8260e-04\n",
      "Epoch 38/60\n",
      "\u001b[1m800/800\u001b[0m \u001b[32m━━━━━━━━━━━━━━━━━━━━\u001b[0m\u001b[37m\u001b[0m \u001b[1m9s\u001b[0m 12ms/step - loss: 5.3240e-04 - val_loss: 6.6338e-04\n",
      "Epoch 39/60\n",
      "\u001b[1m800/800\u001b[0m \u001b[32m━━━━━━━━━━━━━━━━━━━━\u001b[0m\u001b[37m\u001b[0m \u001b[1m10s\u001b[0m 12ms/step - loss: 5.1664e-04 - val_loss: 6.4963e-04\n",
      "Epoch 40/60\n",
      "\u001b[1m800/800\u001b[0m \u001b[32m━━━━━━━━━━━━━━━━━━━━\u001b[0m\u001b[37m\u001b[0m \u001b[1m9s\u001b[0m 12ms/step - loss: 5.2318e-04 - val_loss: 6.5486e-04\n",
      "Epoch 41/60\n",
      "\u001b[1m800/800\u001b[0m \u001b[32m━━━━━━━━━━━━━━━━━━━━\u001b[0m\u001b[37m\u001b[0m \u001b[1m11s\u001b[0m 12ms/step - loss: 5.0683e-04 - val_loss: 6.4363e-04\n",
      "Epoch 42/60\n",
      "\u001b[1m800/800\u001b[0m \u001b[32m━━━━━━━━━━━━━━━━━━━━\u001b[0m\u001b[37m\u001b[0m \u001b[1m11s\u001b[0m 14ms/step - loss: 5.2732e-04 - val_loss: 6.4288e-04\n",
      "Epoch 43/60\n",
      "\u001b[1m800/800\u001b[0m \u001b[32m━━━━━━━━━━━━━━━━━━━━\u001b[0m\u001b[37m\u001b[0m \u001b[1m10s\u001b[0m 12ms/step - loss: 5.1909e-04 - val_loss: 6.4051e-04\n",
      "Epoch 44/60\n",
      "\u001b[1m800/800\u001b[0m \u001b[32m━━━━━━━━━━━━━━━━━━━━\u001b[0m\u001b[37m\u001b[0m \u001b[1m12s\u001b[0m 14ms/step - loss: 4.9619e-04 - val_loss: 6.4340e-04\n",
      "Epoch 45/60\n",
      "\u001b[1m800/800\u001b[0m \u001b[32m━━━━━━━━━━━━━━━━━━━━\u001b[0m\u001b[37m\u001b[0m \u001b[1m11s\u001b[0m 14ms/step - loss: 4.9972e-04 - val_loss: 6.3637e-04\n",
      "Epoch 46/60\n",
      "\u001b[1m800/800\u001b[0m \u001b[32m━━━━━━━━━━━━━━━━━━━━\u001b[0m\u001b[37m\u001b[0m \u001b[1m10s\u001b[0m 13ms/step - loss: 4.9333e-04 - val_loss: 6.3631e-04\n",
      "Epoch 47/60\n",
      "\u001b[1m800/800\u001b[0m \u001b[32m━━━━━━━━━━━━━━━━━━━━\u001b[0m\u001b[37m\u001b[0m \u001b[1m12s\u001b[0m 15ms/step - loss: 4.9322e-04 - val_loss: 6.3823e-04\n",
      "Epoch 48/60\n",
      "\u001b[1m800/800\u001b[0m \u001b[32m━━━━━━━━━━━━━━━━━━━━\u001b[0m\u001b[37m\u001b[0m \u001b[1m13s\u001b[0m 16ms/step - loss: 4.9077e-04 - val_loss: 6.2916e-04\n",
      "Epoch 49/60\n",
      "\u001b[1m800/800\u001b[0m \u001b[32m━━━━━━━━━━━━━━━━━━━━\u001b[0m\u001b[37m\u001b[0m \u001b[1m13s\u001b[0m 16ms/step - loss: 4.7674e-04 - val_loss: 6.7218e-04\n",
      "Epoch 50/60\n",
      "\u001b[1m800/800\u001b[0m \u001b[32m━━━━━━━━━━━━━━━━━━━━\u001b[0m\u001b[37m\u001b[0m \u001b[1m11s\u001b[0m 13ms/step - loss: 5.0041e-04 - val_loss: 6.4458e-04\n",
      "Epoch 51/60\n",
      "\u001b[1m800/800\u001b[0m \u001b[32m━━━━━━━━━━━━━━━━━━━━\u001b[0m\u001b[37m\u001b[0m \u001b[1m10s\u001b[0m 13ms/step - loss: 4.8025e-04 - val_loss: 6.3099e-04\n",
      "Epoch 52/60\n",
      "\u001b[1m800/800\u001b[0m \u001b[32m━━━━━━━━━━━━━━━━━━━━\u001b[0m\u001b[37m\u001b[0m \u001b[1m11s\u001b[0m 14ms/step - loss: 4.7412e-04 - val_loss: 6.2341e-04\n",
      "Epoch 53/60\n",
      "\u001b[1m800/800\u001b[0m \u001b[32m━━━━━━━━━━━━━━━━━━━━\u001b[0m\u001b[37m\u001b[0m \u001b[1m11s\u001b[0m 14ms/step - loss: 4.8388e-04 - val_loss: 6.2784e-04\n",
      "Epoch 54/60\n",
      "\u001b[1m800/800\u001b[0m \u001b[32m━━━━━━━━━━━━━━━━━━━━\u001b[0m\u001b[37m\u001b[0m \u001b[1m10s\u001b[0m 13ms/step - loss: 4.7855e-04 - val_loss: 6.2008e-04\n",
      "Epoch 55/60\n",
      "\u001b[1m800/800\u001b[0m \u001b[32m━━━━━━━━━━━━━━━━━━━━\u001b[0m\u001b[37m\u001b[0m \u001b[1m11s\u001b[0m 13ms/step - loss: 4.7291e-04 - val_loss: 6.1081e-04\n",
      "Epoch 56/60\n",
      "\u001b[1m800/800\u001b[0m \u001b[32m━━━━━━━━━━━━━━━━━━━━\u001b[0m\u001b[37m\u001b[0m \u001b[1m11s\u001b[0m 13ms/step - loss: 4.7101e-04 - val_loss: 6.4211e-04\n",
      "Epoch 57/60\n",
      "\u001b[1m800/800\u001b[0m \u001b[32m━━━━━━━━━━━━━━━━━━━━\u001b[0m\u001b[37m\u001b[0m \u001b[1m23s\u001b[0m 17ms/step - loss: 4.6389e-04 - val_loss: 6.4121e-04\n",
      "Epoch 58/60\n",
      "\u001b[1m800/800\u001b[0m \u001b[32m━━━━━━━━━━━━━━━━━━━━\u001b[0m\u001b[37m\u001b[0m \u001b[1m12s\u001b[0m 14ms/step - loss: 4.6446e-04 - val_loss: 6.1019e-04\n",
      "Epoch 59/60\n",
      "\u001b[1m800/800\u001b[0m \u001b[32m━━━━━━━━━━━━━━━━━━━━\u001b[0m\u001b[37m\u001b[0m \u001b[1m10s\u001b[0m 13ms/step - loss: 4.6311e-04 - val_loss: 6.1246e-04\n",
      "Epoch 60/60\n",
      "\u001b[1m800/800\u001b[0m \u001b[32m━━━━━━━━━━━━━━━━━━━━\u001b[0m\u001b[37m\u001b[0m \u001b[1m11s\u001b[0m 14ms/step - loss: 4.6543e-04 - val_loss: 6.1173e-04\n"
     ]
    },
    {
     "data": {
      "text/plain": [
       "<keras.src.callbacks.history.History at 0x1b864179110>"
      ]
     },
     "execution_count": 671,
     "metadata": {},
     "output_type": "execute_result"
    }
   ],
   "source": [
    "model.fit(np.array(X_train), np.array(X_train),\n",
    "                epochs=60,\n",
    "                batch_size=8,\n",
    "                shuffle=True, validation_data=(np.array(X_test), np.array(X_test)))"
   ]
  },
  {
   "cell_type": "code",
   "execution_count": 673,
   "metadata": {},
   "outputs": [],
   "source": [
    "encod = keras.Model(encoder_inputs, encoder)"
   ]
  },
  {
   "cell_type": "code",
   "execution_count": 674,
   "metadata": {},
   "outputs": [
    {
     "name": "stdout",
     "output_type": "stream",
     "text": [
      "\u001b[1m200/200\u001b[0m \u001b[32m━━━━━━━━━━━━━━━━━━━━\u001b[0m\u001b[37m\u001b[0m \u001b[1m2s\u001b[0m 4ms/step\n"
     ]
    }
   ],
   "source": [
    "encoded_X_train = encod.predict(X_train)"
   ]
  },
  {
   "cell_type": "code",
   "execution_count": 675,
   "metadata": {},
   "outputs": [
    {
     "name": "stdout",
     "output_type": "stream",
     "text": [
      "\u001b[1m25/25\u001b[0m \u001b[32m━━━━━━━━━━━━━━━━━━━━\u001b[0m\u001b[37m\u001b[0m \u001b[1m0s\u001b[0m 4ms/step\n"
     ]
    }
   ],
   "source": [
    "encoded_X_val = encod.predict(X_val)"
   ]
  },
  {
   "cell_type": "code",
   "execution_count": 676,
   "metadata": {},
   "outputs": [
    {
     "name": "stdout",
     "output_type": "stream",
     "text": [
      "\u001b[1m25/25\u001b[0m \u001b[32m━━━━━━━━━━━━━━━━━━━━\u001b[0m\u001b[37m\u001b[0m \u001b[1m0s\u001b[0m 4ms/step\n"
     ]
    }
   ],
   "source": [
    "encoded_X_test = encod.predict(X_test)"
   ]
  },
  {
   "cell_type": "markdown",
   "metadata": {},
   "source": [
    "<a id=\"2\"></a>\n",
    "### Model"
   ]
  },
  {
   "cell_type": "markdown",
   "metadata": {},
   "source": [
    "Block from article looks like:\n",
    "![circuit](./Images/MERA_block_1.png)"
   ]
  },
  {
   "cell_type": "markdown",
   "metadata": {
    "collapsed": false,
    "jupyter": {
     "outputs_hidden": false
    },
    "pycharm": {
     "name": "#%% md\n"
    }
   },
   "source": [
    "First three gate RZ,RY,RZ can be change into qml.Rot()."
   ]
  },
  {
   "cell_type": "code",
   "execution_count": 677,
   "metadata": {},
   "outputs": [
    {
     "data": {
      "text/plain": [
       "(<Figure size 1000x300 with 1 Axes>, <Axes: >)"
      ]
     },
     "execution_count": 677,
     "metadata": {},
     "output_type": "execute_result"
    },
    {
     "data": {
      "image/png": "[encoded data removed]",
      "text/plain": [
       "<Figure size 1000x300 with 1 Axes>"
      ]
     },
     "metadata": {},
     "output_type": "display_data"
    }
   ],
   "source": [
    "import pennylane as qml\n",
    "from pennylane import numpy as np\n",
    "def block(weights, wires):\n",
    "    qml.Rot(weights[0],weights[1],weights[2],wires=wires[0])\n",
    "    qml.Rot(weights[3],weights[4],weights[5],wires=wires[1])\n",
    "\n",
    "    qml.CNOT(wires=[wires[1], wires[0]])\n",
    "    qml.RZ(weights[6], wires=wires[0])\n",
    "\n",
    "    qml.RY(weights[7], wires=wires[1])\n",
    "    qml.CNOT(wires=[wires[0], wires[1]])\n",
    "    qml.RY(weights[8], wires=wires[1])\n",
    "\n",
    "    qml.CNOT(wires=[wires[1], wires[0]])\n",
    "    qml.Rot(weights[9],weights[10],weights[11],wires=wires[0])\n",
    "    qml.Rot(weights[12],weights[13],weights[14],wires=wires[1])\n",
    "\n",
    "dev= qml.device('default.qubit',wires=range(2))\n",
    "@qml.qnode(dev)\n",
    "def circuit_block(f, template_weights):\n",
    "    block(template_weights,wires=[0,1])\n",
    "    return qml.probs(wires = [0, 1])\n",
    "\n",
    "weights = np.random.random(size=[15, 1])\n",
    "qml.draw_mpl(circuit_block, expansion_strategy=\"device\")(encoded_X_train[0][0:4], weights)"
   ]
  },
  {
   "cell_type": "markdown",
   "metadata": {},
   "source": [
    "MERA architecture looks like:\n",
    "\n",
    "![Mera circuit](./Images/MERA_1.png)"
   ]
  },
  {
   "cell_type": "code",
   "execution_count": 689,
   "metadata": {},
   "outputs": [],
   "source": [
    "encoded_X_train2 = []\n",
    "encoded_X_test2 = []\n",
    "encoded_X_val2 = []\n",
    "\n",
    "for i in range(len(encoded_X_train)):\n",
    "    encoded_X_train2.append(encoded_X_train[i]/max(encoded_X_train[i]))\n",
    "    for j in range(len(encoded_X_train2[i])):\n",
    "        if encoded_X_train2[i][j] >= 0.5:\n",
    "            encoded_X_train2[i][j] = 1\n",
    "        else:\n",
    "            encoded_X_train2[i][j] = 0\n",
    "\n",
    "for i in range(len(encoded_X_test)):\n",
    "    encoded_X_test2.append(encoded_X_test[i]/max(encoded_X_test[i]))\n",
    "    for j in range(len(encoded_X_test2[i])):\n",
    "        if encoded_X_test2[i][j] >= 0.5:\n",
    "            encoded_X_test2[i][j] = 1\n",
    "        else:\n",
    "            encoded_X_test2[i][j] = 0\n",
    "\n",
    "for i in range(len(encoded_X_val)):\n",
    "    encoded_X_val2.append(encoded_X_val[i]/max(encoded_X_val[i]))\n",
    "    for j in range(len(encoded_X_val2[i])):\n",
    "        if encoded_X_val2[i][j] >= 0.5:\n",
    "            encoded_X_val2[i][j] = 1\n",
    "        else:\n",
    "            encoded_X_val2[i][j] = 0"
   ]
  },
  {
   "cell_type": "code",
   "execution_count": 700,
   "metadata": {},
   "outputs": [],
   "source": [
    "encoded_X_train2 = np.array(encoded_X_train2)\n",
    "encoded_X_test2 = np.array(encoded_X_test2)\n",
    "encoded_X_val2 = np.array(encoded_X_val2)"
   ]
  },
  {
   "cell_type": "code",
   "execution_count": 701,
   "metadata": {
    "pycharm": {
     "name": "#%%\n"
    }
   },
   "outputs": [
    {
     "data": {
      "text/plain": [
       "(<Figure size 6700x900 with 1 Axes>, <Axes: >)"
      ]
     },
     "execution_count": 701,
     "metadata": {},
     "output_type": "execute_result"
    },
    {
     "data": {
      "image/png": "[encoded data removed]",
      "text/plain": [
       "<Figure size 6700x900 with 1 Axes>"
      ]
     },
     "metadata": {},
     "output_type": "display_data"
    }
   ],
   "source": [
    "n_wires = 8\n",
    "n_block_wires = 2\n",
    "n_params_block = 15\n",
    "n_blocks = qml.MERA.get_n_blocks(range(n_wires),n_block_wires)\n",
    "template_weights = [[0.1,-0.3]]*n_blocks\n",
    "\n",
    "\n",
    "dev= qml.device('default.qubit',wires=range(n_wires))\n",
    "@qml.qnode(dev)\n",
    "def circuit_MERA(f, template_weights):\n",
    "    qml.BasisEmbedding(features=f, wires=range(8))\n",
    "    qml.MERA(range(n_wires),n_block_wires,block, n_params_block, template_weights)\n",
    "    return qml.probs(wires = [0])\n",
    "\n",
    "\n",
    "weights = np.random.random(size=[13, 15])\n",
    "qml.draw_mpl(circuit_MERA, expansion_strategy=\"device\")(encoded_X_train2[0], weights)"
   ]
  },
  {
   "cell_type": "markdown",
   "metadata": {},
   "source": [
    "<a id=\"3\"></a>\n",
    "### Experiments 1\n",
    "<a id=\"4\"></a>\n",
    "#### Training\n",
    "* Training set: [349 364 350 350 325 361]\n",
    "* Validation set: [61 42 39 51 61 47]\n",
    "* Test set: [ 90  94 111  99 114  92]\n",
    "* Cost function: Cross-Entropy Loss\n",
    "* Epoch: 70\n",
    "* batch: 64\n",
    "* learning rate:0.05\n",
    "* val_accuracy: 56,81%"
   ]
  },
  {
   "cell_type": "code",
   "execution_count": 702,
   "metadata": {
    "pycharm": {
     "name": "#%%\n"
    }
   },
   "outputs": [],
   "source": [
    "import math\n",
    "from pennylane import numpy as np\n",
    "from Modules.training import costfunc_exponential"
   ]
  },
  {
   "cell_type": "markdown",
   "metadata": {
    "pycharm": {
     "name": "#%% md\n"
    }
   },
   "source": [
    "training the circuit parameters"
   ]
  },
  {
   "cell_type": "code",
   "execution_count": 703,
   "metadata": {
    "pycharm": {
     "name": "#%%\n"
    }
   },
   "outputs": [],
   "source": [
    "# training the circuit parameters\n",
    "from pennylane import numpy as np\n",
    "x2 = np.random.random(size=[13, 15], requires_grad=True)\n",
    "params = x2[:]\n",
    "optimizer = qml.AdamOptimizer(stepsize=0.05)\n",
    "batch_size = 64\n",
    "all_params = []\n",
    "all_cost = []\n",
    "all_accuracy = []"
   ]
  },
  {
   "cell_type": "code",
   "execution_count": null,
   "metadata": {
    "pycharm": {
     "name": "#%%\n"
    },
    "scrolled": true
   },
   "outputs": [
    {
     "name": "stdout",
     "output_type": "stream",
     "text": [
      "Step 0| Cost: 0.24297768583338594 | Validation accuracy: 63.50%\n",
      "Step 1| Cost: 0.20221669421466354 | Validation accuracy: 67.75%\n",
      "Step 2| Cost: 0.18549657417780163 | Validation accuracy: 70.12%\n",
      "Step 3| Cost: 0.15655984572871917 | Validation accuracy: 71.88%\n",
      "Step 4| Cost: 0.17433794633460514 | Validation accuracy: 66.00%\n",
      "Step 5| Cost: 0.16652261958253078 | Validation accuracy: 68.88%\n",
      "Step 6| Cost: 0.15190261296852267 | Validation accuracy: 67.50%\n",
      "Step 7| Cost: 0.16301162587850052 | Validation accuracy: 67.25%\n",
      "Step 8| Cost: 0.1465317562140222 | Validation accuracy: 68.38%\n",
      "Step 9| Cost: 0.1501149584641343 | Validation accuracy: 73.88%\n",
      "Step 10| Cost: 0.174748381964086 | Validation accuracy: 76.25%\n",
      "Step 11| Cost: 0.15658756715556163 | Validation accuracy: 76.62%\n",
      "Step 12| Cost: 0.16818725041663868 | Validation accuracy: 76.00%\n",
      "Step 13| Cost: 0.14849465274352733 | Validation accuracy: 78.38%\n",
      "Step 14| Cost: 0.15188119455015708 | Validation accuracy: 79.12%\n",
      "Step 15| Cost: 0.16614263462781634 | Validation accuracy: 79.00%\n",
      "Step 16| Cost: 0.1758601058298192 | Validation accuracy: 80.00%\n",
      "Step 17| Cost: 0.17167826484381113 | Validation accuracy: 79.25%\n",
      "Step 18| Cost: 0.14267561423872333 | Validation accuracy: 80.38%\n",
      "Step 19| Cost: 0.13370364983434388 | Validation accuracy: 79.50%\n",
      "Step 20| Cost: 0.15708090529793817 | Validation accuracy: 80.62%\n",
      "Step 21| Cost: 0.1496396743334179 | Validation accuracy: 80.88%\n",
      "Step 22| Cost: 0.154118451738011 | Validation accuracy: 80.88%\n",
      "Step 23| Cost: 0.14210706715383079 | Validation accuracy: 80.88%\n",
      "Step 24| Cost: 0.13035003895638303 | Validation accuracy: 79.75%\n",
      "Step 25| Cost: 0.16309358702184593 | Validation accuracy: 80.88%\n",
      "Step 26| Cost: 0.15276318319385013 | Validation accuracy: 80.75%\n",
      "Step 27| Cost: 0.14171781457533802 | Validation accuracy: 81.12%\n",
      "Step 28| Cost: 0.1366136524879753 | Validation accuracy: 81.88%\n",
      "Step 29| Cost: 0.1666975133027563 | Validation accuracy: 83.12%\n",
      "Step 30| Cost: 0.14527668706221292 | Validation accuracy: 82.50%\n",
      "Step 31| Cost: 0.11619291115308232 | Validation accuracy: 82.50%\n",
      "Step 32| Cost: 0.12040623264561476 | Validation accuracy: 81.38%\n",
      "Step 33| Cost: 0.16918087442634558 | Validation accuracy: 83.50%\n",
      "Step 34| Cost: 0.11966844874932875 | Validation accuracy: 83.00%\n",
      "Step 35| Cost: 0.16549132769155359 | Validation accuracy: 78.75%\n",
      "Step 36| Cost: 0.13678154760342126 | Validation accuracy: 79.25%\n",
      "Step 37| Cost: 0.1420676015722131 | Validation accuracy: 78.38%\n",
      "Step 38| Cost: 0.1675489340979842 | Validation accuracy: 77.75%\n",
      "Step 39| Cost: 0.12921205997864174 | Validation accuracy: 77.12%\n",
      "Step 40| Cost: 0.143766018507637 | Validation accuracy: 78.75%\n",
      "Step 41| Cost: 0.13367942722328607 | Validation accuracy: 81.38%\n",
      "Step 42| Cost: 0.1261220261986343 | Validation accuracy: 81.75%\n",
      "Step 43| Cost: 0.12873359013504893 | Validation accuracy: 82.25%\n",
      "Step 44| Cost: 0.13424589532829964 | Validation accuracy: 81.62%\n",
      "Step 45| Cost: 0.12834731442237451 | Validation accuracy: 81.50%\n",
      "Step 46| Cost: 0.1534135154805595 | Validation accuracy: 81.75%\n",
      "Step 47| Cost: 0.1438540986364589 | Validation accuracy: 82.38%\n",
      "Step 48| Cost: 0.1406163798514243 | Validation accuracy: 82.00%\n",
      "Step 49| Cost: 0.15884837065976698 | Validation accuracy: 83.25%\n",
      "Step 50| Cost: 0.12015328320854339 | Validation accuracy: 84.00%\n",
      "Step 51| Cost: 0.11304078937999139 | Validation accuracy: 84.75%\n",
      "Step 52| Cost: 0.12554757888384677 | Validation accuracy: 84.62%\n",
      "Step 53| Cost: 0.1414581362489917 | Validation accuracy: 85.75%\n",
      "Step 54| Cost: 0.11941229147431036 | Validation accuracy: 85.62%\n",
      "Step 55| Cost: 0.14595198824043062 | Validation accuracy: 84.62%\n",
      "Step 56| Cost: 0.12371012204526609 | Validation accuracy: 82.88%\n",
      "Step 57| Cost: 0.12462377358599752 | Validation accuracy: 83.00%\n",
      "Step 58| Cost: 0.13459711132261254 | Validation accuracy: 84.62%\n",
      "Step 59| Cost: 0.1380066896614734 | Validation accuracy: 84.75%\n",
      "Step 60| Cost: 0.15352714978261042 | Validation accuracy: 84.62%\n",
      "Step 61| Cost: 0.13367355629243716 | Validation accuracy: 84.88%\n",
      "Step 62| Cost: 0.12891549694105173 | Validation accuracy: 84.50%\n",
      "Step 63| Cost: 0.12172104779006286 | Validation accuracy: 85.25%\n",
      "Step 64| Cost: 0.13330002120881565 | Validation accuracy: 85.12%\n",
      "Step 65| Cost: 0.13271111503616126 | Validation accuracy: 85.25%\n",
      "Step 66| Cost: 0.11230332782539042 | Validation accuracy: 84.88%\n",
      "Step 67| Cost: 0.12208278956940585 | Validation accuracy: 84.00%\n",
      "Step 68| Cost: 0.14478342051797458 | Validation accuracy: 84.75%\n",
      "Step 69| Cost: 0.12143107821917987 | Validation accuracy: 84.75%\n",
      "Step 70| Cost: 0.14175736689767143 | Validation accuracy: 84.12%\n",
      "Step 71| Cost: 0.11908934584272576 | Validation accuracy: 84.88%\n",
      "Step 72| Cost: 0.1253652216675685 | Validation accuracy: 84.25%\n",
      "Step 73| Cost: 0.13401532448044268 | Validation accuracy: 84.25%\n",
      "Step 74| Cost: 0.12567127624234734 | Validation accuracy: 84.25%\n",
      "Step 75| Cost: 0.15228542633969422 | Validation accuracy: 85.12%\n",
      "Step 76| Cost: 0.15740007114110638 | Validation accuracy: 85.62%\n",
      "Step 77| Cost: 0.1231096222766403 | Validation accuracy: 85.88%\n",
      "Step 78| Cost: 0.13309571098317913 | Validation accuracy: 85.00%\n",
      "Step 79| Cost: 0.16927764388371522 | Validation accuracy: 86.38%\n",
      "Step 80| Cost: 0.13328873322321988 | Validation accuracy: 86.62%\n",
      "Step 81| Cost: 0.12178608548477889 | Validation accuracy: 85.38%\n",
      "Step 82| Cost: 0.12819802538558323 | Validation accuracy: 85.38%\n",
      "Step 83| Cost: 0.1496522193041926 | Validation accuracy: 86.75%\n",
      "Step 84| Cost: 0.12603553743096824 | Validation accuracy: 84.75%\n",
      "Step 85| Cost: 0.13891689210424374 | Validation accuracy: 84.00%\n",
      "Step 86| Cost: 0.14596072001805832 | Validation accuracy: 82.25%\n",
      "Step 87| Cost: 0.13481100666855286 | Validation accuracy: 81.62%\n",
      "Step 88| Cost: 0.1517961372448455 | Validation accuracy: 81.75%\n",
      "Step 89| Cost: 0.16495877858198676 | Validation accuracy: 83.62%\n",
      "Step 90| Cost: 0.1073417684708502 | Validation accuracy: 87.75%\n",
      "Step 91| Cost: 0.16222760213918 | Validation accuracy: 84.75%\n",
      "Step 92| Cost: 0.13641347439473653 | Validation accuracy: 84.75%\n",
      "Step 93| Cost: 0.11346772080416859 | Validation accuracy: 86.00%\n",
      "Step 94| Cost: 0.1281749207514657 | Validation accuracy: 85.88%\n",
      "Step 95| Cost: 0.13469895619621036 | Validation accuracy: 87.12%\n",
      "Step 96| Cost: 0.12209902255067959 | Validation accuracy: 88.75%\n",
      "Step 97| Cost: 0.14807338457469116 | Validation accuracy: 87.25%\n",
      "Step 98| Cost: 0.13418594959470556 | Validation accuracy: 86.88%\n",
      "Step 99| Cost: 0.10980847246970658 | Validation accuracy: 86.88%\n",
      "Step 100| Cost: 0.12981278963547796 | Validation accuracy: 87.25%\n",
      "Step 101| Cost: 0.12655666962618997 | Validation accuracy: 87.12%\n",
      "Step 102| Cost: 0.13436635375078443 | Validation accuracy: 86.88%\n",
      "Step 103| Cost: 0.1263972675506486 | Validation accuracy: 82.88%\n",
      "Step 104| Cost: 0.1262852858442057 | Validation accuracy: 80.50%\n",
      "Step 105| Cost: 0.13954232011313633 | Validation accuracy: 82.50%\n",
      "Step 106| Cost: 0.13434395195827012 | Validation accuracy: 81.25%\n",
      "Step 107| Cost: 0.12081170495306946 | Validation accuracy: 82.38%\n",
      "Step 108| Cost: 0.15135514101616396 | Validation accuracy: 83.50%\n",
      "Step 109| Cost: 0.11753857361161581 | Validation accuracy: 84.62%\n",
      "Step 110| Cost: 0.11623912486497592 | Validation accuracy: 86.62%\n",
      "Step 111| Cost: 0.10495072994688427 | Validation accuracy: 86.50%\n",
      "Step 112| Cost: 0.12378230851533714 | Validation accuracy: 86.75%\n",
      "Step 113| Cost: 0.12512973154480475 | Validation accuracy: 85.50%\n",
      "Step 114| Cost: 0.11145200255558102 | Validation accuracy: 85.50%\n",
      "Step 115| Cost: 0.1247999311562435 | Validation accuracy: 85.38%\n",
      "Step 116| Cost: 0.12582087898192748 | Validation accuracy: 85.50%\n",
      "Step 117| Cost: 0.12083748958580814 | Validation accuracy: 85.62%\n",
      "Step 118| Cost: 0.11675802368441454 | Validation accuracy: 85.50%\n",
      "Step 119| Cost: 0.13056132334968049 | Validation accuracy: 84.88%\n",
      "Step 120| Cost: 0.13701951211924177 | Validation accuracy: 84.75%\n",
      "Step 121| Cost: 0.1237149258030654 | Validation accuracy: 82.00%\n",
      "Step 122| Cost: 0.13057443145283582 | Validation accuracy: 82.25%\n",
      "Step 123| Cost: 0.133464841151004 | Validation accuracy: 82.25%\n",
      "Step 124| Cost: 0.11642538913324274 | Validation accuracy: 81.88%\n",
      "Step 125| Cost: 0.12492827848003536 | Validation accuracy: 76.88%\n",
      "Step 126| Cost: 0.10765456404727544 | Validation accuracy: 76.88%\n",
      "Step 127| Cost: 0.14851725008763314 | Validation accuracy: 77.62%\n",
      "Step 128| Cost: 0.1226228526904188 | Validation accuracy: 77.25%\n",
      "Step 129| Cost: 0.15405679882742793 | Validation accuracy: 78.12%\n",
      "Step 130| Cost: 0.14480928748218436 | Validation accuracy: 77.88%\n",
      "Step 131| Cost: 0.137413484737121 | Validation accuracy: 83.25%\n",
      "Step 132| Cost: 0.1028193487413128 | Validation accuracy: 85.50%\n",
      "Step 133| Cost: 0.1473872969077701 | Validation accuracy: 84.50%\n",
      "Step 134| Cost: 0.15111707668797933 | Validation accuracy: 84.12%\n",
      "Step 135| Cost: 0.1266421176750724 | Validation accuracy: 85.38%\n",
      "Step 136| Cost: 0.11585420209343335 | Validation accuracy: 86.38%\n",
      "Step 137| Cost: 0.11941352547200704 | Validation accuracy: 87.12%\n",
      "Step 138| Cost: 0.12016636440426082 | Validation accuracy: 86.25%\n",
      "Step 139| Cost: 0.13231669882174227 | Validation accuracy: 84.88%\n",
      "Step 140| Cost: 0.13792716404077573 | Validation accuracy: 86.00%\n",
      "Step 141| Cost: 0.12599468891950882 | Validation accuracy: 86.38%\n",
      "Step 142| Cost: 0.1307668088510584 | Validation accuracy: 84.88%\n",
      "Step 143| Cost: 0.12805901835518188 | Validation accuracy: 84.38%\n",
      "Step 144| Cost: 0.11035220401182494 | Validation accuracy: 85.62%\n",
      "Step 145| Cost: 0.1172266339721018 | Validation accuracy: 84.12%\n",
      "Step 146| Cost: 0.10875039371350115 | Validation accuracy: 84.25%\n",
      "Step 147| Cost: 0.1337873252177226 | Validation accuracy: 82.88%\n",
      "Step 148| Cost: 0.11119543106498687 | Validation accuracy: 80.50%\n",
      "Step 149| Cost: 0.1579442715831953 | Validation accuracy: 82.25%\n",
      "Step 150| Cost: 0.1504559271598147 | Validation accuracy: 82.50%\n"
     ]
    }
   ],
   "source": [
    "from Modules.metrices import accuracy\n",
    "from Modules.training import costfunc_focal, costfunc_cross_entropy\n",
    "\n",
    "for k in range(200):\n",
    "    batch_index = np.random.randint(0, len(encoded_X_train2), (batch_size,))\n",
    "    X_batch = encoded_X_train2[batch_index]\n",
    "    Y_batch = Y_train[batch_index]\n",
    "    params, cost = optimizer.step_and_cost(costfunc_exponential, params, X=X_batch, Y=Y_batch, circuit=circuit_MERA, num_classes=2)\n",
    "    accuracy_value = accuracy(params,encoded_X_val2,Y_val,circuit_MERA)\n",
    "    print(f\"Step {k}| Cost: {cost} | Validation accuracy: {accuracy_value:.2f}%\")\n",
    "\n",
    "    all_accuracy.append(accuracy_value)\n",
    "    all_cost.append(cost)\n",
    "    all_params.append(params)\n",
    "print(params)"
   ]
  },
  {
   "cell_type": "code",
   "execution_count": null,
   "metadata": {
    "collapsed": false,
    "jupyter": {
     "outputs_hidden": false
    },
    "pycharm": {
     "name": "#%%\n"
    }
   },
   "outputs": [],
   "source": []
  }
 ],
 "metadata": {
  "kernelspec": {
   "display_name": "Python 3 (ipykernel)",
   "language": "python",
   "name": "python3"
  },
  "language_info": {
   "codemirror_mode": {
    "name": "ipython",
    "version": 3
   },
   "file_extension": ".py",
   "mimetype": "text/x-python",
   "name": "python",
   "nbconvert_exporter": "python",
   "pygments_lexer": "ipython3",
   "version": "3.11.0"
  }
 },
 "nbformat": 4,
 "nbformat_minor": 4
}
