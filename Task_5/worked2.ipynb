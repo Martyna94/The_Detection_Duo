{
 "cells": [
  {
   "cell_type": "code",
   "execution_count": 4,
   "metadata": {
    "id": "t3s9XzrST1Xx"
   },
   "outputs": [],
   "source": [
    "#!pip install tensorflow"
   ]
  },
  {
   "cell_type": "code",
   "execution_count": 5,
   "metadata": {
    "id": "-k7x_fz4UBSv"
   },
   "outputs": [],
   "source": [
    "#!pip install keras"
   ]
  },
  {
   "cell_type": "code",
   "execution_count": 6,
   "metadata": {
    "id": "mYTCGYXQUBVr"
   },
   "outputs": [],
   "source": [
    "#!pip install pennylane --upgrade"
   ]
  },
  {
   "cell_type": "code",
   "execution_count": null,
   "metadata": {},
   "outputs": [],
   "source": [
    "#!pip install scikit-image"
   ]
  },
  {
   "cell_type": "code",
   "execution_count": 117,
   "metadata": {
    "id": "-ULu6LEqVc9S"
   },
   "outputs": [],
   "source": [
    "import pennylane as qml\n",
    "from pennylane import numpy as np"
   ]
  },
  {
   "cell_type": "code",
   "execution_count": 71,
   "metadata": {
    "id": "3uJEX4UeVlqg"
   },
   "outputs": [],
   "source": [
    "from keras.models import Sequential\n",
    "from keras.layers import Dense"
   ]
  },
  {
   "cell_type": "code",
   "execution_count": 72,
   "metadata": {
    "id": "2gNk0oMUVltX"
   },
   "outputs": [],
   "source": [
    "from skimage import data, color\n",
    "from skimage.transform import rescale, resize, downscale_local_mean"
   ]
  },
  {
   "cell_type": "code",
   "execution_count": 217,
   "metadata": {
    "colab": {
     "base_uri": "https://localhost:8080/"
    },
    "id": "kzebvRDSVlv6",
    "outputId": "6147b593-617a-43d4-f1b1-e80235c13d80"
   },
   "outputs": [
    {
     "name": "stdout",
     "output_type": "stream",
     "text": [
      "6000\n"
     ]
    }
   ],
   "source": [
    "import json\n",
    "from Filters import *\n",
    "from Data_load import data_load\n",
    "import matplotlib.pyplot as plt\n",
    "\n",
    "import keras\n",
    "\n",
    "from utils import *\n",
    "\n",
    "import time\n",
    "\n",
    "## Import the images\n",
    "data = data_load()\n",
    "train_images, train_labels, test_images, test_labels = data.data_mnist()"
   ]
  },
  {
   "cell_type": "code",
   "execution_count": 218,
   "metadata": {
    "colab": {
     "base_uri": "https://localhost:8080/"
    },
    "id": "Srso_dW8Vlyz",
    "outputId": "4380e0e4-d626-46b8-9803-e08c0b817f86"
   },
   "outputs": [
    {
     "name": "stdout",
     "output_type": "stream",
     "text": [
      "shape of train images (28, 28, 1)\n",
      "shape of test images (28, 28, 1)\n"
     ]
    }
   ],
   "source": [
    "print(\"shape of train images\", train_images[0].shape)\n",
    "print(\"shape of test images\", test_images[0].shape)"
   ]
  },
  {
   "cell_type": "code",
   "execution_count": 219,
   "metadata": {
    "colab": {
     "base_uri": "https://localhost:8080/"
    },
    "id": "p062N3v9Vl08",
    "outputId": "537addda-9a47-4e5e-d114-5ec2c2b52255"
   },
   "outputs": [
    {
     "name": "stdout",
     "output_type": "stream",
     "text": [
      "length of train images 6000\n",
      "length of test images 1000\n"
     ]
    }
   ],
   "source": [
    "print(\"length of train images\", len(train_images))\n",
    "print(\"length of test images\", len(test_images))"
   ]
  },
  {
   "cell_type": "code",
   "execution_count": 220,
   "metadata": {
    "id": "6qY67DkoVl6n"
   },
   "outputs": [],
   "source": [
    "# This function returns the modified dataset\n",
    "# It is a script to get a dataset of 2 labels only\n",
    "def trainTestData(train_images, train_labels, test_images, test_labels, label1, label2, n_train, n_test):\n",
    "    n_train_images, n_train_labels, n_test_images, n_test_labels = [], [], [], []\n",
    "    i = 0\n",
    "    while (n_train > 0 and i < len(train_images)):\n",
    "        if train_labels[i] == label1:\n",
    "            n_train_images.append(train_images[i])\n",
    "            n_train_labels.append(label1)\n",
    "            n_train -= 1\n",
    "        if train_labels[i] == label2:\n",
    "            n_train_images.append(train_images[i])\n",
    "            n_train_labels.append(label2)\n",
    "            n_train -= 1\n",
    "        i = i+1\n",
    "    i = 0\n",
    "    while(n_test>0 and i < len(test_images)):\n",
    "        if test_labels[i] == label1:\n",
    "            n_test_images.append(test_images[i])\n",
    "            n_test_labels.append(label1)\n",
    "            n_test -= 1\n",
    "        if test_labels[i] == label2:\n",
    "            n_test_images.append(test_images[i])\n",
    "            n_test_labels.append(label2)\n",
    "            n_test -= 1\n",
    "        i = i+1\n",
    "    return n_train_images, n_train_labels, n_test_images, n_test_labels"
   ]
  },
  {
   "cell_type": "code",
   "execution_count": 239,
   "metadata": {
    "id": "Y2MxGX3gVl9a"
   },
   "outputs": [],
   "source": [
    "train_images1, train_labels1, test_images1, test_labels1 = trainTestData(train_images,\n",
    "                                                                     train_labels,\n",
    "                                                                     test_images,\n",
    "                                                                     test_labels, 0, 1, 1300, 20)\n",
    "train_images2, train_labels2, test_images2, test_labels2 = trainTestData(train_images,\n",
    "                                                                     train_labels,\n",
    "                                                                     test_images,\n",
    "                                                                     test_labels, 2, 3, 1300, 20)"
   ]
  },
  {
   "cell_type": "code",
   "execution_count": 240,
   "metadata": {
    "id": "3Gh5qUIhVmA1"
   },
   "outputs": [],
   "source": [
    "# this functions makes the train dataset balanced\n",
    "# number of images for number 3 same as that for number 5\n",
    "def balanceDataSet(BAS, train_labels, x, y):\n",
    "    new_train_images_x = []\n",
    "    new_train_images_y = []\n",
    "\n",
    "    new_train_labels_x = []\n",
    "    new_train_labels_y = []\n",
    "\n",
    "    for i in range(len(BAS)):\n",
    "      if train_labels[i] == x:\n",
    "        new_train_images_x.append(BAS[i])\n",
    "        new_train_labels_x.append(x)\n",
    "      else:\n",
    "        new_train_images_y.append(BAS[i])\n",
    "        new_train_labels_y.append(y)\n",
    "    return new_train_images_x[0:100] + new_train_images_y[0:100], new_train_labels_x[0:100] + new_train_labels_y[0:100]"
   ]
  },
  {
   "cell_type": "code",
   "execution_count": 241,
   "metadata": {
    "id": "fax4hWkaVmEY"
   },
   "outputs": [],
   "source": [
    "train_images1, train_labels1 = balanceDataSet(train_images1, train_labels1, 0, 1)\n",
    "train_images2, train_labels2 = balanceDataSet(train_images2, train_labels2, 2, 3)\n",
    "\n",
    "train_images = train_images1 + train_images2\n",
    "train_labels = train_labels1 + train_labels2\n",
    "\n",
    "test_images = test_images1 + test_images2\n",
    "test_labels = test_labels1 + test_labels2"
   ]
  },
  {
   "cell_type": "code",
   "execution_count": 242,
   "metadata": {
    "id": "1SdVKPqsVmHA"
   },
   "outputs": [],
   "source": [
    "org_train_images, org_train_labels, org_test_images, org_test_labels = train_images, train_labels, test_images, test_labels"
   ]
  },
  {
   "cell_type": "code",
   "execution_count": 243,
   "metadata": {
    "colab": {
     "base_uri": "https://localhost:8080/"
    },
    "id": "FRca8y6iW_5Y",
    "outputId": "0b4877d2-53eb-4c13-b609-6fd63e87051d"
   },
   "outputs": [
    {
     "name": "stdout",
     "output_type": "stream",
     "text": [
      "length of train images 400\n",
      "length of test images 40\n"
     ]
    }
   ],
   "source": [
    "print(\"length of train images\", len(train_images))\n",
    "print(\"length of test images\", len(test_images))"
   ]
  },
  {
   "cell_type": "code",
   "execution_count": 226,
   "metadata": {
    "colab": {
     "base_uri": "https://localhost:8080/"
    },
    "id": "7xTCJg5xW_8u",
    "outputId": "6ae5a233-b9a1-49c7-e016-8f6170d31676"
   },
   "outputs": [
    {
     "data": {
      "text/plain": [
       "5.0"
      ]
     },
     "execution_count": 226,
     "metadata": {},
     "output_type": "execute_result"
    }
   ],
   "source": [
    "400/80"
   ]
  },
  {
   "cell_type": "code",
   "execution_count": 227,
   "metadata": {
    "colab": {
     "base_uri": "https://localhost:8080/"
    },
    "id": "I81truQ4f8bg",
    "outputId": "95157524-6d55-4683-e724-6e305fc68507"
   },
   "outputs": [
    {
     "name": "stdout",
     "output_type": "stream",
     "text": [
      "[0 1 2 3]\n",
      "[100 100 100 100]\n"
     ]
    }
   ],
   "source": [
    "values, counts = np.unique(train_labels, return_counts=True)\n",
    "print(values)\n",
    "print(counts)"
   ]
  },
  {
   "cell_type": "code",
   "execution_count": 254,
   "metadata": {
    "colab": {
     "base_uri": "https://localhost:8080/"
    },
    "id": "GESAM5K0gqw3",
    "outputId": "032b3552-f100-4f82-c2d1-f026526e722c"
   },
   "outputs": [
    {
     "name": "stdout",
     "output_type": "stream",
     "text": [
      "[0 1 2 3]\n",
      "[ 8 12  9 11]\n"
     ]
    }
   ],
   "source": [
    "values, counts = np.unique(test_labels, return_counts=True)\n",
    "print(values)\n",
    "print(counts)"
   ]
  },
  {
   "cell_type": "code",
   "execution_count": 95,
   "metadata": {
    "colab": {
     "base_uri": "https://localhost:8080/",
     "height": 447
    },
    "id": "bpcfSv8OW__x",
    "outputId": "f742a428-a9c9-4621-8c36-04e935605c68"
   },
   "outputs": [
    {
     "data": {
      "text/plain": [
       "<matplotlib.image.AxesImage at 0x746893bc9c90>"
      ]
     },
     "execution_count": 95,
     "metadata": {},
     "output_type": "execute_result"
    },
    {
     "data": {
      "image/png": "[encoded data removed]",
      "text/plain": [
       "<Figure size 640x480 with 1 Axes>"
      ]
     },
     "metadata": {},
     "output_type": "display_data"
    }
   ],
   "source": [
    "import matplotlib.pyplot as plt\n",
    "plt.imshow(train_images[0])"
   ]
  },
  {
   "cell_type": "code",
   "execution_count": 96,
   "metadata": {
    "colab": {
     "base_uri": "https://localhost:8080/",
     "height": 447
    },
    "id": "IS-RenGgXACq",
    "outputId": "fd8dd264-02b0-45be-b988-328c6d5f17dc"
   },
   "outputs": [
    {
     "data": {
      "text/plain": [
       "<matplotlib.image.AxesImage at 0x7468c0e14790>"
      ]
     },
     "execution_count": 96,
     "metadata": {},
     "output_type": "execute_result"
    },
    {
     "data": {
      "image/png": "[encoded data removed]",
      "text/plain": [
       "<Figure size 640x480 with 1 Axes>"
      ]
     },
     "metadata": {},
     "output_type": "display_data"
    }
   ],
   "source": [
    "img_test = rescale(train_images[0], 16/28)\n",
    "plt.imshow(img_test)"
   ]
  },
  {
   "cell_type": "code",
   "execution_count": 244,
   "metadata": {
    "id": "8R1LmjQ1XAGr"
   },
   "outputs": [],
   "source": [
    "#resizing the train and test datasets from (28, 28) to (16, 16)\n",
    "BAS = []\n",
    "for img in train_images:\n",
    "  img = rescale(img, 16/28, anti_aliasing=False)\n",
    "  img = img.flatten()\n",
    "  BAS.append(img)\n",
    "\n",
    "BAS_test = []\n",
    "for img in test_images:\n",
    "  img = rescale(img, 16/28, anti_aliasing=False)\n",
    "  img = img.flatten()\n",
    "  BAS_test.append(img)"
   ]
  },
  {
   "cell_type": "code",
   "execution_count": 98,
   "metadata": {
    "colab": {
     "base_uri": "https://localhost:8080/"
    },
    "id": "yPyullvnXbI9",
    "outputId": "34e05fc2-31c1-4cbd-a3f5-3f9fe1dd6804"
   },
   "outputs": [
    {
     "data": {
      "text/plain": [
       "(256,)"
      ]
     },
     "execution_count": 98,
     "metadata": {},
     "output_type": "execute_result"
    }
   ],
   "source": [
    "BAS[0].shape"
   ]
  },
  {
   "cell_type": "code",
   "execution_count": 99,
   "metadata": {
    "colab": {
     "base_uri": "https://localhost:8080/"
    },
    "id": "X19K5H5NXbMD",
    "outputId": "1c44e822-bce2-452f-a335-cf82bfa03492"
   },
   "outputs": [
    {
     "data": {
      "text/plain": [
       "256"
      ]
     },
     "execution_count": 99,
     "metadata": {},
     "output_type": "execute_result"
    }
   ],
   "source": [
    "16*16"
   ]
  },
  {
   "cell_type": "code",
   "execution_count": 100,
   "metadata": {
    "colab": {
     "base_uri": "https://localhost:8080/"
    },
    "id": "rObXqKa7XbO7",
    "outputId": "32e661c1-7bbc-4ed3-e562-be49c407be28"
   },
   "outputs": [
    {
     "data": {
      "text/plain": [
       "256"
      ]
     },
     "execution_count": 100,
     "metadata": {},
     "output_type": "execute_result"
    }
   ],
   "source": [
    "2**8 #so 8 qubits circuit needed"
   ]
  },
  {
   "cell_type": "code",
   "execution_count": 51,
   "metadata": {
    "colab": {
     "base_uri": "https://localhost:8080/",
     "height": 387
    },
    "id": "6fNeeqJqXbRj",
    "outputId": "0c5b66e5-08dd-4f68-ae97-b91a77cd6a3e"
   },
   "outputs": [
    {
     "data": {
      "image/png": "[encoded data removed]",
      "text/plain": [
       "<Figure size 600x350 with 1 Axes>"
      ]
     },
     "metadata": {},
     "output_type": "display_data"
    }
   ],
   "source": [
    "dev = qml.device(\"default.qubit\", wires=8)\n",
    "\n",
    "\n",
    "@qml.qnode(dev)\n",
    "def circuit(image, template_weights):\n",
    "    qml.AmplitudeEmbedding(features=image, wires=range(8), normalize=True)\n",
    "\n",
    "    i = 0\n",
    "    while(i < 8):\n",
    "      qml.RY(template_weights[i], wires=i)\n",
    "      i = i+1\n",
    "\n",
    "    for j in range(0, 7, 2):\n",
    "      qml.CNOT(wires=[j, j+1])\n",
    "\n",
    "    for j in range(1, 6, 2):\n",
    "      qml.RY(template_weights[i], wires=j)\n",
    "      i = i+1\n",
    "      qml.RY(template_weights[i], wires=j+1)\n",
    "      i = i+1\n",
    "      qml.CNOT(wires=[j, j+1])\n",
    "\n",
    "    for j in range(0, 7, 2):\n",
    "      qml.RY(template_weights[i], wires=j)\n",
    "      i = i+1\n",
    "      qml.RY(template_weights[i], wires=j+1)\n",
    "      i = i+1\n",
    "      qml.CNOT(wires=[j, j+1])\n",
    "\n",
    "    for j in range(1, 6, 2):\n",
    "      qml.RY(template_weights[i], wires=j)\n",
    "      i = i+1\n",
    "      qml.RY(template_weights[i], wires=j+1)\n",
    "      i = i+1\n",
    "      qml.CNOT(wires=[j, j+1])\n",
    "\n",
    "    #qml.CNOT(wires=[3, 5])\n",
    "\n",
    "    return qml.probs([3, 5])\n",
    "\n",
    "weights = np.random.random(size=[18, 1])\n",
    "fig, ax = qml.draw_mpl(circuit, expansion_strategy=\"device\")(BAS[0], weights)\n",
    "fig.set_size_inches((6, 3.5))"
   ]
  },
  {
   "cell_type": "code",
   "execution_count": 23,
   "metadata": {
    "id": "KEjvVP0TGE8f"
   },
   "outputs": [],
   "source": [
    "def block(weights, wires):\n",
    "    qml.RY(weights[0], wires=wires[0])\n",
    "    qml.RY(weights[1], wires=wires[1])\n",
    "    qml.CNOT(wires=wires)"
   ]
  },
  {
   "cell_type": "code",
   "execution_count": 24,
   "metadata": {
    "id": "KDorZ0ZDFmi_"
   },
   "outputs": [
    {
     "data": {
      "image/png": "[encoded data removed]",
      "text/plain": [
       "<Figure size 600x350 with 1 Axes>"
      ]
     },
     "metadata": {},
     "output_type": "display_data"
    }
   ],
   "source": [
    "dev = qml.device(\"default.qubit.autograd\", wires=8)\n",
    "\n",
    "\n",
    "@qml.qnode(dev)\n",
    "def circuit(image, template_weights):\n",
    "    qml.AmplitudeEmbedding(features=image, wires=range(8), normalize=True)\n",
    "    qml.TTN(\n",
    "        wires=range(8),\n",
    "        n_block_wires=2,\n",
    "        block=block,\n",
    "        n_params_block=2,\n",
    "        template_weights=template_weights,\n",
    "    )\n",
    "    #return qml.density_matrix([3, 7])\n",
    "    return qml.probs(wires = [3, 7])\n",
    "\n",
    "\n",
    "weights = np.random.random(size=[7, 2])\n",
    "fig, ax = qml.draw_mpl(circuit, expansion_strategy=\"device\")(BAS[0], weights)\n",
    "fig.set_size_inches((6, 3.5))"
   ]
  },
  {
   "cell_type": "code",
   "execution_count": 233,
   "metadata": {},
   "outputs": [
    {
     "data": {
      "image/png": "[encoded data removed]",
      "text/plain": [
       "<Figure size 600x350 with 1 Axes>"
      ]
     },
     "metadata": {},
     "output_type": "display_data"
    }
   ],
   "source": [
    "dev = qml.device(\"default.qubit\", wires=8)\n",
    "\n",
    "\n",
    "@qml.qnode(dev)\n",
    "def circuit(image, template_weights):\n",
    "    qml.AmplitudeEmbedding(features=image, wires=range(8), normalize=True)\n",
    "\n",
    "    i = 0\n",
    "\n",
    "    qml.RY(template_weights[i], wires=3)\n",
    "    i = i+1\n",
    "    qml.RY(template_weights[i], wires=4)\n",
    "    i = i+1\n",
    "    qml.CNOT(wires=[3, 4])\n",
    "\n",
    "    qml.RY(template_weights[i], wires=2)\n",
    "    i = i+1\n",
    "    qml.RY(template_weights[i], wires=3)\n",
    "    i = i+1\n",
    "    qml.CNOT(wires=[2, 3])\n",
    "\n",
    "    qml.RY(template_weights[i], wires=4)\n",
    "    i = i+1\n",
    "    qml.RY(template_weights[i], wires=5)\n",
    "    i = i+1\n",
    "    qml.CNOT(wires=[4, 5])\n",
    "\n",
    "    for j in range(1, 6, 2):\n",
    "      qml.RY(template_weights[i], wires=j)\n",
    "      i = i+1\n",
    "      qml.RY(template_weights[i], wires=j+1)\n",
    "      i = i+1\n",
    "      qml.CNOT(wires=[j, j+1])\n",
    "\n",
    "    for j in range(0, 7, 2):\n",
    "      qml.RY(template_weights[i], wires=j)\n",
    "      i = i+1\n",
    "      qml.RY(template_weights[i], wires=j+1)\n",
    "      i = i+1\n",
    "      qml.CNOT(wires=[j, j+1])\n",
    "\n",
    "    for j in range(1, 6, 2):\n",
    "      qml.RY(template_weights[i], wires=j)\n",
    "      i = i+1\n",
    "      qml.RY(template_weights[i], wires=j+1)\n",
    "      i = i+1\n",
    "      qml.CNOT(wires=[j, j+1])\n",
    "\n",
    "    qml.RY(template_weights[i], wires=2)\n",
    "    i = i+1\n",
    "    qml.RY(template_weights[i], wires=3)\n",
    "    i = i+1\n",
    "    qml.CNOT(wires=[2, 3])\n",
    "\n",
    "    qml.RY(template_weights[i], wires=4)\n",
    "    i = i+1\n",
    "    qml.RY(template_weights[i], wires=5)\n",
    "    i = i+1\n",
    "    qml.CNOT(wires=[4, 5])\n",
    "\n",
    "    qml.RY(template_weights[i], wires=3)\n",
    "    i = i+1\n",
    "    qml.RY(template_weights[i], wires=4)\n",
    "    i = i+1\n",
    "    qml.CNOT(wires=[3, 4])\n",
    "\n",
    "\n",
    "    return qml.probs([3, 4])\n",
    "\n",
    "weights = np.random.random(size=[32, 1])\n",
    "fig, ax = qml.draw_mpl(circuit, expansion_strategy=\"device\")(BAS[0], weights)\n",
    "fig.set_size_inches((6, 3.5))"
   ]
  },
  {
   "cell_type": "code",
   "execution_count": 102,
   "metadata": {
    "id": "qPzXNPOSRWzA"
   },
   "outputs": [],
   "source": [
    "def costfunc(params):\n",
    "    cost = 0\n",
    "    y_true = [np.array([1, 0, 0, 0]), np.array([0, 1, 0, 0]), np.array([0, 0, 1, 0]), np.array([0, 0, 0, 1])]\n",
    "    for i in range(len(BAS)):\n",
    "      prob = circuit(BAS[i], params)\n",
    "      if train_labels[i] == 0:\n",
    "        cost -= 1/len(BAS) * np.sum(np.sum(y_true[0].astype(float)*np.log(prob.astype(float))))\n",
    "      elif train_labels[i] == 1:\n",
    "        cost -= 1/len(BAS) * np.sum(np.sum(y_true[1].astype(float)*np.log(prob.astype(float))))\n",
    "      elif train_labels[i] == 2:\n",
    "        cost -= 1/len(BAS) * np.sum(np.sum(y_true[2].astype(float)*np.log(prob.astype(float))))\n",
    "      elif train_labels[i] == 3:\n",
    "        cost -= 1/len(BAS) * np.sum(np.sum(y_true[3].astype(float)*np.log(prob.astype(float))))\n",
    "    return cost"
   ]
  },
  {
   "cell_type": "code",
   "execution_count": 198,
   "metadata": {},
   "outputs": [],
   "source": [
    "#import numpy as np\n",
    "from focal_loss import sparse_categorical_focal_loss\n",
    "def costfunc(params):\n",
    "    cost = 0\n",
    "    y_pred = []\n",
    "    for i in range(len(BAS)):\n",
    "        y_pred.append(list(circuit(BAS[i], params)[0]))\n",
    "    for i in range(len(y_pred)):\n",
    "        for j in range(4):\n",
    "            try:  \n",
    "                y_pred[i][j] = y_pred[i][j].numpy()\n",
    "            except:\n",
    "                y_pred[i][j] = float(y_pred[i][j]._value)\n",
    "    loss = sparse_categorical_focal_loss(train_labels, y_pred, gamma=0.5)\n",
    "    np.set_printoptions(precision=3)\n",
    "\n",
    "    cost += np.sum(loss.numpy())\n",
    "    return cost"
   ]
  },
  {
   "cell_type": "code",
   "execution_count": 246,
   "metadata": {},
   "outputs": [],
   "source": [
    "def costfunc(params):\n",
    "    alpha = 1\n",
    "    gamma = 1.5\n",
    "    cost = 0\n",
    "    y_true = [np.array([1, 0, 0, 0]), np.array([0, 1, 0, 0]), np.array([0, 0, 1, 0]), np.array([0, 0, 0, 1])]\n",
    "    for i in range(len(BAS)):\n",
    "      prob = circuit(BAS[i], params)\n",
    "      #print(prob)\n",
    "      if train_labels[i] == 0:\n",
    "        x = 1/len(BAS) * np.sum(np.sum(y_true[0].astype(float)*np.log(prob.astype(float))))\n",
    "        cost -= x * alpha*(1-prob[0][0])**gamma\n",
    "      elif train_labels[i] == 1:\n",
    "        x = 1/len(BAS) * np.sum(np.sum(y_true[1].astype(float)*np.log(prob.astype(float))))\n",
    "        cost -= x * alpha*(1-prob[0][1])**gamma\n",
    "      elif train_labels[i] == 2:\n",
    "        x = 1/len(BAS) * np.sum(np.sum(y_true[2].astype(float)*np.log(prob.astype(float))))\n",
    "        cost -= x * alpha*(1-prob[0][2])**gamma\n",
    "      elif train_labels[i] == 3:\n",
    "        x = 1/len(BAS) * np.sum(np.sum(y_true[3].astype(float)*np.log(prob.astype(float))))\n",
    "        cost -= x * alpha*(1-prob[0][3])**gamma\n",
    "    return cost"
   ]
  },
  {
   "cell_type": "code",
   "execution_count": 247,
   "metadata": {},
   "outputs": [
    {
     "data": {
      "text/plain": [
       "400"
      ]
     },
     "execution_count": 247,
     "metadata": {},
     "output_type": "execute_result"
    }
   ],
   "source": [
    "len(BAS)"
   ]
  },
  {
   "cell_type": "code",
   "execution_count": 248,
   "metadata": {
    "colab": {
     "base_uri": "https://localhost:8080/"
    },
    "id": "zJ5kbffnaKik",
    "outputId": "735c2e50-8511-4a8f-e5d9-a8bea7517041"
   },
   "outputs": [
    {
     "name": "stdout",
     "output_type": "stream",
     "text": [
      "Step 0, cost: 0.9070963788358513\n",
      "Step 5, cost: 0.7054282907118584\n",
      "Step 10, cost: 0.6475992872510249\n",
      "Step 15, cost: 0.610418334357068\n",
      "Step 20, cost: 0.5784649065955477\n",
      "Step 25, cost: 0.566115402120835\n",
      "Step 30, cost: 0.5594310738194667\n",
      "Step 35, cost: 0.550424127999915\n",
      "Step 40, cost: 0.545981298205799\n",
      "Step 45, cost: 0.5416842972696985\n",
      "Step 50, cost: 0.5396607346369341\n",
      "Step 55, cost: 0.5349550230619103\n",
      "Step 60, cost: 0.5308204276781952\n",
      "Step 65, cost: 0.5268790885116867\n",
      "Step 70, cost: 0.5245834091538054\n",
      "Step 75, cost: 0.5241694279586433\n",
      "Step 80, cost: 0.5232626686353418\n",
      "Step 85, cost: 0.5227272679135133\n",
      "Step 90, cost: 0.5225117134113217\n",
      "[[-0.579]\n",
      " [ 1.245]\n",
      " [-0.623]\n",
      " [ 1.708]\n",
      " [ 1.545]\n",
      " [-1.666]\n",
      " [ 0.552]\n",
      " [-0.693]\n",
      " [ 1.192]\n",
      " [ 1.44 ]\n",
      " [-0.003]\n",
      " [ 1.34 ]\n",
      " [ 0.682]\n",
      " [ 0.846]\n",
      " [-0.275]\n",
      " [ 1.125]\n",
      " [ 1.764]\n",
      " [ 1.506]\n",
      " [ 0.85 ]\n",
      " [ 0.599]\n",
      " [-0.569]\n",
      " [ 1.715]\n",
      " [ 0.227]\n",
      " [ 0.93 ]\n",
      " [ 0.014]\n",
      " [ 0.184]\n",
      " [ 0.113]\n",
      " [ 2.001]\n",
      " [ 0.242]\n",
      " [ 1.227]\n",
      " [-0.831]\n",
      " [ 0.71 ]]\n"
     ]
    }
   ],
   "source": [
    "# training the circuit parameters\n",
    "x2 = np.random.random(size=[32, 1], requires_grad=True)\n",
    "params = x2[:]\n",
    "optimizer = qml.AdamOptimizer(stepsize=0.1)\n",
    "\n",
    "for k in range(91):\n",
    "    if k % 5 == 0:\n",
    "      print(f\"Step {k}, cost: {costfunc(params)}\")\n",
    "    params = optimizer.step(costfunc, params)\n",
    "print(params)"
   ]
  },
  {
   "cell_type": "code",
   "execution_count": null,
   "metadata": {
    "id": "TmQK0g57sxym"
   },
   "outputs": [],
   "source": []
  },
  {
   "cell_type": "code",
   "execution_count": null,
   "metadata": {
    "id": "0RMr8sb9Wkk7"
   },
   "outputs": [],
   "source": []
  },
  {
   "cell_type": "code",
   "execution_count": null,
   "metadata": {
    "id": "kV8F4UleFxNf"
   },
   "outputs": [],
   "source": []
  },
  {
   "cell_type": "code",
   "execution_count": 249,
   "metadata": {
    "id": "w3n9TM0DaKk3"
   },
   "outputs": [
    {
     "name": "stdout",
     "output_type": "stream",
     "text": [
      "training accuracy:\n",
      "81.5 %\n"
     ]
    }
   ],
   "source": [
    "i = -1\n",
    "train_correct = 0\n",
    "labels = [np.array([1, 0, 0, 0]).reshape(1, 4), np.array([0, 1, 0, 0]).reshape(1, 4), np.array([0, 0, 1, 0]).reshape(1, 4), np.array([0, 0, 0, 1]).reshape(1, 4)]\n",
    "for img in BAS:\n",
    "      i = i + 1\n",
    "      x = circuit(img, params)\n",
    "      #print(x)\n",
    "      x2 = []\n",
    "      x2.append(float(x[0][0]))\n",
    "      x2.append(float(x[0][1]))\n",
    "      x2.append(float(x[0][2]))\n",
    "      x2.append(float(x[0][3]))\n",
    "      #print(x2)\n",
    "      x3 = max(x2)\n",
    "      key=x2.index(x3)\n",
    "      x = key\n",
    "      #print(x)\n",
    "      if x == 0 and train_labels[i] == 0:\n",
    "        train_correct += 1\n",
    "      elif x == 1 and train_labels[i] == 1:\n",
    "        train_correct += 1\n",
    "      elif x == 2 and train_labels[i] == 2:\n",
    "        train_correct += 1\n",
    "      elif x == 3 and train_labels[i] == 3:\n",
    "        train_correct += 1\n",
    "print(\"training accuracy:\")\n",
    "print(100*train_correct/len(BAS),\"%\")"
   ]
  },
  {
   "cell_type": "code",
   "execution_count": 252,
   "metadata": {
    "id": "WwWjJb_KaKnq"
   },
   "outputs": [
    {
     "name": "stdout",
     "output_type": "stream",
     "text": [
      "1\n",
      "2\n",
      "1\n",
      "0\n",
      "0\n",
      "1\n",
      "0\n",
      "0\n",
      "1\n",
      "1\n",
      "1\n",
      "1\n",
      "1\n",
      "1\n",
      "0\n",
      "1\n",
      "2\n",
      "0\n",
      "1\n",
      "1\n",
      "2\n",
      "0\n",
      "3\n",
      "1\n",
      "2\n",
      "2\n",
      "2\n",
      "1\n",
      "2\n",
      "0\n",
      "2\n",
      "1\n",
      "2\n",
      "1\n",
      "2\n",
      "2\n",
      "3\n",
      "3\n",
      "1\n",
      "2\n",
      "testing accuracy:\n",
      "75.0 %\n"
     ]
    }
   ],
   "source": [
    "i = -1\n",
    "test_correct = 0\n",
    "labels = [np.array([1, 0, 0, 0]).reshape(1, 4), np.array([0, 1, 0, 0]).reshape(1, 4), np.array([0, 0, 1, 0]).reshape(1, 4), np.array([0, 0, 0, 1]).reshape(1, 4)]\n",
    "for img in BAS_test:\n",
    "      i = i + 1\n",
    "      x = circuit(img, params)\n",
    "      #print(x)\n",
    "      x2 = []\n",
    "      x2.append(float(x[0][0]))\n",
    "      x2.append(float(x[0][1]))\n",
    "      x2.append(float(x[0][2]))\n",
    "      x2.append(float(x[0][3]))\n",
    "      #print(x2)\n",
    "      x3 = max(x2)\n",
    "      key=x2.index(x3)\n",
    "      x = key\n",
    "      print(x)\n",
    "      if x == 0 and test_labels[i] == 0:\n",
    "        test_correct += 1\n",
    "      elif x == 1 and test_labels[i] == 1:\n",
    "        test_correct += 1\n",
    "      elif x == 2 and test_labels[i] == 2:\n",
    "        test_correct += 1\n",
    "      elif x == 3 and test_labels[i] == 3:\n",
    "        test_correct += 1\n",
    "print(\"testing accuracy:\")\n",
    "print(100*test_correct/len(BAS_test),\"%\")"
   ]
  },
  {
   "cell_type": "code",
   "execution_count": 253,
   "metadata": {},
   "outputs": [
    {
     "data": {
      "text/plain": [
       "40"
      ]
     },
     "execution_count": 253,
     "metadata": {},
     "output_type": "execute_result"
    }
   ],
   "source": [
    "len(BAS_test)"
   ]
  },
  {
   "cell_type": "code",
   "execution_count": 256,
   "metadata": {},
   "outputs": [
    {
     "data": {
      "text/plain": [
       "[0,\n",
       " 0,\n",
       " 0,\n",
       " 0,\n",
       " 0,\n",
       " 0,\n",
       " 0,\n",
       " 0,\n",
       " 0,\n",
       " 0,\n",
       " 0,\n",
       " 0,\n",
       " 0,\n",
       " 0,\n",
       " 0,\n",
       " 0,\n",
       " 0,\n",
       " 0,\n",
       " 0,\n",
       " 0,\n",
       " 0,\n",
       " 0,\n",
       " 0,\n",
       " 0,\n",
       " 0,\n",
       " 0,\n",
       " 0,\n",
       " 0,\n",
       " 0,\n",
       " 0,\n",
       " 0,\n",
       " 0,\n",
       " 0,\n",
       " 0,\n",
       " 0,\n",
       " 0,\n",
       " 0,\n",
       " 0,\n",
       " 0,\n",
       " 0,\n",
       " 0,\n",
       " 0,\n",
       " 0,\n",
       " 0,\n",
       " 0,\n",
       " 0,\n",
       " 0,\n",
       " 0,\n",
       " 0,\n",
       " 0,\n",
       " 0,\n",
       " 0,\n",
       " 0,\n",
       " 0,\n",
       " 0,\n",
       " 0,\n",
       " 0,\n",
       " 0,\n",
       " 0,\n",
       " 0,\n",
       " 0,\n",
       " 0,\n",
       " 0,\n",
       " 0,\n",
       " 0,\n",
       " 0,\n",
       " 0,\n",
       " 0,\n",
       " 0,\n",
       " 0,\n",
       " 0,\n",
       " 0,\n",
       " 0,\n",
       " 0,\n",
       " 0,\n",
       " 0,\n",
       " 0,\n",
       " 0,\n",
       " 0,\n",
       " 0,\n",
       " 0,\n",
       " 0,\n",
       " 0,\n",
       " 0,\n",
       " 0,\n",
       " 0,\n",
       " 0,\n",
       " 0,\n",
       " 0,\n",
       " 0,\n",
       " 0,\n",
       " 0,\n",
       " 0,\n",
       " 0,\n",
       " 0,\n",
       " 0,\n",
       " 0,\n",
       " 0,\n",
       " 0,\n",
       " 0,\n",
       " 1,\n",
       " 1,\n",
       " 1,\n",
       " 1,\n",
       " 1,\n",
       " 1,\n",
       " 1,\n",
       " 1,\n",
       " 1,\n",
       " 1,\n",
       " 1,\n",
       " 1,\n",
       " 1,\n",
       " 1,\n",
       " 1,\n",
       " 1,\n",
       " 1,\n",
       " 1,\n",
       " 1,\n",
       " 1,\n",
       " 1,\n",
       " 1,\n",
       " 1,\n",
       " 1,\n",
       " 1,\n",
       " 1,\n",
       " 1,\n",
       " 1,\n",
       " 1,\n",
       " 1,\n",
       " 1,\n",
       " 1,\n",
       " 1,\n",
       " 1,\n",
       " 1,\n",
       " 1,\n",
       " 1,\n",
       " 1,\n",
       " 1,\n",
       " 1,\n",
       " 1,\n",
       " 1,\n",
       " 1,\n",
       " 1,\n",
       " 1,\n",
       " 1,\n",
       " 1,\n",
       " 1,\n",
       " 1,\n",
       " 1,\n",
       " 1,\n",
       " 1,\n",
       " 1,\n",
       " 1,\n",
       " 1,\n",
       " 1,\n",
       " 1,\n",
       " 1,\n",
       " 1,\n",
       " 1,\n",
       " 1,\n",
       " 1,\n",
       " 1,\n",
       " 1,\n",
       " 1,\n",
       " 1,\n",
       " 1,\n",
       " 1,\n",
       " 1,\n",
       " 1,\n",
       " 1,\n",
       " 1,\n",
       " 1,\n",
       " 1,\n",
       " 1,\n",
       " 1,\n",
       " 1,\n",
       " 1,\n",
       " 1,\n",
       " 1,\n",
       " 1,\n",
       " 1,\n",
       " 1,\n",
       " 1,\n",
       " 1,\n",
       " 1,\n",
       " 1,\n",
       " 1,\n",
       " 1,\n",
       " 1,\n",
       " 1,\n",
       " 1,\n",
       " 1,\n",
       " 1,\n",
       " 1,\n",
       " 1,\n",
       " 1,\n",
       " 1,\n",
       " 1,\n",
       " 1,\n",
       " 2,\n",
       " 2,\n",
       " 2,\n",
       " 2,\n",
       " 2,\n",
       " 2,\n",
       " 2,\n",
       " 2,\n",
       " 2,\n",
       " 2,\n",
       " 2,\n",
       " 2,\n",
       " 2,\n",
       " 2,\n",
       " 2,\n",
       " 2,\n",
       " 2,\n",
       " 2,\n",
       " 2,\n",
       " 2,\n",
       " 2,\n",
       " 2,\n",
       " 2,\n",
       " 2,\n",
       " 2,\n",
       " 2,\n",
       " 2,\n",
       " 2,\n",
       " 2,\n",
       " 2,\n",
       " 2,\n",
       " 2,\n",
       " 2,\n",
       " 2,\n",
       " 2,\n",
       " 2,\n",
       " 2,\n",
       " 2,\n",
       " 2,\n",
       " 2,\n",
       " 2,\n",
       " 2,\n",
       " 2,\n",
       " 2,\n",
       " 2,\n",
       " 2,\n",
       " 2,\n",
       " 2,\n",
       " 2,\n",
       " 2,\n",
       " 2,\n",
       " 2,\n",
       " 2,\n",
       " 2,\n",
       " 2,\n",
       " 2,\n",
       " 2,\n",
       " 2,\n",
       " 2,\n",
       " 2,\n",
       " 2,\n",
       " 2,\n",
       " 2,\n",
       " 2,\n",
       " 2,\n",
       " 2,\n",
       " 2,\n",
       " 2,\n",
       " 2,\n",
       " 2,\n",
       " 2,\n",
       " 2,\n",
       " 2,\n",
       " 2,\n",
       " 2,\n",
       " 2,\n",
       " 2,\n",
       " 2,\n",
       " 2,\n",
       " 2,\n",
       " 2,\n",
       " 2,\n",
       " 2,\n",
       " 2,\n",
       " 2,\n",
       " 2,\n",
       " 2,\n",
       " 2,\n",
       " 2,\n",
       " 2,\n",
       " 2,\n",
       " 2,\n",
       " 2,\n",
       " 2,\n",
       " 2,\n",
       " 2,\n",
       " 2,\n",
       " 2,\n",
       " 2,\n",
       " 2,\n",
       " 3,\n",
       " 3,\n",
       " 3,\n",
       " 3,\n",
       " 3,\n",
       " 3,\n",
       " 3,\n",
       " 3,\n",
       " 3,\n",
       " 3,\n",
       " 3,\n",
       " 3,\n",
       " 3,\n",
       " 3,\n",
       " 3,\n",
       " 3,\n",
       " 3,\n",
       " 3,\n",
       " 3,\n",
       " 3,\n",
       " 3,\n",
       " 3,\n",
       " 3,\n",
       " 3,\n",
       " 3,\n",
       " 3,\n",
       " 3,\n",
       " 3,\n",
       " 3,\n",
       " 3,\n",
       " 3,\n",
       " 3,\n",
       " 3,\n",
       " 3,\n",
       " 3,\n",
       " 3,\n",
       " 3,\n",
       " 3,\n",
       " 3,\n",
       " 3,\n",
       " 3,\n",
       " 3,\n",
       " 3,\n",
       " 3,\n",
       " 3,\n",
       " 3,\n",
       " 3,\n",
       " 3,\n",
       " 3,\n",
       " 3,\n",
       " 3,\n",
       " 3,\n",
       " 3,\n",
       " 3,\n",
       " 3,\n",
       " 3,\n",
       " 3,\n",
       " 3,\n",
       " 3,\n",
       " 3,\n",
       " 3,\n",
       " 3,\n",
       " 3,\n",
       " 3,\n",
       " 3,\n",
       " 3,\n",
       " 3,\n",
       " 3,\n",
       " 3,\n",
       " 3,\n",
       " 3,\n",
       " 3,\n",
       " 3,\n",
       " 3,\n",
       " 3,\n",
       " 3,\n",
       " 3,\n",
       " 3,\n",
       " 3,\n",
       " 3,\n",
       " 3,\n",
       " 3,\n",
       " 3,\n",
       " 3,\n",
       " 3,\n",
       " 3,\n",
       " 3,\n",
       " 3,\n",
       " 3,\n",
       " 3,\n",
       " 3,\n",
       " 3,\n",
       " 3,\n",
       " 3,\n",
       " 3,\n",
       " 3,\n",
       " 3,\n",
       " 3,\n",
       " 3,\n",
       " 3]"
      ]
     },
     "execution_count": 256,
     "metadata": {},
     "output_type": "execute_result"
    }
   ],
   "source": [
    "train_labels"
   ]
  },
  {
   "cell_type": "code",
   "execution_count": null,
   "metadata": {
    "id": "HElMvtQDaKqC"
   },
   "outputs": [],
   "source": []
  }
 ],
 "metadata": {
  "colab": {
   "provenance": []
  },
  "kernelspec": {
   "display_name": "Python 3 (ipykernel)",
   "language": "python",
   "name": "python3"
  },
  "language_info": {
   "codemirror_mode": {
    "name": "ipython",
    "version": 3
   },
   "file_extension": ".py",
   "mimetype": "text/x-python",
   "name": "python",
   "nbconvert_exporter": "python",
   "pygments_lexer": "ipython3",
   "version": "3.11.0"
  }
 },
 "nbformat": 4,
 "nbformat_minor": 4
}
