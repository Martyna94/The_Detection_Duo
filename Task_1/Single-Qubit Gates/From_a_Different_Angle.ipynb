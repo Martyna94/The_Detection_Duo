{
 "cells": [
  {
   "cell_type": "markdown",
   "metadata": {
    "collapsed": true,
    "pycharm": {
     "name": "#%% md\n"
    }
   },
   "source": [
    "# From a Different Angle\n",
    "<a id=\"0\"></a> <br>\n",
    "1. [Codercise I.6.1 - Applying RX](#1)\n",
    "2. [Codercise I.6.2 - Plotting RX](#2)\n",
    "3. [Codercise I.6.3 - Plotting RY](#3)"
   ]
  },
  {
   "cell_type": "code",
   "execution_count": 1,
   "outputs": [],
   "source": [
    "import numpy as np\n",
    "import pennylane as qml\n",
    "import math"
   ],
   "metadata": {
    "collapsed": false,
    "pycharm": {
     "name": "#%%\n"
    }
   }
  },
  {
   "cell_type": "markdown",
   "source": [
    "<a id=\"1\"></a>\n",
    "# Codercise I.6.1 - Applying RX\n"
   ],
   "metadata": {
    "collapsed": false,
    "pycharm": {
     "name": "#%% md\n"
    }
   }
  },
  {
   "cell_type": "code",
   "execution_count": 2,
   "outputs": [
    {
     "name": "stdout",
     "output_type": "stream",
     "text": [
      "[6.123234e-17+0.j 0.000000e+00-1.j]\n",
      "[0.000000e+00-1.j 6.123234e-17+0.j]\n"
     ]
    }
   ],
   "source": [
    "dev = qml.device(\"default.qubit\", wires=1)\n",
    "\n",
    "\n",
    "@qml.qnode(dev)\n",
    "def apply_rx_pi(state):\n",
    "    \"\"\"Apply an RX gate with an angle of \\pi to a particular basis state.\n",
    "\n",
    "    Args:\n",
    "        state (int): Either 0 or 1. If 1, initialize the qubit to state |1>\n",
    "            before applying other operations.\n",
    "\n",
    "    Returns:\n",
    "        np.array[complex]: The state of the qubit after the operations.\n",
    "    \"\"\"\n",
    "    if state == 1:\n",
    "        qml.PauliX(wires=0)\n",
    "    # APPLY RX(pi) AND RETURN THE STATE\n",
    "    qml.RX(np.pi, wires=0)\n",
    "\n",
    "    return qml.state()\n",
    "\n",
    "\n",
    "print(apply_rx_pi(0))\n",
    "print(apply_rx_pi(1))\n"
   ],
   "metadata": {
    "collapsed": false,
    "pycharm": {
     "name": "#%%\n"
    }
   }
  },
  {
   "cell_type": "markdown",
   "source": [
    "<a id=\"2\"></a>\n",
    "# Codercise I.6.2 - Plotting RX"
   ],
   "metadata": {
    "collapsed": false
   }
  },
  {
   "cell_type": "code",
   "execution_count": null,
   "outputs": [],
   "source": [
    "dev = qml.device(\"default.qubit\", wires=1)\n",
    "\n",
    "\n",
    "@qml.qnode(dev)\n",
    "def apply_rx(theta, state):\n",
    "    \"\"\"Apply an RX gate with an angle of theta to a particular basis state.\n",
    "\n",
    "    Args:\n",
    "        theta (float): A rotation angle.\n",
    "        state (int): Either 0 or 1. If 1, initialize the qubit to state |1>\n",
    "            before applying other operations.\n",
    "\n",
    "    Returns:\n",
    "        np.array[complex]: The state of the qubit after the operations.\n",
    "    \"\"\"\n",
    "    if state == 1:\n",
    "        qml.PauliX(wires=0)\n",
    "\n",
    "    # APPLY RX(theta) AND RETURN THE STATE\n",
    "    qml.RX(theta, wires=0)\n",
    "\n",
    "    return qml.state()\n",
    "\n",
    "\n",
    "# Code for plotting\n",
    "angles = np.linspace(0, 4 * np.pi, 200)\n",
    "output_states = np.array([apply_rx(t, 0) for t in angles])\n",
    "\n",
    "plot = plotter(angles, output_states)\n"
   ],
   "metadata": {
    "collapsed": false,
    "pycharm": {
     "name": "#%%\n"
    }
   }
  },
  {
   "cell_type": "markdown",
   "source": [
    "![plot](./images/Codercise_I.6.2_Plotting_RX.png)"
   ],
   "metadata": {
    "collapsed": false
   }
  },
  {
   "cell_type": "markdown",
   "source": [
    "<a id=\"3\"></a>\n",
    "# Codercise I.6.3 - Plotting RY"
   ],
   "metadata": {
    "collapsed": false
   }
  },
  {
   "cell_type": "code",
   "execution_count": null,
   "outputs": [],
   "source": [
    "dev = qml.device(\"default.qubit\", wires=1)\n",
    "\n",
    "\n",
    "@qml.qnode(dev)\n",
    "def apply_ry(theta, state):\n",
    "    \"\"\"Apply an RY gate with an angle of theta to a particular basis state.\n",
    "\n",
    "    Args:\n",
    "        theta (float): A rotation angle.\n",
    "        state (int): Either 0 or 1. If 1, initialize the qubit to state |1>\n",
    "            before applying other operations.\n",
    "\n",
    "    Returns:\n",
    "        np.array[complex]: The state of the qubit after the operations.\n",
    "    \"\"\"\n",
    "    if state == 1:\n",
    "        qml.PauliX(wires=0)\n",
    "\n",
    "\n",
    "    # APPLY RY(theta) AND RETURN THE STATE\n",
    "    qml.RY(theta, wires=0)\n",
    "\n",
    "    return qml.state()\n",
    "\n",
    "\n",
    "# Code for plotting\n",
    "angles = np.linspace(0, 4 * np.pi, 200)\n",
    "output_states = np.array([apply_ry(t, 0) for t in angles])\n",
    "\n",
    "plot = plotter(angles, output_states)"
   ],
   "metadata": {
    "collapsed": false,
    "pycharm": {
     "name": "#%%\n"
    }
   }
  },
  {
   "cell_type": "markdown",
   "source": [
    "![plot](./images/Codercise_I.6.3_Plotting_RY.png)"
   ],
   "metadata": {
    "collapsed": false
   }
  },
  {
   "cell_type": "code",
   "execution_count": null,
   "outputs": [],
   "source": [],
   "metadata": {
    "collapsed": false,
    "pycharm": {
     "name": "#%%\n"
    }
   }
  }
 ],
 "metadata": {
  "kernelspec": {
   "display_name": "Python 3",
   "language": "python",
   "name": "python3"
  },
  "language_info": {
   "codemirror_mode": {
    "name": "ipython",
    "version": 2
   },
   "file_extension": ".py",
   "mimetype": "text/x-python",
   "name": "python",
   "nbconvert_exporter": "python",
   "pygments_lexer": "ipython2",
   "version": "2.7.6"
  }
 },
 "nbformat": 4,
 "nbformat_minor": 0
}