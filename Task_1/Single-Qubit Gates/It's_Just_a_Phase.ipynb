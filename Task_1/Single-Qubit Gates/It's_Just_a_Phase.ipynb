{
 "cells": [
  {
   "cell_type": "markdown",
   "metadata": {
    "collapsed": true,
    "pycharm": {
     "name": "#%% md\n"
    }
   },
   "source": [
    "# It's Just a Phase\n",
    "<a id=\"0\"></a> <br>\n",
    "1. [Codercise I.5.1 - The Pauli Z gate](#1)\n",
    "2. [Codercise I.5.2 - The Z Rotation](#2)\n",
    "3. [Codercise I.5.3 - The S and T gates](#3)"
   ]
  },
  {
   "cell_type": "code",
   "execution_count": 1,
   "outputs": [],
   "source": [
    "import numpy as np\n",
    "import pennylane as qml\n",
    "import math"
   ],
   "metadata": {
    "collapsed": false,
    "pycharm": {
     "name": "#%%\n"
    }
   }
  },
  {
   "cell_type": "markdown",
   "source": [
    "<a id=\"1\"></a>\n",
    "# Codercise I.5.1 - The Pauli Z gate"
   ],
   "metadata": {
    "collapsed": false,
    "pycharm": {
     "name": "#%% md\n"
    }
   }
  },
  {
   "cell_type": "code",
   "execution_count": 4,
   "outputs": [
    {
     "name": "stdout",
     "output_type": "stream",
     "text": [
      "[ 0.70710678+0.j -0.70710678+0.j]\n"
     ]
    }
   ],
   "source": [
    "dev = qml.device(\"default.qubit\", wires=1)\n",
    "\n",
    "@qml.qnode(dev)\n",
    "def apply_z_to_plus():\n",
    "    \"\"\"Write a circuit that applies PauliZ to the |+> state and returns\n",
    "    the state.\n",
    "\n",
    "    Returns:\n",
    "        array[complex]: The state of the qubit after the operations.\n",
    "    \"\"\"\n",
    "    # CREATE THE |+> STATE\n",
    "    qml.Hadamard(0)\n",
    "    # APPLY PAULI Z\n",
    "    qml.PauliZ(0)\n",
    "    # RETURN THE STATE\n",
    "    return qml.state()\n",
    "\n",
    "print(apply_z_to_plus())"
   ],
   "metadata": {
    "collapsed": false,
    "pycharm": {
     "name": "#%%\n"
    }
   }
  },
  {
   "cell_type": "markdown",
   "source": [
    "<a id=\"2\"></a>\n",
    "# Codercise I.5.2 -The Z Rotation"
   ],
   "metadata": {
    "collapsed": false,
    "pycharm": {
     "name": "#%% md\n"
    }
   }
  },
  {
   "cell_type": "code",
   "execution_count": 2,
   "outputs": [],
   "source": [
    "dev = qml.device(\"default.qubit\", wires=1)\n",
    "\n",
    "@qml.qnode(dev)\n",
    "def fake_z():\n",
    "    \"\"\"Use RZ to produce the same action as Pauli Z on the |+> state.\n",
    "\n",
    "    Returns:\n",
    "        array[complex]: The state of the qubit after the operations.\n",
    "    \"\"\"\n",
    "    # CREATE THE |+> STATE\n",
    "    qml.Hadamard(0)\n",
    "    # APPLY RZ\n",
    "    qml.RZ(np.pi, 0)\n",
    "    # RETURN THE STATE\n",
    "    return qml.state()"
   ],
   "metadata": {
    "collapsed": false,
    "pycharm": {
     "name": "#%%\n"
    }
   }
  },
  {
   "cell_type": "markdown",
   "source": [
    "<a id=\"3\"></a>\n",
    "# Codercise I.5.3 - The S and T gates"
   ],
   "metadata": {
    "collapsed": false,
    "pycharm": {
     "name": "#%% md\n"
    }
   }
  },
  {
   "cell_type": "code",
   "source": [
    "dev = qml.device(\"default.qubit\", wires=1)\n",
    "\n",
    "@qml.qnode(dev)\n",
    "def many_rotations():\n",
    "    \"\"\"Implement the circuit depicted above and return the quantum state.\n",
    "\n",
    "    Returns:\n",
    "        array[complex]: The state of the qubit after the operations.\n",
    "    \"\"\"\n",
    "    # IMPLEMENT THE CIRCUIT\n",
    "    qml.Hadamard(0)\n",
    "    qml.S(0)\n",
    "    qml.adjoint(qml.T)(wires=0)\n",
    "    qml.RZ(0.3, wires=0)\n",
    "    qml.adjoint(qml.S)(wires=0)\n",
    "\n",
    "    # RETURN THE STATE\n",
    "    return qml.state()"
   ],
   "metadata": {
    "collapsed": false,
    "pycharm": {
     "name": "#%%\n"
    }
   },
   "execution_count": 11,
   "outputs": []
  },
  {
   "cell_type": "markdown",
   "source": [
    "**Codercise I.5.4.**\n",
    " The  gate plays an important role in more advanced quantum computing topics; specifically, it is a required operation in some fault-tolerant frameworks. However, it is much more resource intensive to implement in those frameworks than other gates, and therefore a common task in quantum circuit design is minimization of the T-count and T-depth (i.e., the number of layers of depth in a circuit which contain a T/T*). Many such tools for optimizing quantum circuits are automated, however we can work out a simple example by hand. Suppose that we want to implement the following circuit:\n",
    " ![circuit](./images/I.5.4.png)\n",
    " That’s an awful lot of s! Implement this same circuit in PennyLane as a QNode just_enough_ts, but minimize the number of  gates by replacing sequences of them with other gates that have the same effect. Using the gates you learned before, how much can you simplify this circuit?\n",
    "\n",
    "Then, answer the following questions:\n",
    "\n",
    "* What are the original -count, -depth, and regular depth?\n",
    "* What is the optimal -count?\n",
    "* What are the optimal depth and -depth of the resulting circuit?\n",
    "Record your answers in the variables provided in the code block below.\n",
    "\n",
    "Tip. Recall that operations can be applied to different qubits by specifying the desired index in the wires variable.\n",
    "[device and circuit information documentation](https://pennylane.ai/blog/2022/10/how-to-get-device-and-circuit-information/)\n"
   ],
   "metadata": {
    "collapsed": false,
    "pycharm": {
     "name": "#%% md\n"
    }
   }
  },
  {
   "cell_type": "code",
   "execution_count": 41,
   "outputs": [
    {
     "name": "stdout",
     "output_type": "stream",
     "text": [
      "[9.53335322e-33 2.88889492e-34 1.37043116e-32 2.28090690e-33\n",
      " 3.75000000e-01 1.25000000e-01 3.75000000e-01 1.25000000e-01]\n",
      "[0.    0.    0.    0.    0.375 0.125 0.375 0.125]\n",
      "{'gate_sizes': defaultdict(<class 'int'>, {1: 22}), 'gate_types': defaultdict(<class 'int'>, {'Hadamard': 9, 'T': 7, 'Adjoint(T)': 6}), 'num_operations': 22, 'num_observables': 1, 'num_diagonalizing_gates': 0, 'num_used_wires': 3, 'depth': 8, 'num_trainable_params': 0, 'num_device_wires': 3, 'device_name': 'default.qubit.autograd', 'expansion_strategy': 'gradient', 'gradient_options': {}, 'interface': 'autograd', 'diff_method': 'best', 'gradient_fn': 'backprop'}\n"
     ]
    },
    {
     "data": {
      "text/plain": "<Figure size 792x288 with 1 Axes>",
      "image/png": "[encoded data removed]"
     },
     "metadata": {},
     "output_type": "display_data"
    },
    {
     "data": {
      "text/plain": "<Figure size 648x288 with 1 Axes>",
      "image/png": "[encoded data removed]"
     },
     "metadata": {},
     "output_type": "display_data"
    }
   ],
   "source": [
    "dev = qml.device('default.qubit', wires=3)\n",
    "\n",
    "@qml.qnode(dev)\n",
    "def too_many_ts():\n",
    "    \"\"\"You can implement the original circuit here as well, it may help you with\n",
    "    testing to ensure that the circuits have the same effect.\n",
    "\n",
    "    Returns:\n",
    "        array[float]: The measurement outcome probabilities.\n",
    "    \"\"\"\n",
    "    for i in range(3):\n",
    "       qml.Hadamard(i)\n",
    "    for i in range(2):\n",
    "        qml.T(i)\n",
    "    qml.adjoint(qml.T)(wires = 2)\n",
    "    qml.T(0)\n",
    "    for i in range(3):\n",
    "        qml.Hadamard(i)\n",
    "    for i in range(2):\n",
    "        qml.adjoint(qml.T)(wires = 0)\n",
    "        qml.T(1)\n",
    "        qml.adjoint(qml.T)(wires = 2)\n",
    "    qml.T(1)\n",
    "    qml.T(1)\n",
    "    qml.adjoint(qml.T)(wires = 2)\n",
    "    for i in range(3):\n",
    "        qml.Hadamard(i)\n",
    "\n",
    "    return qml.probs(wires=[0, 1, 2])\n",
    "\n",
    "@qml.qnode(dev)\n",
    "def just_enough_ts():\n",
    "    \"\"\"Implement an equivalent circuit as the above with the minimum number of\n",
    "    T and T^\\dagger gates required.\n",
    "\n",
    "    Returns:\n",
    "        array[float]: The measurement outcome probabilities.\n",
    "    \"\"\"\n",
    "\n",
    "    # IMPLEMENT THE CIRCUIT, BUT COMBINE AND OPTIMIZE THE GATES\n",
    "    # TO MINIMIZE THE NUMBER OF TS\n",
    "    for i in range(3):\n",
    "        qml.Hadamard(i)\n",
    "    qml.S(0)\n",
    "    qml.T(1)\n",
    "    qml.adjoint(qml.T)(wires = 2)\n",
    "\n",
    "    for i in range(3):\n",
    "        qml.Hadamard(i)\n",
    "    qml.adjoint(qml.S)(wires = 0)\n",
    "    qml.PauliZ(1)\n",
    "    qml.adjoint(qml.S)(wires = 2)\n",
    "    qml.adjoint(qml.T)(wires = 2)\n",
    "    for i in range(3):\n",
    "        qml.Hadamard(i)\n",
    "\n",
    "\n",
    "    return qml.probs(wires=[0, 1, 2])\n",
    "\n",
    "print(too_many_ts())\n",
    "print(just_enough_ts())\n",
    "print(qml.specs(too_many_ts)())\n",
    "qml.draw_mpl(too_many_ts)()\n",
    "qml.draw_mpl(just_enough_ts)()\n",
    "\n",
    "# FILL IN THE CORRECT VALUES FOR THE ORIGINAL CIRCUIT\n",
    "original_depth = 8\n",
    "original_t_count = 13\n",
    "original_t_depth = 6\n",
    "\n",
    "# FILL IN THE CORRECT VALUES FOR THE NEW, OPTIMIZED CIRCUIT\n",
    "optimal_depth = 6\n",
    "optimal_t_count = 3\n",
    "optimal_t_depth = 2"
   ],
   "metadata": {
    "collapsed": false,
    "pycharm": {
     "name": "#%%\n"
    }
   }
  },
  {
   "cell_type": "markdown",
   "source": [
    "The depth of the original circuit is 8, and there are 13 combined `T`  and `T*` gates. The original `T`-depth is 6.\n",
    "\n",
    "We can replace pairs of `T` with `S` (and pairs of `T*` with `S*` ). You can see this by multiplying out the matrix representation of `T`, or just by considering that these are all special cases of `RZ` rotations, and the angles of the rotation combine additively. If ever there are four `T`, we can replace this with an `Z` (since two `S` make a `Z`). Thus, we obtain the circuit below:\n",
    "The new depth is 6, the `T`-count is 3, and the `T`-depth is 2."
   ],
   "metadata": {
    "collapsed": false,
    "pycharm": {
     "name": "#%% md\n"
    }
   }
  },
  {
   "cell_type": "code",
   "execution_count": null,
   "outputs": [],
   "source": [],
   "metadata": {
    "collapsed": false,
    "pycharm": {
     "name": "#%%\n"
    }
   }
  }
 ],
 "metadata": {
  "kernelspec": {
   "display_name": "Python 3",
   "language": "python",
   "name": "python3"
  },
  "language_info": {
   "codemirror_mode": {
    "name": "ipython",
    "version": 2
   },
   "file_extension": ".py",
   "mimetype": "text/x-python",
   "name": "python",
   "nbconvert_exporter": "python",
   "pygments_lexer": "ipython2",
   "version": "2.7.6"
  }
 },
 "nbformat": 4,
 "nbformat_minor": 0
}