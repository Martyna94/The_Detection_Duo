{
 "cells": [
  {
   "cell_type": "markdown",
   "source": [
    "# We've Got It Under Control\n",
    "\n",
    "<a id=\"0\"></a> <br>\n",
    "1. [Codercise I.13.1 - The imposter CZ](#1)\n",
    "2. [Codercise I.13.2  - The SWAP gate](#2)\n",
    "3. [Codercise I.13.3 - The Toffoli gate](#3)\n",
    "4. [Codercise I.13.4 - Mixed Controlled Gates](#4)\n",
    "5. [Codercise I.13.5 - The 3-controlled_NOT](#5)"
   ],
   "metadata": {
    "collapsed": false
   }
  },
  {
   "cell_type": "code",
   "execution_count": 1,
   "outputs": [],
   "source": [
    "import numpy as np\n",
    "import pennylane as qml"
   ],
   "metadata": {
    "collapsed": false,
    "pycharm": {
     "name": "#%%\n"
    }
   }
  },
  {
   "cell_type": "markdown",
   "source": [
    "<a id=\"1\"></a>\n",
    "# Codercise I.13.1 - The imposter CZ"
   ],
   "metadata": {
    "collapsed": false
   }
  },
  {
   "cell_type": "code",
   "execution_count": null,
   "outputs": [],
   "source": [
    "dev = qml.device(\"default.qubit\", wires=2)\n",
    "\n",
    "# Prepare a two-qubit state; change up the angles if you like\n",
    "phi, theta, omega = 1.2, 2.3, 3.4\n",
    "\n",
    "\n",
    "@qml.qnode(device=dev)\n",
    "def true_cz(phi, theta, omega):\n",
    "    prepare_states(phi, theta, omega)\n",
    "    # IMPLEMENT THE REGULAR CZ GATE HERE\n",
    "    qml.CZ(wires=[0,1])\n",
    "\n",
    "    return qml.state()\n",
    "\n",
    "\n",
    "@qml.qnode(dev)\n",
    "def imposter_cz(phi, theta, omega):\n",
    "    prepare_states(phi, theta, omega)\n",
    "\n",
    "    # IMPLEMENT CZ USING ONLY H AND CNOT\n",
    "    qml.Hadamard(1)\n",
    "    qml.CNOT(wires=[0,1])\n",
    "    qml.Hadamard(1)\n",
    "\n",
    "    return qml.state()\n",
    "\n",
    "\n",
    "print(f\"True CZ output state {true_cz(phi, theta, omega)}\")\n",
    "print(f\"Imposter CZ output state {imposter_cz(phi, theta, omega)}\")"
   ],
   "metadata": {
    "collapsed": false,
    "pycharm": {
     "name": "#%%\n"
    }
   }
  },
  {
   "cell_type": "markdown",
   "source": [
    "\n",
    "<a id=\"2\"></a>\n",
    "# Codercise I.13.2  - The SWAP gate"
   ],
   "metadata": {
    "collapsed": false
   }
  },
  {
   "cell_type": "code",
   "execution_count": null,
   "outputs": [],
   "source": [
    "dev = qml.device(\"default.qubit\", wires=2)\n",
    "\n",
    "# Prepare a two-qubit state; change up the angles if you like\n",
    "phi, theta, omega = 1.2, 2.3, 3.4\n",
    "\n",
    "\n",
    "@qml.qnode(dev)\n",
    "def apply_swap(phi, theta, omega):\n",
    "    prepare_states(phi, theta, omega)\n",
    "\n",
    "    # IMPLEMENT THE REGULAR SWAP GATE HERE\n",
    "    qml.SWAP(wires=[0,1])\n",
    "\n",
    "    return qml.state()\n",
    "\n",
    "\n",
    "@qml.qnode(dev)\n",
    "def apply_swap_with_cnots(phi, theta, omega):\n",
    "    prepare_states(phi, theta, omega)\n",
    "\n",
    "    # IMPLEMENT THE SWAP GATE USING A SEQUENCE OF CNOTS\n",
    "    qml.CNOT(wires=[0,1])\n",
    "    qml.CNOT(wires=[1,0])\n",
    "    qml.CNOT(wires=[0,1])\n",
    "\n",
    "    return qml.state()\n",
    "\n",
    "\n",
    "print(f\"Regular SWAP state = {apply_swap(phi, theta, omega)}\")\n",
    "print(f\"CNOT SWAP state = {apply_swap_with_cnots(phi, theta, omega)}\")\n"
   ],
   "metadata": {
    "collapsed": false,
    "pycharm": {
     "name": "#%%\n"
    }
   }
  },
  {
   "cell_type": "markdown",
   "source": [
    "\n",
    "<a id=\"3\"></a>\n",
    "# Codercise I.13.3 - The Toffoli gate"
   ],
   "metadata": {
    "collapsed": false
   }
  },
  {
   "cell_type": "code",
   "execution_count": 2,
   "outputs": [
    {
     "ename": "NameError",
     "evalue": "name 'prepare_states' is not defined",
     "output_type": "error",
     "traceback": [
      "\u001B[1;31m---------------------------------------------------------------------------\u001B[0m",
      "\u001B[1;31mNameError\u001B[0m                                 Traceback (most recent call last)",
      "Cell \u001B[1;32mIn[2], line 26\u001B[0m\n\u001B[0;32m     21\u001B[0m     qml\u001B[38;5;241m.\u001B[39mToffoli(wires\u001B[38;5;241m=\u001B[39m[\u001B[38;5;241m0\u001B[39m,\u001B[38;5;241m1\u001B[39m,\u001B[38;5;241m2\u001B[39m])\n\u001B[0;32m     23\u001B[0m     \u001B[38;5;28;01mreturn\u001B[39;00m qml\u001B[38;5;241m.\u001B[39mstate()\n\u001B[1;32m---> 26\u001B[0m \u001B[38;5;28mprint\u001B[39m(\u001B[43mno_swap\u001B[49m\u001B[43m(\u001B[49m\u001B[43mphi\u001B[49m\u001B[43m,\u001B[49m\u001B[43m \u001B[49m\u001B[43mtheta\u001B[49m\u001B[43m,\u001B[49m\u001B[43m \u001B[49m\u001B[43momega\u001B[49m\u001B[43m)\u001B[49m)\n\u001B[0;32m     27\u001B[0m \u001B[38;5;28mprint\u001B[39m(controlled_swap(phi, theta, omega))\n",
      "File \u001B[1;32m~\\anaconda3\\envs\\Womanium_Project\\lib\\site-packages\\pennylane\\workflow\\qnode.py:1092\u001B[0m, in \u001B[0;36mQNode.__call__\u001B[1;34m(self, *args, **kwargs)\u001B[0m\n\u001B[0;32m   1089\u001B[0m     override_shots \u001B[38;5;241m=\u001B[39m kwargs[\u001B[38;5;124m\"\u001B[39m\u001B[38;5;124mshots\u001B[39m\u001B[38;5;124m\"\u001B[39m]\n\u001B[0;32m   1091\u001B[0m \u001B[38;5;66;03m# construct the tape\u001B[39;00m\n\u001B[1;32m-> 1092\u001B[0m \u001B[38;5;28;43mself\u001B[39;49m\u001B[38;5;241;43m.\u001B[39;49m\u001B[43mconstruct\u001B[49m\u001B[43m(\u001B[49m\u001B[43margs\u001B[49m\u001B[43m,\u001B[49m\u001B[43m \u001B[49m\u001B[43mkwargs\u001B[49m\u001B[43m)\u001B[49m\n\u001B[0;32m   1094\u001B[0m original_grad_fn \u001B[38;5;241m=\u001B[39m [\u001B[38;5;28mself\u001B[39m\u001B[38;5;241m.\u001B[39mgradient_fn, \u001B[38;5;28mself\u001B[39m\u001B[38;5;241m.\u001B[39mgradient_kwargs, \u001B[38;5;28mself\u001B[39m\u001B[38;5;241m.\u001B[39mdevice]\n\u001B[0;32m   1095\u001B[0m \u001B[38;5;28mself\u001B[39m\u001B[38;5;241m.\u001B[39m_update_gradient_fn(shots\u001B[38;5;241m=\u001B[39moverride_shots, tape\u001B[38;5;241m=\u001B[39m\u001B[38;5;28mself\u001B[39m\u001B[38;5;241m.\u001B[39m_tape)\n",
      "File \u001B[1;32m~\\anaconda3\\envs\\Womanium_Project\\lib\\site-packages\\pennylane\\workflow\\qnode.py:929\u001B[0m, in \u001B[0;36mQNode.construct\u001B[1;34m(self, args, kwargs)\u001B[0m\n\u001B[0;32m    926\u001B[0m     \u001B[38;5;28mself\u001B[39m\u001B[38;5;241m.\u001B[39minterface \u001B[38;5;241m=\u001B[39m qml\u001B[38;5;241m.\u001B[39mmath\u001B[38;5;241m.\u001B[39mget_interface(\u001B[38;5;241m*\u001B[39margs, \u001B[38;5;241m*\u001B[39m\u001B[38;5;28mlist\u001B[39m(kwargs\u001B[38;5;241m.\u001B[39mvalues()))\n\u001B[0;32m    928\u001B[0m \u001B[38;5;28;01mwith\u001B[39;00m qml\u001B[38;5;241m.\u001B[39mqueuing\u001B[38;5;241m.\u001B[39mAnnotatedQueue() \u001B[38;5;28;01mas\u001B[39;00m q:\n\u001B[1;32m--> 929\u001B[0m     \u001B[38;5;28mself\u001B[39m\u001B[38;5;241m.\u001B[39m_qfunc_output \u001B[38;5;241m=\u001B[39m \u001B[38;5;28mself\u001B[39m\u001B[38;5;241m.\u001B[39mfunc(\u001B[38;5;241m*\u001B[39margs, \u001B[38;5;241m*\u001B[39m\u001B[38;5;241m*\u001B[39mkwargs)\n\u001B[0;32m    931\u001B[0m \u001B[38;5;28mself\u001B[39m\u001B[38;5;241m.\u001B[39m_tape \u001B[38;5;241m=\u001B[39m QuantumScript\u001B[38;5;241m.\u001B[39mfrom_queue(q, shots)\n\u001B[0;32m    933\u001B[0m params \u001B[38;5;241m=\u001B[39m \u001B[38;5;28mself\u001B[39m\u001B[38;5;241m.\u001B[39mtape\u001B[38;5;241m.\u001B[39mget_parameters(trainable_only\u001B[38;5;241m=\u001B[39m\u001B[38;5;28;01mFalse\u001B[39;00m)\n",
      "Cell \u001B[1;32mIn[2], line 11\u001B[0m, in \u001B[0;36mno_swap\u001B[1;34m(phi, theta, omega)\u001B[0m\n\u001B[0;32m      9\u001B[0m \u001B[38;5;129m@qml\u001B[39m\u001B[38;5;241m.\u001B[39mqnode(dev)\n\u001B[0;32m     10\u001B[0m \u001B[38;5;28;01mdef\u001B[39;00m \u001B[38;5;21mno_swap\u001B[39m(phi, theta, omega):\n\u001B[1;32m---> 11\u001B[0m     \u001B[43mprepare_states\u001B[49m(phi, theta, omega)\n\u001B[0;32m     12\u001B[0m     \u001B[38;5;28;01mreturn\u001B[39;00m qml\u001B[38;5;241m.\u001B[39mstate()\n",
      "\u001B[1;31mNameError\u001B[0m: name 'prepare_states' is not defined"
     ]
    }
   ],
   "source": [
    "dev = qml.device(\"default.qubit\", wires=3)\n",
    "\n",
    "# Prepare first qubit in |1>, and arbitrary states on the second two qubits\n",
    "phi, theta, omega = 1.2, 2.3, 3.4\n",
    "\n",
    "\n",
    "# A helper function just so you can visualize the initial state\n",
    "# before the controlled SWAP occurs.\n",
    "@qml.qnode(dev)\n",
    "def no_swap(phi, theta, omega):\n",
    "    prepare_states(phi, theta, omega)\n",
    "    return qml.state()\n",
    "\n",
    "\n",
    "@qml.qnode(dev)\n",
    "def controlled_swap(phi, theta, omega):\n",
    "    prepare_states(phi, theta, omega)\n",
    "\n",
    "    qml.Toffoli(wires=[0,1,2])\n",
    "    qml.Toffoli(wires=[0,2,1])\n",
    "    qml.Toffoli(wires=[0,1,2])\n",
    "\n",
    "    return qml.state()\n",
    "\n",
    "\n",
    "print(no_swap(phi, theta, omega))\n",
    "print(controlled_swap(phi, theta, omega))\n"
   ],
   "metadata": {
    "collapsed": false,
    "pycharm": {
     "name": "#%%\n"
    }
   }
  },
  {
   "cell_type": "markdown",
   "source": [
    "<a id=\"4\"></a>\n",
    "# Codercise I.13.4 - Mixed Controlled Gates"
   ],
   "metadata": {
    "collapsed": false
   }
  },
  {
   "cell_type": "code",
   "execution_count": 5,
   "outputs": [
    {
     "name": "stdout",
     "output_type": "stream",
     "text": [
      "[0.35355339+0.j 0.        +0.j 0.        +0.j 0.35355339+0.j\n",
      " 0.35355339+0.j 0.        +0.j 0.35355339+0.j 0.        +0.j\n",
      " 0.35355339+0.j 0.        +0.j 0.35355339+0.j 0.        +0.j\n",
      " 0.35355339+0.j 0.        +0.j 0.35355339+0.j 0.        +0.j]\n"
     ]
    }
   ],
   "source": [
    "dev = qml.device(\"default.qubit\", wires=4)\n",
    "\n",
    "\n",
    "@qml.qnode(dev)\n",
    "def four_qubit_mcx():\n",
    "    # IMPLEMENT THE CIRCUIT ABOVE USING A 4-QUBIT MULTI-CONTROLLED X\n",
    "    for i in range(3):\n",
    "        qml.Hadamard(i)\n",
    "\n",
    "    qml.MultiControlledX(wires=(0,1,2,3), control_values='001')\n",
    "\n",
    "    return qml.state()\n",
    "\n",
    "\n",
    "print(four_qubit_mcx())\n"
   ],
   "metadata": {
    "collapsed": false,
    "pycharm": {
     "name": "#%%\n"
    }
   }
  },
  {
   "cell_type": "markdown",
   "source": [
    "\n",
    "<a id=\"5\"></a>\n",
    "# Codercise I.13.5 - The 3-controlled_NOT\n"
   ],
   "metadata": {
    "collapsed": false
   }
  },
  {
   "cell_type": "code",
   "execution_count": 4,
   "metadata": {
    "collapsed": true
   },
   "outputs": [
    {
     "name": "stdout",
     "output_type": "stream",
     "text": [
      "[0.+0.j 0.+0.j 0.+0.j 0.+0.j 0.+0.j 0.+0.j 0.+0.j 0.+0.j 0.+0.j 0.+0.j\n",
      " 0.+0.j 0.+0.j 0.+0.j 0.+0.j 0.+0.j 0.+0.j 0.+0.j 0.+0.j 0.+0.j 0.+0.j\n",
      " 0.+0.j 0.+0.j 0.+0.j 0.+0.j 0.+0.j 0.+0.j 0.+0.j 0.+0.j 0.+0.j 1.+0.j\n",
      " 0.+0.j 0.+0.j]\n"
     ]
    }
   ],
   "source": [
    "# Wires 0, 1, 2 are the control qubits\n",
    "# Wire 3 is the auxiliary qubit\n",
    "# Wire 4 is the target\n",
    "dev = qml.device(\"default.qubit\", wires=5)\n",
    "\n",
    "\n",
    "@qml.qnode(dev)\n",
    "def four_qubit_mcx_only_tofs():\n",
    "    # We will initialize the control qubits in state |1> so you can see\n",
    "    # how the output state gets changed.\n",
    "    qml.PauliX(wires=0)\n",
    "    qml.PauliX(wires=1)\n",
    "    qml.PauliX(wires=2)\n",
    "\n",
    "    # IMPLEMENT A 3-CONTROLLED-NOT WITH TOFFOLIS\n",
    "    qml.Toffoli(wires=[0,1,3])\n",
    "    qml.Toffoli(wires=[2,3,4])\n",
    "    qml.Toffoli(wires=[0,1,3])\n",
    "\n",
    "    return qml.state()\n",
    "\n",
    "\n",
    "print(four_qubit_mcx_only_tofs())"
   ]
  },
  {
   "cell_type": "code",
   "execution_count": null,
   "outputs": [],
   "source": [],
   "metadata": {
    "collapsed": false,
    "pycharm": {
     "name": "#%%\n"
    }
   }
  }
 ],
 "metadata": {
  "kernelspec": {
   "display_name": "Python 3",
   "language": "python",
   "name": "python3"
  },
  "language_info": {
   "codemirror_mode": {
    "name": "ipython",
    "version": 2
   },
   "file_extension": ".py",
   "mimetype": "text/x-python",
   "name": "python",
   "nbconvert_exporter": "python",
   "pygments_lexer": "ipython2",
   "version": "2.7.6"
  }
 },
 "nbformat": 4,
 "nbformat_minor": 0
}