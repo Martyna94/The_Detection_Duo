{
 "cells": [
  {
   "cell_type": "markdown",
   "metadata": {
    "collapsed": true,
    "pycharm": {
     "name": "#%% md\n"
    }
   },
   "source": [
    "# Multi_Qubit_Systems\n",
    "\n",
    "<a id=\"0\"></a> <br>\n",
    "1. [Codercise I.11.1 - Preparing basis state](#1)\n",
    "2. [Codercise I.11.2  - Separable Operations](#2)\n",
    "3. [Codercise I.11.3 - Expectation value of two-qubit observable](#3)\n",
    "4. [Codercise I.11.4 - Double Trouble](#4)"
   ]
  },
  {
   "cell_type": "code",
   "execution_count": 2,
   "outputs": [],
   "source": [
    "import numpy as np\n",
    "import pennylane as qml\n",
    "\n",
    "<a id=\"1\"></a>\n",
    "# Codercise I.11.1 - Preparing basis state"
   ],
   "metadata": {
    "collapsed": false,
    "pycharm": {
     "name": "#%%\n"
    }
   }
  },
  {
   "cell_type": "markdown",
   "source": [],
   "metadata": {
    "collapsed": false,
    "pycharm": {
     "name": "#%% md\n"
    }
   }
  },
  {
   "cell_type": "code",
   "execution_count": 3,
   "outputs": [
    {
     "name": "stdout",
     "output_type": "stream",
     "text": [
      "Output state = [0.+0.j 0.+0.j 0.+0.j 1.+0.j 0.+0.j 0.+0.j 0.+0.j 0.+0.j]\n"
     ]
    }
   ],
   "source": [
    "num_wires = 3\n",
    "dev = qml.device(\"default.qubit\", wires=num_wires)\n",
    "\n",
    "\n",
    "@qml.qnode(dev)\n",
    "def make_basis_state(basis_id):\n",
    "    \"\"\"Produce the 3-qubit basis state corresponding to |basis_id>.\n",
    "\n",
    "    Note that the system starts in |000>.\n",
    "\n",
    "    Args:\n",
    "        basis_id (int): An integer value identifying the basis state to construct.\n",
    "\n",
    "    Returns:\n",
    "        np.array[complex]: The computational basis state |basis_id>.\n",
    "    \"\"\"\n",
    "\n",
    "    bits = [int(x) for x in np.binary_repr(basis_id, width=num_wires)]\n",
    "    qml.BasisStatePreparation(bits, wires=[x for x in range(num_wires)])\n",
    "    return qml.state()\n",
    "\n",
    "\n",
    "basis_id = 3\n",
    "print(f\"Output state = {make_basis_state(basis_id)}\")\n"
   ],
   "metadata": {
    "collapsed": false,
    "pycharm": {
     "name": "#%%\n"
    }
   }
  },
  {
   "cell_type": "markdown",
   "source": [
    "\n",
    "<a id=\"2\"></a>\n",
    "# Codercise I.11.2  - Separable Operations"
   ],
   "metadata": {
    "collapsed": false
   }
  },
  {
   "cell_type": "code",
   "execution_count": 4,
   "outputs": [
    {
     "name": "stdout",
     "output_type": "stream",
     "text": [
      "(tensor(0., requires_grad=True), tensor(-1., requires_grad=True))\n"
     ]
    }
   ],
   "source": [
    "# Creates a device with *two* qubits\n",
    "dev = qml.device(\"default.qubit\", wires=2)\n",
    "\n",
    "\n",
    "@qml.qnode(dev)\n",
    "def two_qubit_circuit():\n",
    "    # PREPARE |+>|1>\n",
    "    qml.Hadamard(0)\n",
    "    qml.PauliX(1)\n",
    "    # RETURN TWO EXPECTATION VALUES, Y ON FIRST QUBIT, Z ON SECOND QUBIT\n",
    "\n",
    "    return (qml.expval(qml.PauliY(0)), qml.expval(qml.PauliZ(1)))\n",
    "\n",
    "\n",
    "print(two_qubit_circuit())\n"
   ],
   "metadata": {
    "collapsed": false,
    "pycharm": {
     "name": "#%%\n"
    }
   }
  },
  {
   "cell_type": "markdown",
   "source": [
    "\n",
    "<a id=\"3\"></a>\n",
    "# Codercise I.11.3 - Expectation value of two-qubit observable"
   ],
   "metadata": {
    "collapsed": false
   }
  },
  {
   "cell_type": "code",
   "execution_count": 5,
   "outputs": [
    {
     "name": "stdout",
     "output_type": "stream",
     "text": [
      "0.9999999999999996\n"
     ]
    }
   ],
   "source": [
    "dev = qml.device(\"default.qubit\", wires=2)\n",
    "\n",
    "\n",
    "@qml.qnode(dev)\n",
    "def create_one_minus():\n",
    "    ##################\n",
    "    # YOUR CODE HERE #\n",
    "    ##################\n",
    "\n",
    "    # PREPARE |1>|->\n",
    "    qml.PauliX(0)\n",
    "    qml.PauliX(1)\n",
    "    qml.Hadamard(1)\n",
    "    # RETURN A SINGLE EXPECTATION VALUE Z \\otimes X\n",
    "    expect_value = qml.expval(qml.PauliZ(0)@qml.PauliX(1))\n",
    "\n",
    "    return expect_value\n",
    "\n",
    "\n",
    "print(create_one_minus())\n"
   ],
   "metadata": {
    "collapsed": false,
    "pycharm": {
     "name": "#%%\n"
    }
   }
  },
  {
   "cell_type": "markdown",
   "source": [
    "\n",
    "<a id=\"4\"></a>\n",
    "# Codercise I.11.4 - Double Trouble"
   ],
   "metadata": {
    "collapsed": false
   }
  },
  {
   "cell_type": "code",
   "execution_count": null,
   "outputs": [],
   "source": [
    "dev = qml.device(\"default.qubit\", wires=2)\n",
    "\n",
    "\n",
    "@qml.qnode(dev)\n",
    "def circuit_1(theta):\n",
    "    \"\"\"Implement the circuit and measure Z I and I Z.\n",
    "\n",
    "    Args:\n",
    "        theta (float): a rotation angle.\n",
    "\n",
    "    Returns:\n",
    "        float, float: The expectation values of the observables Z I, and I Z\n",
    "    \"\"\"\n",
    "    qml.RX(theta, wires=0)\n",
    "    qml.RY(2*theta, wires=1)\n",
    "\n",
    "    return (qml.expval(qml.PauliZ(0)),qml.expval(qml.PauliZ(1)))\n",
    "\n",
    "\n",
    "@qml.qnode(dev)\n",
    "def circuit_2(theta):\n",
    "    \"\"\"Implement the circuit and measure Z Z.\n",
    "\n",
    "    Args:\n",
    "        theta (float): a rotation angle.\n",
    "\n",
    "    Returns:\n",
    "        float: The expectation value of the observable Z Z\n",
    "    \"\"\"\n",
    "    qml.RX(theta, wires=0)\n",
    "    qml.RY(2*theta, wires=1)\n",
    "\n",
    "    return qml.expval(qml.PauliZ(0) @ qml.PauliZ(1))\n",
    "\n",
    "\n",
    "def zi_iz_combination(ZI_results, IZ_results):\n",
    "    \"\"\"Implement a function that acts on the ZI and IZ results to\n",
    "    produce the ZZ results. How do you think they should combine?\n",
    "\n",
    "    Args:\n",
    "        ZI_results (np.array[float]): Results from the expectation value of\n",
    "            ZI in circuit_1.\n",
    "        IZ_results (np.array[float]): Results from the expectation value of\n",
    "            IZ in circuit_2.\n",
    "\n",
    "    Returns:\n",
    "        np.array[float]: A combination of ZI_results and IZ_results that\n",
    "        produces results equivalent to measuring ZZ.\n",
    "    \"\"\"\n",
    "\n",
    "    combined_results = np.zeros(len(ZI_results))\n",
    "    combined_results = np.multiply(ZI_results, IZ_results)\n",
    "\n",
    "    return combined_results\n",
    "\n",
    "\n",
    "theta = np.linspace(0, 2 * np.pi, 100)\n",
    "\n",
    "# Run circuit 1, and process the results\n",
    "circuit_1_results = np.array([circuit_1(t) for t in theta])\n",
    "\n",
    "ZI_results = circuit_1_results[:, 0]\n",
    "IZ_results = circuit_1_results[:, 1]\n",
    "combined_results = zi_iz_combination(ZI_results, IZ_results)\n",
    "\n",
    "# Run circuit 2\n",
    "ZZ_results = np.array([circuit_2(t) for t in theta])\n",
    "\n",
    "# Plot your results\n",
    "plot = plotter(theta, ZI_results, IZ_results, ZZ_results, combined_results)\n"
   ],
   "metadata": {
    "collapsed": false,
    "pycharm": {
     "name": "#%%\n"
    }
   }
  }
 ],
 "metadata": {
  "kernelspec": {
   "display_name": "Python 3",
   "language": "python",
   "name": "python3"
  },
  "language_info": {
   "codemirror_mode": {
    "name": "ipython",
    "version": 2
   },
   "file_extension": ".py",
   "mimetype": "text/x-python",
   "name": "python",
   "nbconvert_exporter": "python",
   "pygments_lexer": "ipython2",
   "version": "2.7.6"
  }
 },
 "nbformat": 4,
 "nbformat_minor": 0
}