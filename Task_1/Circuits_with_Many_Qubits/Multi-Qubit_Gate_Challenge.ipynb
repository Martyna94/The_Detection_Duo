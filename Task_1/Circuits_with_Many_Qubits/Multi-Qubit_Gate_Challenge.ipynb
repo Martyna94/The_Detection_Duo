{
 "cells": [
  {
   "cell_type": "markdown",
   "source": [
    "# Multi-Qubit Gate Challenge\n",
    "\n",
    "<a id=\"0\"></a> <br>\n",
    "1. [Codercise I.14.1 - The Bell states](#1)\n",
    "2. [Codercise I.14.2  - Quantum Multiplexer](#2)\n"
   ],
   "metadata": {
    "collapsed": false
   }
  },
  {
   "cell_type": "code",
   "execution_count": 1,
   "metadata": {
    "collapsed": true
   },
   "outputs": [],
   "source": [
    "import numpy as np\n",
    "import pennylane as qml"
   ]
  },
  {
   "cell_type": "markdown",
   "source": [
    "<a id=\"1\"></a>\n",
    "# Codercise I.14.1 - The Bell states"
   ],
   "metadata": {
    "collapsed": false
   }
  },
  {
   "cell_type": "code",
   "execution_count": 2,
   "outputs": [],
   "source": [
    "dev = qml.device('default.qubit', wires=2)\n",
    "\n",
    "# Starting from the state |00>, implement a PennyLane circuit\n",
    "# to construct each of the Bell basis states.\n",
    "\n",
    "@qml.qnode(dev)\n",
    "def prepare_psi_plus():\n",
    "    # PREPARE (1/sqrt(2)) (|00> + |11>)\n",
    "    qml.Hadamard(wires=0)\n",
    "    qml.CNOT(wires=[0,1])\n",
    "\n",
    "    return qml.state()\n",
    "\n",
    "\n",
    "@qml.qnode(dev)\n",
    "def prepare_psi_minus():\n",
    "    # PREPARE (1/sqrt(2)) (|00> - |11>)\n",
    "    qml.Hadamard(wires=0)\n",
    "    qml.CNOT(wires=[0,1])\n",
    "    qml.PauliZ(wires=0)\n",
    "\n",
    "    # alternative approach\n",
    "    # qml.PauliX(wires=0)\n",
    "    # qml.Hadamard(wires=0)\n",
    "    # qml.CNOT(wires=[0,1])\n",
    "\n",
    "    return qml.state()\n",
    "\n",
    "\n",
    "@qml.qnode(dev)\n",
    "def prepare_phi_plus():\n",
    "    # PREPARE  (1/sqrt(2)) (|01> + |10>)\n",
    "    qml.Hadamard(wires=0)\n",
    "    qml.CNOT(wires=[0,1])\n",
    "    qml.PauliX(wires=1)\n",
    "\n",
    "    # alternative approach\n",
    "    # qml.PauliX(wires=1)\n",
    "    # qml.Hadamard(wires=0)\n",
    "    # qml.CNOT(wires=[0,1])\n",
    "\n",
    "    return qml.state()\n",
    "\n",
    "\n",
    "@qml.qnode(dev)\n",
    "def prepare_phi_minus():\n",
    "    # PREPARE  (1/sqrt(2)) (|01> - |10>)\n",
    "    qml.Hadamard(wires=0)\n",
    "    qml.CNOT(wires=[0,1])\n",
    "    qml.PauliZ(wires=0)\n",
    "    qml.PauliX(wires=1)\n",
    "\n",
    "    # alternative approach\n",
    "    # qml.PauliX(wires=0)\n",
    "    # qml.PauliX(wires=1)\n",
    "    # qml.Hadamard(wires=0)\n",
    "    # qml.CNOT(wires=[0,1])\n",
    "\n",
    "    return qml.state()\n",
    "\n",
    "\n",
    "psi_plus = prepare_psi_plus()\n",
    "psi_minus = prepare_psi_minus()\n",
    "phi_plus = prepare_phi_plus()\n",
    "phi_minus = prepare_phi_minus()\n",
    "\n",
    "# Uncomment to print results\n",
    "#print(f\"|ψ_+> = {psi_plus}\")\n",
    "#print(f\"|ψ_-> = {psi_minus}\")\n",
    "#print(f\"|ϕ_+> = {phi_plus}\")\n",
    "#print(f\"|ϕ_-> = {phi_minus}\")"
   ],
   "metadata": {
    "collapsed": false,
    "pycharm": {
     "name": "#%%\n"
    }
   }
  },
  {
   "cell_type": "markdown",
   "source": [
    "\n",
    "<a id=\"2\"></a>\n",
    "# Codercise I.14.2  - Quantum Multiplexer"
   ],
   "metadata": {
    "collapsed": false
   }
  },
  {
   "cell_type": "code",
   "execution_count": 4,
   "outputs": [
    {
     "name": "stdout",
     "output_type": "stream",
     "text": [
      "[ 0.        +0.j  0.        +0.j -0.70710678+0.j  0.70710678+0.j\n",
      "  0.        +0.j  0.        +0.j  0.        +0.j  0.        +0.j]\n"
     ]
    }
   ],
   "source": [
    "dev = qml.device(\"default.qubit\", wires=3)\n",
    "\n",
    "# State of first 2 qubits\n",
    "state = [0, 1]\n",
    "\n",
    "\n",
    "@qml.qnode(device=dev)\n",
    "def apply_control_sequence(state):\n",
    "    # Set up initial state of the first two qubits\n",
    "    if state[0] == 1:\n",
    "        qml.PauliX(wires=0)\n",
    "    if state[1] == 1:\n",
    "        qml.PauliX(wires=1)\n",
    "\n",
    "    # Set up initial state of the third qubit - use |->\n",
    "    # so we can see the effect on the output\n",
    "    qml.PauliX(wires=2)\n",
    "    qml.Hadamard(wires=2)\n",
    "\n",
    "    # IMPLEMENT THE MULTIPLEXER\n",
    "    # IF STATE OF FIRST TWO QUBITS IS 01, APPLY X TO THIRD QUBIT\n",
    "    qml.MultiControlledX(wires=[0,1,2], control_values='01')\n",
    "\n",
    "    # IF STATE OF FIRST TWO QUBITS IS 10, APPLY Z TO THIRD QUBIT\n",
    "    qml.Hadamard(wires=2)\n",
    "    qml.MultiControlledX(wires=[0,1,2], control_values='10')\n",
    "    qml.Hadamard(wires=2)\n",
    "\n",
    "    # IF STATE OF FIRST TWO QUBITS IS 11, APPLY Y TO THIRD QUBIT\n",
    "    qml.adjoint(qml.S)(wires=2)\n",
    "    qml.Toffoli(wires=[0,1,2])\n",
    "    qml.S(wires=2)\n",
    "\n",
    "\n",
    "    return qml.state()\n",
    "\n",
    "\n",
    "print(apply_control_sequence(state))"
   ],
   "metadata": {
    "collapsed": false,
    "pycharm": {
     "name": "#%%\n"
    }
   }
  },
  {
   "cell_type": "code",
   "execution_count": null,
   "outputs": [],
   "source": [],
   "metadata": {
    "collapsed": false,
    "pycharm": {
     "name": "#%%\n"
    }
   }
  }
 ],
 "metadata": {
  "kernelspec": {
   "display_name": "Python 3",
   "language": "python",
   "name": "python3"
  },
  "language_info": {
   "codemirror_mode": {
    "name": "ipython",
    "version": 2
   },
   "file_extension": ".py",
   "mimetype": "text/x-python",
   "name": "python",
   "nbconvert_exporter": "python",
   "pygments_lexer": "ipython2",
   "version": "2.7.6"
  }
 },
 "nbformat": 4,
 "nbformat_minor": 0
}