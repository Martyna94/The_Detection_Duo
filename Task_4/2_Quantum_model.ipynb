{
 "cells": [
  {
   "cell_type": "markdown",
   "source": [
    "<a id=\"0\"></a>\n",
    "1. [Ansatz](#1)\n",
    "2. [Training](#2)\n",
    "3. [Training for more complicated function](#3)"
   ],
   "metadata": {
    "collapsed": false,
    "pycharm": {
     "name": "#%% md\n"
    }
   }
  },
  {
   "cell_type": "markdown",
   "source": [
    "<a id=\"1\"></a>\n",
    "## Ansatz\n",
    "Here we slightly modify the model. The system is in exactly the same form as proposed in the article [Schuld, Maria et.al \"The effect of data encoding on the expressive power of variational quantum machine learning models\"](https://arxiv.org/abs/2008.08605)."
   ],
   "metadata": {
    "collapsed": false
   }
  },
  {
   "cell_type": "code",
   "execution_count": 1,
   "metadata": {
    "collapsed": true
   },
   "outputs": [
    {
     "data": {
      "text/plain": "(<Figure size 600x200 with 1 Axes>, <Axes: >)"
     },
     "execution_count": 1,
     "metadata": {},
     "output_type": "execute_result"
    },
    {
     "data": {
      "text/plain": "<Figure size 600x200 with 1 Axes>",
      "image/png": "[encoded data removed]"
     },
     "metadata": {},
     "output_type": "display_data"
    }
   ],
   "source": [
    "import pennylane as qml\n",
    "from pennylane import numpy as np\n",
    "\n",
    "dev = qml.device('default.qubit', wires=1)\n",
    "@qml.qnode(dev)\n",
    "def quantum_circuit(x,weights):\n",
    "    # W(θ)\n",
    "    qml.RX(weights[0], wires=0)\n",
    "    # S(x)\n",
    "    qml.RX(x, wires=[0])\n",
    "    # W(θ)\n",
    "    qml.RX(weights[1], wires=0)\n",
    "    return qml.expval(qml.PauliZ(wires=0))\n",
    "\n",
    "\n",
    "weights = [0.2,0.3]\n",
    "x_input = [0.2]\n",
    "quantum_circuit(x_input,weights)\n",
    "qml.draw_mpl(quantum_circuit,style='pennylane')(x_input,weights)"
   ]
  },
  {
   "cell_type": "markdown",
   "source": [
    "<a id=\"2\"></a>\n",
    "## Training"
   ],
   "metadata": {
    "collapsed": false
   }
  },
  {
   "cell_type": "code",
   "execution_count": null,
   "outputs": [],
   "source": [
    "def compute_predictions(X, params):\n",
    "    return [quantum_circuit([x], params) for x in X]\n",
    "\n",
    "def cost_MSE(params, X, Y):\n",
    "    predictions = compute_predictions(X,params)\n",
    "    # mean_squared_error\n",
    "    cost = np.mean((Y - np.stack(predictions)) ** 2)\n",
    "    return cost\n",
    "\n",
    "def training(num_epochs, opt, cost_fn, params, X, Y):\n",
    "    costs = []\n",
    "    for epoch in range(num_epochs):\n",
    "        [params,_,_], prev_cost = opt.step_and_cost(cost_fn,params,X,Y)\n",
    "\n",
    "        current_cost = cost_fn(params, X, Y)\n",
    "        costs.append(current_cost)\n",
    "\n",
    "        print(f\"Epoch: {epoch} | Cost: {current_cost:0.7f}\")\n",
    "\n",
    "    print('Final parameters: ',params)\n",
    "    return params,costs\n"
   ],
   "metadata": {
    "collapsed": false,
    "pycharm": {
     "name": "#%%\n"
    }
   }
  },
  {
   "cell_type": "code",
   "execution_count": null,
   "outputs": [],
   "source": [
    "import pennylane as qml\n",
    "import pennylane.numpy as np\n",
    "from modules.utils import create_data_sin_function\n",
    "\n",
    "X_train, Y_train, X_test, Y_test = create_data_sin_function(1000)\n",
    "\n",
    "num_epochs = 30\n",
    "opt = qml.GradientDescentOptimizer(stepsize=0.1)\n",
    "init_params = np.array([0.1, 0.1], requires_grad=True)\n",
    "final_params,costs = training(num_epochs, opt, cost_MSE,init_params, X_train, Y_train)"
   ],
   "metadata": {
    "collapsed": false,
    "pycharm": {
     "name": "#%%\n"
    }
   }
  },
  {
   "cell_type": "markdown",
   "source": [],
   "metadata": {
    "collapsed": false
   }
  },
  {
   "cell_type": "markdown",
   "source": [
    "Both training processes utilize the same training dataset consisting of 800 samples. The number of epochs, optimizer, learning step size, and parameter initialization were conducted in an identical manner for both experiments.\n",
    "By maintaining the same training data and hyperparameters, we want to conduct a comparison of the two circuits.\n",
    "\n",
    "* Both training processes show a decreasing trend in the cost values over the 30 epochs.\n",
    "* The cost values in both logs decrease significantly, indicating that the training process is effectively minimizing the cost function.\n",
    "* Final Cost Values:\n",
    "    - previous circuit (Circuit 1) training process ends with a final cost of 0.0000065\n",
    "    - above circuit (Circuit 2) training process ends with a final cost of 0.0000060\n",
    "* Metrics:\n",
    "    - mean Cost (Circuit 1): 0.12396128333333335\n",
    "    - mean Cost (Circuit 2): 0.12861971333333333\n",
    "    - standard deviation of Cost (Circuit 1): 0.25247594098020126\n",
    "    - standard Deviation of Cost (Circuit 2): 0.2532554523253833\n",
    "* Final parameters:\n",
    "    - Circuit 1 parameters are [-0.78357105, -0.78357105]\n",
    "    - Circuit 2 parameters are [-0.78366153, -0.78366153]\n",
    "    - the absolute differences between the corresponding parameters of the two circuits are [9.048e-5, 9.048e-5]\n",
    "\n",
    "The analysis shows that both quantum circuits have successfully learned the sine function. The mean cost and standard deviation of cost are similar for both circuits, indicating they perform equally well and train stably. The tiny differences between the final parameters suggest that both circuits ended up with nearly the same solution\n"
   ],
   "metadata": {
    "collapsed": false,
    "pycharm": {
     "name": "#%% md\n"
    }
   }
  },
  {
   "cell_type": "code",
   "execution_count": null,
   "outputs": [],
   "source": [
    "from modules.utils import plot_result\n",
    "\n",
    "test_cost = cost_MSE(final_params, X_test, Y_test)\n",
    "print(f\"Cost (MSE) for training set: {costs[-1]:0.7f}\")\n",
    "print(f\"Cost (MSE) for test set: {test_cost:0.7f}\")\n",
    "test_predictions = compute_predictions(X_test, final_params)\n",
    "\n",
    "plot_result(X_test,Y_test, test_predictions,X_train,Y_train)"
   ],
   "metadata": {
    "collapsed": false,
    "pycharm": {
     "name": "#%%\n"
    }
   }
  },
  {
   "cell_type": "markdown",
   "source": [
    "Similar to the previous model, we achieved excellent fitting accuracy.\n",
    "Unfortunately, our model is only capable of learning a sine function. If we apply it to a more complex function, the model will fail.\n",
    "Additional explanation can be found in the previous file and in the article [Schuld, Maria et.al \"The effect of data encoding on the expressive power of variational quantum machine learning models\"](https://arxiv.org/abs/2008.08605)."
   ],
   "metadata": {
    "collapsed": false,
    "pycharm": {
     "name": "#%% md\n"
    }
   }
  },
  {
   "cell_type": "markdown",
   "source": [
    "<a id=\"3\"></a>\n",
    "## Training for more complicated function\n"
   ],
   "metadata": {
    "collapsed": false
   }
  },
  {
   "cell_type": "code",
   "execution_count": null,
   "outputs": [],
   "source": [
    "import numpy as np\n",
    "import matplotlib.pyplot as plt\n",
    "\n",
    "# Generate a sample signal\n",
    "fs = 1000  # Sampling frequency\n",
    "t = np.linspace(0, 1, fs, endpoint=False)  # Time array\n",
    "f1, f2, f3 = 50, 120, 300  # Frequencies of the sine waves\n",
    "signal = np.sin(2 * np.pi * f1 * t) + 0.5 * np.sin(2 * np.pi * f2 * t) + 0.2 * np.sin(2 * np.pi * f3 * t)\n",
    "\n",
    "# Plot the function\n",
    "plt.figure(figsize=(10, 6))\n",
    "plt.plot(t, signal, color='black', label='Complex Function')\n",
    "plt.title('Complex Sinusoidal Function')\n",
    "plt.xlabel('X')\n",
    "plt.ylabel('Y')\n",
    "plt.legend()\n",
    "plt.grid(True)\n",
    "plt.show()\n",
    "\n",
    "# Compute the Fourier Transform\n",
    "spectrum = np.fft.fft(signal)\n",
    "frequencies = np.fft.fftfreq(len(spectrum), 1/fs)\n",
    "\n",
    "# Plot the frequency spectrum\n",
    "plt.figure(figsize=(10, 6))\n",
    "plt.plot(frequencies[:fs//2], np.abs(spectrum)[:fs//2])  # Plot only the positive frequencies\n",
    "plt.title('Frequency Spectrum')\n",
    "plt.xlabel('Frequency (Hz)')\n",
    "plt.ylabel('Amplitude')\n",
    "plt.grid(True)\n",
    "plt.show()"
   ],
   "metadata": {
    "collapsed": false,
    "pycharm": {
     "name": "#%%\n"
    }
   }
  }
 ],
 "metadata": {
  "kernelspec": {
   "display_name": "Python 3",
   "language": "python",
   "name": "python3"
  },
  "language_info": {
   "codemirror_mode": {
    "name": "ipython",
    "version": 2
   },
   "file_extension": ".py",
   "mimetype": "text/x-python",
   "name": "python",
   "nbconvert_exporter": "python",
   "pygments_lexer": "ipython2",
   "version": "2.7.6"
  }
 },
 "nbformat": 4,
 "nbformat_minor": 0
}